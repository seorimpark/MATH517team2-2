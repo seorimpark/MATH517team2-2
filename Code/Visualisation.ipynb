{
 "cells": [
  {
   "cell_type": "code",
   "execution_count": 1,
   "metadata": {},
   "outputs": [
    {
     "name": "stdout",
     "output_type": "stream",
     "text": [
      "odict_keys(['data_train_DF', 'u_ba', 'u_cnt', 'weights_ba', 'weights_cnt'])\n"
     ]
    }
   ],
   "source": [
    "import pyreadr\n",
    "import numpy as np\n",
    "import matplotlib.pyplot as plt\n",
    "import pandas as pd\n",
    "import dash\n",
    "import dash_core_components as dcc\n",
    "import dash_html_components as html\n",
    "from dash.dependencies import Input, Output\n",
    "import plotly.express as px\n",
    "import geopandas as gpd\n",
    "import pandas as pd\n",
    "import cartopy\n",
    "import cartopy.crs as ccrs\n",
    "import math\n",
    "import reverse_geocoder as rg\n",
    "from matplotlib.patches import Polygon\n",
    "\n",
    "result = pyreadr.read_r('../Data/data_train_DF.RData') \n",
    "print(result.keys()) # let's check what objects we got\n",
    "df1 = result[\"data_train_DF\"]\n",
    "df1['BA'] = df1['BA'].fillna(0)\n",
    "df1['CNT'] = df1['CNT'].fillna(0)"
   ]
  },
  {
   "cell_type": "code",
   "execution_count": 2,
   "metadata": {},
   "outputs": [
    {
     "data": {
      "text/html": [
       "<div>\n",
       "<style scoped>\n",
       "    .dataframe tbody tr th:only-of-type {\n",
       "        vertical-align: middle;\n",
       "    }\n",
       "\n",
       "    .dataframe tbody tr th {\n",
       "        vertical-align: top;\n",
       "    }\n",
       "\n",
       "    .dataframe thead th {\n",
       "        text-align: right;\n",
       "    }\n",
       "</style>\n",
       "<table border=\"1\" class=\"dataframe\">\n",
       "  <thead>\n",
       "    <tr style=\"text-align: right;\">\n",
       "      <th></th>\n",
       "      <th>CNT</th>\n",
       "      <th>BA</th>\n",
       "      <th>lon</th>\n",
       "      <th>lat</th>\n",
       "      <th>area</th>\n",
       "      <th>year</th>\n",
       "      <th>month</th>\n",
       "      <th>lc1</th>\n",
       "      <th>lc2</th>\n",
       "      <th>lc3</th>\n",
       "      <th>...</th>\n",
       "      <th>clim1</th>\n",
       "      <th>clim2</th>\n",
       "      <th>clim3</th>\n",
       "      <th>clim4</th>\n",
       "      <th>clim5</th>\n",
       "      <th>clim6</th>\n",
       "      <th>clim7</th>\n",
       "      <th>clim8</th>\n",
       "      <th>clim9</th>\n",
       "      <th>clim10</th>\n",
       "    </tr>\n",
       "  </thead>\n",
       "  <tbody>\n",
       "    <tr>\n",
       "      <th>0</th>\n",
       "      <td>0.0</td>\n",
       "      <td>0.000000</td>\n",
       "      <td>-95.25</td>\n",
       "      <td>49.25</td>\n",
       "      <td>0.24</td>\n",
       "      <td>1993</td>\n",
       "      <td>3</td>\n",
       "      <td>0.000006</td>\n",
       "      <td>0.015857</td>\n",
       "      <td>0.000023</td>\n",
       "      <td>...</td>\n",
       "      <td>0.222032</td>\n",
       "      <td>0.166899</td>\n",
       "      <td>265.457680</td>\n",
       "      <td>268.867126</td>\n",
       "      <td>-0.005898</td>\n",
       "      <td>9.187450e+06</td>\n",
       "      <td>-5231370.50</td>\n",
       "      <td>97849.906250</td>\n",
       "      <td>-0.000340</td>\n",
       "      <td>0.000448</td>\n",
       "    </tr>\n",
       "    <tr>\n",
       "      <th>1</th>\n",
       "      <td>0.0</td>\n",
       "      <td>0.000000</td>\n",
       "      <td>-94.75</td>\n",
       "      <td>49.25</td>\n",
       "      <td>0.39</td>\n",
       "      <td>1993</td>\n",
       "      <td>3</td>\n",
       "      <td>0.000005</td>\n",
       "      <td>0.002749</td>\n",
       "      <td>0.000002</td>\n",
       "      <td>...</td>\n",
       "      <td>0.184119</td>\n",
       "      <td>0.142053</td>\n",
       "      <td>265.521764</td>\n",
       "      <td>268.412354</td>\n",
       "      <td>-0.001131</td>\n",
       "      <td>6.993830e+06</td>\n",
       "      <td>-4851900.00</td>\n",
       "      <td>97954.703125</td>\n",
       "      <td>-0.000264</td>\n",
       "      <td>0.000462</td>\n",
       "    </tr>\n",
       "    <tr>\n",
       "      <th>2</th>\n",
       "      <td>0.0</td>\n",
       "      <td>0.000000</td>\n",
       "      <td>-122.75</td>\n",
       "      <td>48.75</td>\n",
       "      <td>0.48</td>\n",
       "      <td>1993</td>\n",
       "      <td>3</td>\n",
       "      <td>0.002420</td>\n",
       "      <td>0.103964</td>\n",
       "      <td>0.003870</td>\n",
       "      <td>...</td>\n",
       "      <td>-0.952649</td>\n",
       "      <td>0.856508</td>\n",
       "      <td>276.699820</td>\n",
       "      <td>280.594666</td>\n",
       "      <td>-0.010519</td>\n",
       "      <td>1.052566e+07</td>\n",
       "      <td>-4860741.00</td>\n",
       "      <td>100808.468750</td>\n",
       "      <td>-0.001945</td>\n",
       "      <td>0.004545</td>\n",
       "    </tr>\n",
       "    <tr>\n",
       "      <th>3</th>\n",
       "      <td>3.0</td>\n",
       "      <td>8.000000</td>\n",
       "      <td>-122.25</td>\n",
       "      <td>48.75</td>\n",
       "      <td>1.00</td>\n",
       "      <td>1993</td>\n",
       "      <td>3</td>\n",
       "      <td>0.002988</td>\n",
       "      <td>0.237442</td>\n",
       "      <td>0.004040</td>\n",
       "      <td>...</td>\n",
       "      <td>-0.845677</td>\n",
       "      <td>0.462569</td>\n",
       "      <td>274.943327</td>\n",
       "      <td>278.574371</td>\n",
       "      <td>-0.008420</td>\n",
       "      <td>9.359787e+06</td>\n",
       "      <td>-4653411.50</td>\n",
       "      <td>98474.648438</td>\n",
       "      <td>-0.001256</td>\n",
       "      <td>0.006174</td>\n",
       "    </tr>\n",
       "    <tr>\n",
       "      <th>4</th>\n",
       "      <td>0.0</td>\n",
       "      <td>0.000000</td>\n",
       "      <td>-121.75</td>\n",
       "      <td>48.75</td>\n",
       "      <td>1.00</td>\n",
       "      <td>1993</td>\n",
       "      <td>3</td>\n",
       "      <td>0.000000</td>\n",
       "      <td>0.004782</td>\n",
       "      <td>0.000196</td>\n",
       "      <td>...</td>\n",
       "      <td>-0.504174</td>\n",
       "      <td>0.195447</td>\n",
       "      <td>271.235317</td>\n",
       "      <td>274.578064</td>\n",
       "      <td>-0.005976</td>\n",
       "      <td>7.479946e+06</td>\n",
       "      <td>-3889238.75</td>\n",
       "      <td>91660.625000</td>\n",
       "      <td>-0.000502</td>\n",
       "      <td>0.008110</td>\n",
       "    </tr>\n",
       "    <tr>\n",
       "      <th>...</th>\n",
       "      <td>...</td>\n",
       "      <td>...</td>\n",
       "      <td>...</td>\n",
       "      <td>...</td>\n",
       "      <td>...</td>\n",
       "      <td>...</td>\n",
       "      <td>...</td>\n",
       "      <td>...</td>\n",
       "      <td>...</td>\n",
       "      <td>...</td>\n",
       "      <td>...</td>\n",
       "      <td>...</td>\n",
       "      <td>...</td>\n",
       "      <td>...</td>\n",
       "      <td>...</td>\n",
       "      <td>...</td>\n",
       "      <td>...</td>\n",
       "      <td>...</td>\n",
       "      <td>...</td>\n",
       "      <td>...</td>\n",
       "      <td>...</td>\n",
       "    </tr>\n",
       "    <tr>\n",
       "      <th>563978</th>\n",
       "      <td>6.0</td>\n",
       "      <td>134.600006</td>\n",
       "      <td>-80.75</td>\n",
       "      <td>25.75</td>\n",
       "      <td>1.00</td>\n",
       "      <td>2015</td>\n",
       "      <td>9</td>\n",
       "      <td>0.014934</td>\n",
       "      <td>0.017630</td>\n",
       "      <td>0.001066</td>\n",
       "      <td>...</td>\n",
       "      <td>-0.464231</td>\n",
       "      <td>0.159478</td>\n",
       "      <td>296.832658</td>\n",
       "      <td>300.201447</td>\n",
       "      <td>-0.006076</td>\n",
       "      <td>1.632964e+07</td>\n",
       "      <td>-3884615.75</td>\n",
       "      <td>101323.140625</td>\n",
       "      <td>-0.004034</td>\n",
       "      <td>0.006132</td>\n",
       "    </tr>\n",
       "    <tr>\n",
       "      <th>563979</th>\n",
       "      <td>1.0</td>\n",
       "      <td>30.000000</td>\n",
       "      <td>-80.25</td>\n",
       "      <td>25.75</td>\n",
       "      <td>0.66</td>\n",
       "      <td>2015</td>\n",
       "      <td>9</td>\n",
       "      <td>0.014798</td>\n",
       "      <td>0.014336</td>\n",
       "      <td>0.001253</td>\n",
       "      <td>...</td>\n",
       "      <td>-0.649578</td>\n",
       "      <td>0.404771</td>\n",
       "      <td>297.139517</td>\n",
       "      <td>300.414673</td>\n",
       "      <td>-0.005535</td>\n",
       "      <td>1.552289e+07</td>\n",
       "      <td>-3794893.75</td>\n",
       "      <td>101300.398438</td>\n",
       "      <td>-0.003913</td>\n",
       "      <td>0.006199</td>\n",
       "    </tr>\n",
       "    <tr>\n",
       "      <th>563980</th>\n",
       "      <td>0.0</td>\n",
       "      <td>0.000000</td>\n",
       "      <td>-81.25</td>\n",
       "      <td>25.25</td>\n",
       "      <td>0.28</td>\n",
       "      <td>2015</td>\n",
       "      <td>9</td>\n",
       "      <td>0.000000</td>\n",
       "      <td>0.000000</td>\n",
       "      <td>0.000000</td>\n",
       "      <td>...</td>\n",
       "      <td>-0.849243</td>\n",
       "      <td>0.676130</td>\n",
       "      <td>297.105902</td>\n",
       "      <td>301.003082</td>\n",
       "      <td>-0.007343</td>\n",
       "      <td>1.738194e+07</td>\n",
       "      <td>-3929039.00</td>\n",
       "      <td>101333.078125</td>\n",
       "      <td>-0.004233</td>\n",
       "      <td>0.003420</td>\n",
       "    </tr>\n",
       "    <tr>\n",
       "      <th>563981</th>\n",
       "      <td>2.0</td>\n",
       "      <td>179.100006</td>\n",
       "      <td>-80.75</td>\n",
       "      <td>25.25</td>\n",
       "      <td>0.76</td>\n",
       "      <td>2015</td>\n",
       "      <td>9</td>\n",
       "      <td>0.015875</td>\n",
       "      <td>0.039337</td>\n",
       "      <td>0.000373</td>\n",
       "      <td>...</td>\n",
       "      <td>-0.838257</td>\n",
       "      <td>0.589142</td>\n",
       "      <td>297.059054</td>\n",
       "      <td>300.905426</td>\n",
       "      <td>-0.006938</td>\n",
       "      <td>1.732889e+07</td>\n",
       "      <td>-4057722.00</td>\n",
       "      <td>101332.671875</td>\n",
       "      <td>-0.004125</td>\n",
       "      <td>0.003929</td>\n",
       "    </tr>\n",
       "    <tr>\n",
       "      <th>563982</th>\n",
       "      <td>0.0</td>\n",
       "      <td>0.000000</td>\n",
       "      <td>-80.25</td>\n",
       "      <td>25.25</td>\n",
       "      <td>0.23</td>\n",
       "      <td>2015</td>\n",
       "      <td>9</td>\n",
       "      <td>0.012813</td>\n",
       "      <td>0.031762</td>\n",
       "      <td>0.000301</td>\n",
       "      <td>...</td>\n",
       "      <td>-0.905546</td>\n",
       "      <td>0.584095</td>\n",
       "      <td>297.359662</td>\n",
       "      <td>300.884125</td>\n",
       "      <td>-0.007046</td>\n",
       "      <td>1.706926e+07</td>\n",
       "      <td>-4103391.25</td>\n",
       "      <td>101335.273438</td>\n",
       "      <td>-0.003923</td>\n",
       "      <td>0.004973</td>\n",
       "    </tr>\n",
       "  </tbody>\n",
       "</table>\n",
       "<p>563983 rows × 37 columns</p>\n",
       "</div>"
      ],
      "text/plain": [
       "        CNT          BA     lon    lat  area  year  month       lc1       lc2  \\\n",
       "0       0.0    0.000000  -95.25  49.25  0.24  1993      3  0.000006  0.015857   \n",
       "1       0.0    0.000000  -94.75  49.25  0.39  1993      3  0.000005  0.002749   \n",
       "2       0.0    0.000000 -122.75  48.75  0.48  1993      3  0.002420  0.103964   \n",
       "3       3.0    8.000000 -122.25  48.75  1.00  1993      3  0.002988  0.237442   \n",
       "4       0.0    0.000000 -121.75  48.75  1.00  1993      3  0.000000  0.004782   \n",
       "...     ...         ...     ...    ...   ...   ...    ...       ...       ...   \n",
       "563978  6.0  134.600006  -80.75  25.75  1.00  2015      9  0.014934  0.017630   \n",
       "563979  1.0   30.000000  -80.25  25.75  0.66  2015      9  0.014798  0.014336   \n",
       "563980  0.0    0.000000  -81.25  25.25  0.28  2015      9  0.000000  0.000000   \n",
       "563981  2.0  179.100006  -80.75  25.25  0.76  2015      9  0.015875  0.039337   \n",
       "563982  0.0    0.000000  -80.25  25.25  0.23  2015      9  0.012813  0.031762   \n",
       "\n",
       "             lc3  ...     clim1     clim2       clim3       clim4     clim5  \\\n",
       "0       0.000023  ...  0.222032  0.166899  265.457680  268.867126 -0.005898   \n",
       "1       0.000002  ...  0.184119  0.142053  265.521764  268.412354 -0.001131   \n",
       "2       0.003870  ... -0.952649  0.856508  276.699820  280.594666 -0.010519   \n",
       "3       0.004040  ... -0.845677  0.462569  274.943327  278.574371 -0.008420   \n",
       "4       0.000196  ... -0.504174  0.195447  271.235317  274.578064 -0.005976   \n",
       "...          ...  ...       ...       ...         ...         ...       ...   \n",
       "563978  0.001066  ... -0.464231  0.159478  296.832658  300.201447 -0.006076   \n",
       "563979  0.001253  ... -0.649578  0.404771  297.139517  300.414673 -0.005535   \n",
       "563980  0.000000  ... -0.849243  0.676130  297.105902  301.003082 -0.007343   \n",
       "563981  0.000373  ... -0.838257  0.589142  297.059054  300.905426 -0.006938   \n",
       "563982  0.000301  ... -0.905546  0.584095  297.359662  300.884125 -0.007046   \n",
       "\n",
       "               clim6       clim7          clim8     clim9    clim10  \n",
       "0       9.187450e+06 -5231370.50   97849.906250 -0.000340  0.000448  \n",
       "1       6.993830e+06 -4851900.00   97954.703125 -0.000264  0.000462  \n",
       "2       1.052566e+07 -4860741.00  100808.468750 -0.001945  0.004545  \n",
       "3       9.359787e+06 -4653411.50   98474.648438 -0.001256  0.006174  \n",
       "4       7.479946e+06 -3889238.75   91660.625000 -0.000502  0.008110  \n",
       "...              ...         ...            ...       ...       ...  \n",
       "563978  1.632964e+07 -3884615.75  101323.140625 -0.004034  0.006132  \n",
       "563979  1.552289e+07 -3794893.75  101300.398438 -0.003913  0.006199  \n",
       "563980  1.738194e+07 -3929039.00  101333.078125 -0.004233  0.003420  \n",
       "563981  1.732889e+07 -4057722.00  101332.671875 -0.004125  0.003929  \n",
       "563982  1.706926e+07 -4103391.25  101335.273438 -0.003923  0.004973  \n",
       "\n",
       "[563983 rows x 37 columns]"
      ]
     },
     "execution_count": 2,
     "metadata": {},
     "output_type": "execute_result"
    }
   ],
   "source": [
    "df1"
   ]
  },
  {
   "cell_type": "code",
   "execution_count": 3,
   "metadata": {},
   "outputs": [],
   "source": [
    "#read shp file containing polygons of the US states \n",
    "#source: https://www.census.gov/geographies/mapping-files/time-series/geo/carto-boundary-file.html\n",
    "states1=gpd.read_file(\"../Data/cb_2018_us_state_5m/cb_2018_us_state_5m.shp\")"
   ]
  },
  {
   "cell_type": "code",
   "execution_count": 4,
   "metadata": {},
   "outputs": [
    {
     "data": {
      "text/html": [
       "<div>\n",
       "<style scoped>\n",
       "    .dataframe tbody tr th:only-of-type {\n",
       "        vertical-align: middle;\n",
       "    }\n",
       "\n",
       "    .dataframe tbody tr th {\n",
       "        vertical-align: top;\n",
       "    }\n",
       "\n",
       "    .dataframe thead th {\n",
       "        text-align: right;\n",
       "    }\n",
       "</style>\n",
       "<table border=\"1\" class=\"dataframe\">\n",
       "  <thead>\n",
       "    <tr style=\"text-align: right;\">\n",
       "      <th></th>\n",
       "      <th>CNT</th>\n",
       "      <th>BA</th>\n",
       "      <th>lon</th>\n",
       "      <th>lat</th>\n",
       "      <th>area</th>\n",
       "      <th>year</th>\n",
       "      <th>month</th>\n",
       "      <th>lc1</th>\n",
       "      <th>lc2</th>\n",
       "      <th>lc3</th>\n",
       "      <th>...</th>\n",
       "      <th>clim1</th>\n",
       "      <th>clim2</th>\n",
       "      <th>clim3</th>\n",
       "      <th>clim4</th>\n",
       "      <th>clim5</th>\n",
       "      <th>clim6</th>\n",
       "      <th>clim7</th>\n",
       "      <th>clim8</th>\n",
       "      <th>clim9</th>\n",
       "      <th>clim10</th>\n",
       "    </tr>\n",
       "  </thead>\n",
       "  <tbody>\n",
       "    <tr>\n",
       "      <th>0</th>\n",
       "      <td>0.0</td>\n",
       "      <td>0.000000</td>\n",
       "      <td>-95.25</td>\n",
       "      <td>49.25</td>\n",
       "      <td>0.24</td>\n",
       "      <td>1993</td>\n",
       "      <td>3</td>\n",
       "      <td>0.000006</td>\n",
       "      <td>0.015857</td>\n",
       "      <td>0.000023</td>\n",
       "      <td>...</td>\n",
       "      <td>0.222032</td>\n",
       "      <td>0.166899</td>\n",
       "      <td>265.457680</td>\n",
       "      <td>268.867126</td>\n",
       "      <td>-0.005898</td>\n",
       "      <td>9.187450e+06</td>\n",
       "      <td>-5231370.50</td>\n",
       "      <td>97849.906250</td>\n",
       "      <td>-0.000340</td>\n",
       "      <td>0.000448</td>\n",
       "    </tr>\n",
       "    <tr>\n",
       "      <th>1</th>\n",
       "      <td>0.0</td>\n",
       "      <td>0.000000</td>\n",
       "      <td>-94.75</td>\n",
       "      <td>49.25</td>\n",
       "      <td>0.39</td>\n",
       "      <td>1993</td>\n",
       "      <td>3</td>\n",
       "      <td>0.000005</td>\n",
       "      <td>0.002749</td>\n",
       "      <td>0.000002</td>\n",
       "      <td>...</td>\n",
       "      <td>0.184119</td>\n",
       "      <td>0.142053</td>\n",
       "      <td>265.521764</td>\n",
       "      <td>268.412354</td>\n",
       "      <td>-0.001131</td>\n",
       "      <td>6.993830e+06</td>\n",
       "      <td>-4851900.00</td>\n",
       "      <td>97954.703125</td>\n",
       "      <td>-0.000264</td>\n",
       "      <td>0.000462</td>\n",
       "    </tr>\n",
       "    <tr>\n",
       "      <th>2</th>\n",
       "      <td>0.0</td>\n",
       "      <td>0.000000</td>\n",
       "      <td>-122.75</td>\n",
       "      <td>48.75</td>\n",
       "      <td>0.48</td>\n",
       "      <td>1993</td>\n",
       "      <td>3</td>\n",
       "      <td>0.002420</td>\n",
       "      <td>0.103964</td>\n",
       "      <td>0.003870</td>\n",
       "      <td>...</td>\n",
       "      <td>-0.952649</td>\n",
       "      <td>0.856508</td>\n",
       "      <td>276.699820</td>\n",
       "      <td>280.594666</td>\n",
       "      <td>-0.010519</td>\n",
       "      <td>1.052566e+07</td>\n",
       "      <td>-4860741.00</td>\n",
       "      <td>100808.468750</td>\n",
       "      <td>-0.001945</td>\n",
       "      <td>0.004545</td>\n",
       "    </tr>\n",
       "    <tr>\n",
       "      <th>3</th>\n",
       "      <td>3.0</td>\n",
       "      <td>8.000000</td>\n",
       "      <td>-122.25</td>\n",
       "      <td>48.75</td>\n",
       "      <td>1.00</td>\n",
       "      <td>1993</td>\n",
       "      <td>3</td>\n",
       "      <td>0.002988</td>\n",
       "      <td>0.237442</td>\n",
       "      <td>0.004040</td>\n",
       "      <td>...</td>\n",
       "      <td>-0.845677</td>\n",
       "      <td>0.462569</td>\n",
       "      <td>274.943327</td>\n",
       "      <td>278.574371</td>\n",
       "      <td>-0.008420</td>\n",
       "      <td>9.359787e+06</td>\n",
       "      <td>-4653411.50</td>\n",
       "      <td>98474.648438</td>\n",
       "      <td>-0.001256</td>\n",
       "      <td>0.006174</td>\n",
       "    </tr>\n",
       "    <tr>\n",
       "      <th>4</th>\n",
       "      <td>0.0</td>\n",
       "      <td>0.000000</td>\n",
       "      <td>-121.75</td>\n",
       "      <td>48.75</td>\n",
       "      <td>1.00</td>\n",
       "      <td>1993</td>\n",
       "      <td>3</td>\n",
       "      <td>0.000000</td>\n",
       "      <td>0.004782</td>\n",
       "      <td>0.000196</td>\n",
       "      <td>...</td>\n",
       "      <td>-0.504174</td>\n",
       "      <td>0.195447</td>\n",
       "      <td>271.235317</td>\n",
       "      <td>274.578064</td>\n",
       "      <td>-0.005976</td>\n",
       "      <td>7.479946e+06</td>\n",
       "      <td>-3889238.75</td>\n",
       "      <td>91660.625000</td>\n",
       "      <td>-0.000502</td>\n",
       "      <td>0.008110</td>\n",
       "    </tr>\n",
       "    <tr>\n",
       "      <th>...</th>\n",
       "      <td>...</td>\n",
       "      <td>...</td>\n",
       "      <td>...</td>\n",
       "      <td>...</td>\n",
       "      <td>...</td>\n",
       "      <td>...</td>\n",
       "      <td>...</td>\n",
       "      <td>...</td>\n",
       "      <td>...</td>\n",
       "      <td>...</td>\n",
       "      <td>...</td>\n",
       "      <td>...</td>\n",
       "      <td>...</td>\n",
       "      <td>...</td>\n",
       "      <td>...</td>\n",
       "      <td>...</td>\n",
       "      <td>...</td>\n",
       "      <td>...</td>\n",
       "      <td>...</td>\n",
       "      <td>...</td>\n",
       "      <td>...</td>\n",
       "    </tr>\n",
       "    <tr>\n",
       "      <th>3498</th>\n",
       "      <td>4.0</td>\n",
       "      <td>204.199997</td>\n",
       "      <td>-80.75</td>\n",
       "      <td>25.75</td>\n",
       "      <td>1.00</td>\n",
       "      <td>1993</td>\n",
       "      <td>3</td>\n",
       "      <td>0.026120</td>\n",
       "      <td>0.018496</td>\n",
       "      <td>0.001668</td>\n",
       "      <td>...</td>\n",
       "      <td>-0.662139</td>\n",
       "      <td>0.114962</td>\n",
       "      <td>287.542184</td>\n",
       "      <td>293.475281</td>\n",
       "      <td>-0.007177</td>\n",
       "      <td>1.653520e+07</td>\n",
       "      <td>-5709372.00</td>\n",
       "      <td>101657.765625</td>\n",
       "      <td>-0.003006</td>\n",
       "      <td>0.002735</td>\n",
       "    </tr>\n",
       "    <tr>\n",
       "      <th>3499</th>\n",
       "      <td>11.0</td>\n",
       "      <td>116.599998</td>\n",
       "      <td>-80.25</td>\n",
       "      <td>25.75</td>\n",
       "      <td>0.66</td>\n",
       "      <td>1993</td>\n",
       "      <td>3</td>\n",
       "      <td>0.025647</td>\n",
       "      <td>0.015124</td>\n",
       "      <td>0.001890</td>\n",
       "      <td>...</td>\n",
       "      <td>-1.060640</td>\n",
       "      <td>0.301789</td>\n",
       "      <td>288.141454</td>\n",
       "      <td>293.684662</td>\n",
       "      <td>-0.006695</td>\n",
       "      <td>1.603385e+07</td>\n",
       "      <td>-5583978.50</td>\n",
       "      <td>101635.414062</td>\n",
       "      <td>-0.003184</td>\n",
       "      <td>0.002865</td>\n",
       "    </tr>\n",
       "    <tr>\n",
       "      <th>3500</th>\n",
       "      <td>0.0</td>\n",
       "      <td>0.000000</td>\n",
       "      <td>-81.25</td>\n",
       "      <td>25.25</td>\n",
       "      <td>0.28</td>\n",
       "      <td>1993</td>\n",
       "      <td>3</td>\n",
       "      <td>0.000000</td>\n",
       "      <td>0.000000</td>\n",
       "      <td>0.000000</td>\n",
       "      <td>...</td>\n",
       "      <td>-1.087983</td>\n",
       "      <td>-0.074585</td>\n",
       "      <td>289.153713</td>\n",
       "      <td>293.821259</td>\n",
       "      <td>-0.008034</td>\n",
       "      <td>1.802593e+07</td>\n",
       "      <td>-5755646.00</td>\n",
       "      <td>101670.585938</td>\n",
       "      <td>-0.003437</td>\n",
       "      <td>0.002155</td>\n",
       "    </tr>\n",
       "    <tr>\n",
       "      <th>3501</th>\n",
       "      <td>1.0</td>\n",
       "      <td>1.000000</td>\n",
       "      <td>-80.75</td>\n",
       "      <td>25.25</td>\n",
       "      <td>0.76</td>\n",
       "      <td>1993</td>\n",
       "      <td>3</td>\n",
       "      <td>0.020634</td>\n",
       "      <td>0.040493</td>\n",
       "      <td>0.000509</td>\n",
       "      <td>...</td>\n",
       "      <td>-1.165680</td>\n",
       "      <td>0.151659</td>\n",
       "      <td>288.790060</td>\n",
       "      <td>293.927643</td>\n",
       "      <td>-0.007568</td>\n",
       "      <td>1.751789e+07</td>\n",
       "      <td>-5806712.50</td>\n",
       "      <td>101669.007812</td>\n",
       "      <td>-0.003075</td>\n",
       "      <td>0.002450</td>\n",
       "    </tr>\n",
       "    <tr>\n",
       "      <th>3502</th>\n",
       "      <td>2.0</td>\n",
       "      <td>56.000000</td>\n",
       "      <td>-80.25</td>\n",
       "      <td>25.25</td>\n",
       "      <td>0.23</td>\n",
       "      <td>1993</td>\n",
       "      <td>3</td>\n",
       "      <td>0.016654</td>\n",
       "      <td>0.032732</td>\n",
       "      <td>0.000411</td>\n",
       "      <td>...</td>\n",
       "      <td>-1.348842</td>\n",
       "      <td>0.265673</td>\n",
       "      <td>289.028188</td>\n",
       "      <td>294.064026</td>\n",
       "      <td>-0.008159</td>\n",
       "      <td>1.704658e+07</td>\n",
       "      <td>-5858432.50</td>\n",
       "      <td>101671.171875</td>\n",
       "      <td>-0.002863</td>\n",
       "      <td>0.002743</td>\n",
       "    </tr>\n",
       "  </tbody>\n",
       "</table>\n",
       "<p>3503 rows × 37 columns</p>\n",
       "</div>"
      ],
      "text/plain": [
       "       CNT          BA     lon    lat  area  year  month       lc1       lc2  \\\n",
       "0      0.0    0.000000  -95.25  49.25  0.24  1993      3  0.000006  0.015857   \n",
       "1      0.0    0.000000  -94.75  49.25  0.39  1993      3  0.000005  0.002749   \n",
       "2      0.0    0.000000 -122.75  48.75  0.48  1993      3  0.002420  0.103964   \n",
       "3      3.0    8.000000 -122.25  48.75  1.00  1993      3  0.002988  0.237442   \n",
       "4      0.0    0.000000 -121.75  48.75  1.00  1993      3  0.000000  0.004782   \n",
       "...    ...         ...     ...    ...   ...   ...    ...       ...       ...   \n",
       "3498   4.0  204.199997  -80.75  25.75  1.00  1993      3  0.026120  0.018496   \n",
       "3499  11.0  116.599998  -80.25  25.75  0.66  1993      3  0.025647  0.015124   \n",
       "3500   0.0    0.000000  -81.25  25.25  0.28  1993      3  0.000000  0.000000   \n",
       "3501   1.0    1.000000  -80.75  25.25  0.76  1993      3  0.020634  0.040493   \n",
       "3502   2.0   56.000000  -80.25  25.25  0.23  1993      3  0.016654  0.032732   \n",
       "\n",
       "           lc3  ...     clim1     clim2       clim3       clim4     clim5  \\\n",
       "0     0.000023  ...  0.222032  0.166899  265.457680  268.867126 -0.005898   \n",
       "1     0.000002  ...  0.184119  0.142053  265.521764  268.412354 -0.001131   \n",
       "2     0.003870  ... -0.952649  0.856508  276.699820  280.594666 -0.010519   \n",
       "3     0.004040  ... -0.845677  0.462569  274.943327  278.574371 -0.008420   \n",
       "4     0.000196  ... -0.504174  0.195447  271.235317  274.578064 -0.005976   \n",
       "...        ...  ...       ...       ...         ...         ...       ...   \n",
       "3498  0.001668  ... -0.662139  0.114962  287.542184  293.475281 -0.007177   \n",
       "3499  0.001890  ... -1.060640  0.301789  288.141454  293.684662 -0.006695   \n",
       "3500  0.000000  ... -1.087983 -0.074585  289.153713  293.821259 -0.008034   \n",
       "3501  0.000509  ... -1.165680  0.151659  288.790060  293.927643 -0.007568   \n",
       "3502  0.000411  ... -1.348842  0.265673  289.028188  294.064026 -0.008159   \n",
       "\n",
       "             clim6       clim7          clim8     clim9    clim10  \n",
       "0     9.187450e+06 -5231370.50   97849.906250 -0.000340  0.000448  \n",
       "1     6.993830e+06 -4851900.00   97954.703125 -0.000264  0.000462  \n",
       "2     1.052566e+07 -4860741.00  100808.468750 -0.001945  0.004545  \n",
       "3     9.359787e+06 -4653411.50   98474.648438 -0.001256  0.006174  \n",
       "4     7.479946e+06 -3889238.75   91660.625000 -0.000502  0.008110  \n",
       "...            ...         ...            ...       ...       ...  \n",
       "3498  1.653520e+07 -5709372.00  101657.765625 -0.003006  0.002735  \n",
       "3499  1.603385e+07 -5583978.50  101635.414062 -0.003184  0.002865  \n",
       "3500  1.802593e+07 -5755646.00  101670.585938 -0.003437  0.002155  \n",
       "3501  1.751789e+07 -5806712.50  101669.007812 -0.003075  0.002450  \n",
       "3502  1.704658e+07 -5858432.50  101671.171875 -0.002863  0.002743  \n",
       "\n",
       "[3503 rows x 37 columns]"
      ]
     },
     "execution_count": 4,
     "metadata": {},
     "output_type": "execute_result"
    }
   ],
   "source": [
    "wf=df1[df1['year']==1993]\n",
    "wf=wf[wf['month']==3]\n",
    "wf"
   ]
  },
  {
   "cell_type": "code",
   "execution_count": 5,
   "metadata": {
    "scrolled": false
   },
   "outputs": [
    {
     "data": {
      "image/png": "[encoded data removed]",
      "text/plain": [
       "<Figure size 1152x864 with 1 Axes>"
      ]
     },
     "metadata": {
      "needs_background": "light"
     },
     "output_type": "display_data"
    }
   ],
   "source": [
    "ax = states1.boundary.plot(color='Black',figsize=(16,12))\n",
    "ax.set_xlim(-127, -65)\n",
    "ax.set_ylim(23, 50)\n",
    "#gdf = gpd.GeoDataFrame(\n",
    "#    wf, geometry=gpd.points_from_xy(wf.lon, wf.lat))\n",
    "#gdf.plot(ax=ax, color='red')\n",
    "plt.show()"
   ]
  },
  {
   "cell_type": "code",
   "execution_count": 6,
   "metadata": {},
   "outputs": [
    {
     "name": "stdout",
     "output_type": "stream",
     "text": [
      "Loading formatted geocoded file...\n",
      "[{'lat': '51.51116', 'lon': '-0.18426', 'name': 'Bayswater', 'admin1': 'England', 'admin2': 'Greater London', 'cc': 'GB'}, {'lat': '9.93988', 'lon': '76.26022', 'name': 'Cochin', 'admin1': 'Kerala', 'admin2': 'Ernakulam', 'cc': 'IN'}, {'lat': '37.38605', 'lon': '-122.08385', 'name': 'Mountain View', 'admin1': 'California', 'admin2': 'Santa Clara County', 'cc': 'US'}]\n"
     ]
    }
   ],
   "source": [
    "import reverse_geocoder as rg\n",
    "\n",
    "coordinates = (51.5214588,-0.1729636),(9.936033, 76.259952),(37.38605,-122.08385)\n",
    "\n",
    "results = rg.search(coordinates) # default mode = 2\n",
    "\n",
    "print(results)"
   ]
  },
  {
   "cell_type": "code",
   "execution_count": 7,
   "metadata": {},
   "outputs": [],
   "source": [
    "l=[]\n",
    "for i in range(len(wf)):\n",
    "    p=(wf.lat.iloc[i],wf.lon.iloc[i])\n",
    "    l.append(p)\n",
    "coor=l\n",
    "res=rg.search(coor)#search where the location belongs to"
   ]
  },
  {
   "cell_type": "code",
   "execution_count": 8,
   "metadata": {},
   "outputs": [
    {
     "name": "stdout",
     "output_type": "stream",
     "text": [
      "{'New Brunswick', 'Baja California', 'Quebec', 'British Columbia', 'Ontario', 'Sonora', 'Coahuila', 'Chihuahua', 'Tamaulipas'}\n"
     ]
    }
   ],
   "source": [
    "lsta=[]\n",
    "for i in res:\n",
    "    lsta.append(i[\"admin1\"])\n",
    "lset=set(lsta)\n",
    "for j in list(states1[\"NAME\"]):\n",
    "    if j in lset:\n",
    "        lset.remove(j)\n",
    "print(lset)"
   ]
  },
  {
   "cell_type": "code",
   "execution_count": 9,
   "metadata": {},
   "outputs": [],
   "source": [
    "for i in res:\n",
    "    if i[\"admin1\"]=='Tamaulipas':\n",
    "        i[\"admin1\"]='Texas'\n",
    "    if i[\"admin1\"]=='British Columbia':\n",
    "        i[\"admin1\"]='Washington'\n",
    "    if i[\"admin1\"]=='Ontario':\n",
    "        i[\"admin1\"]=\"Minnesota\"\n",
    "    if i[\"admin1\"]=='Chihuahua':\n",
    "        i[\"admin1\"]=\"New Mexico\"\n",
    "    if i[\"admin1\"]=='Coahuila':\n",
    "        i[\"admin1\"]=\"Texas\"\n",
    "    if i[\"admin1\"]=='New Brunswick':\n",
    "        i[\"admin1\"]=\"Maine\"\n",
    "    if i[\"admin1\"]=='Sonora':\n",
    "        i[\"admin1\"]='Arizona'\n",
    "    if i[\"admin1\"]=='Baja California':\n",
    "        i[\"admin1\"]='California'\n",
    "    if i[\"admin1\"]=='Quebec':\n",
    "        i[\"admin1\"]=\"New York\""
   ]
  },
  {
   "cell_type": "code",
   "execution_count": 34,
   "metadata": {},
   "outputs": [],
   "source": [
    "respd=pd.DataFrame(res)"
   ]
  },
  {
   "cell_type": "code",
   "execution_count": null,
   "metadata": {},
   "outputs": [],
   "source": []
  },
  {
   "cell_type": "code",
   "execution_count": 10,
   "metadata": {},
   "outputs": [],
   "source": [
    "#useful dictionaries\n",
    "\n",
    "#source from https://www.census.gov/geographies/reference-files/2010/geo/state-area.html\n",
    "totarea={\n",
    "    \"Alabama\": 135767,\n",
    "    \"Arizona\": 295234,\n",
    "    \"Arkansas\": 137732,\n",
    "    \"California\": 423967,\n",
    "    \"Colorado\": 269601,\n",
    "    \"Connecticut\": 14357,\n",
    "    \"Delaware\": 6446,\n",
    "    \"Florida\": 170312,\n",
    "    \"Georgia\": 153910,\n",
    "    \"Idaho\": 216443,\n",
    "    \"Illinois\": 149995,\n",
    "    \"Indiana\": 94326,\n",
    "    \"Iowa\": 145746,\n",
    "    \"Kansas\": 213100,\n",
    "    \"Kentucky\": 104656,\n",
    "    \"Louisiana\": 135659,\n",
    "    \"Maine\": 91633,\n",
    "    \"Maryland\": 32131,\n",
    "    \"Massachusetts\": 27336,\n",
    "    \"Michigan\": 250487,\n",
    "    \"Minnesota\": 225163,\n",
    "    \"Mississippi\": 125438,\n",
    "    \"Missouri\": 180540,\n",
    "    \"Montana\": 380831,\n",
    "    \"Nebraska\": 200330,\n",
    "    \"Nevada\": 286380,\n",
    "    \"New Hampshire\": 24214,\n",
    "    \"New Jersey\": 22591,\n",
    "    \"New Mexico\": 314917,\n",
    "    \"New York\": 141297,\n",
    "    \"North Carolina\": 139391,\n",
    "    \"North Dakota\": 183108,\n",
    "    \"Ohio\": 116098,\n",
    "    \"Oklahoma\": 181037,\n",
    "    \"Oregon\": 254799,\n",
    "    \"Pennsylvania\": 119280,\n",
    "    \"Rhode Island\": 4001,\n",
    "    \"South Carolina\": 82933,\n",
    "    \"South Dakota\": 199729,\n",
    "    \"Tennessee\": 109153,\n",
    "    \"Texas\": 695662,\n",
    "    \"Utah\": 219882,\n",
    "    \"Vermont\": 24906,\n",
    "    \"Virginia\": 110787,\n",
    "    \"Washington\": 184661,\n",
    "    \"West Virginia\": 62756,\n",
    "    \"Wisconsin\": 169635,\n",
    "    \"Wyoming\": 253335}\n",
    "\n",
    "#acronyms to state\n",
    "#source from:https://code.activestate.com/recipes/577305-python-dictionary-of-us-states-and-territories/\n",
    "atos = {\n",
    "        'AK': 'Alaska',\n",
    "        'AL': 'Alabama',\n",
    "        'AR': 'Arkansas',\n",
    "        'AZ': 'Arizona',\n",
    "        'CA': 'California',\n",
    "        'CO': 'Colorado',\n",
    "        'CT': 'Connecticut',\n",
    "        'DC': 'District of Columbia',\n",
    "        'DE': 'Delaware',\n",
    "        'FL': 'Florida',\n",
    "        'GA': 'Georgia',\n",
    "        'HI': 'Hawaii',\n",
    "        'IA': 'Iowa',\n",
    "        'ID': 'Idaho',\n",
    "        'IL': 'Illinois',\n",
    "        'IN': 'Indiana',\n",
    "        'KS': 'Kansas',\n",
    "        'KY': 'Kentucky',\n",
    "        'LA': 'Louisiana',\n",
    "        'MA': 'Massachusetts',\n",
    "        'MD': 'Maryland',\n",
    "        'ME': 'Maine',\n",
    "        'MI': 'Michigan',\n",
    "        'MN': 'Minnesota',\n",
    "        'MO': 'Missouri',\n",
    "        'MS': 'Mississippi',\n",
    "        'MT': 'Montana',\n",
    "        'NC': 'North Carolina',\n",
    "        'ND': 'North Dakota',\n",
    "        'NE': 'Nebraska',\n",
    "        'NH': 'New Hampshire',\n",
    "        'NJ': 'New Jersey',\n",
    "        'NM': 'New Mexico',\n",
    "        'NV': 'Nevada',\n",
    "        'NY': 'New York',\n",
    "        'OH': 'Ohio',\n",
    "        'OK': 'Oklahoma',\n",
    "        'OR': 'Oregon',\n",
    "        'PA': 'Pennsylvania',\n",
    "        'RI': 'Rhode Island',\n",
    "        'SC': 'South Carolina',\n",
    "        'SD': 'South Dakota',\n",
    "        'TN': 'Tennessee',\n",
    "        'TX': 'Texas',\n",
    "        'UT': 'Utah',\n",
    "        'VA': 'Virginia',\n",
    "        'VT': 'Vermont',\n",
    "        'WA': 'Washington',\n",
    "        'WI': 'Wisconsin',\n",
    "        'WV': 'West Virginia',\n",
    "        'WY': 'Wyoming'\n",
    "}"
   ]
  },
  {
   "cell_type": "code",
   "execution_count": 11,
   "metadata": {},
   "outputs": [],
   "source": [
    "\n",
    "def count_init():\n",
    "    d={\n",
    "    \"Alabama\": 0,\n",
    "    \"Alaska\": 0,\n",
    "    \"Arizona\": 0,\n",
    "    \"Arkansas\": 0,\n",
    "    \"California\": 0,\n",
    "    \"Colorado\": 0,\n",
    "    \"Connecticut\": 0,\n",
    "    \"District of Columbia\": 0,\n",
    "    \"Delaware\": 0,\n",
    "    \"Florida\": 0,\n",
    "    \"Georgia\": 0,\n",
    "    \"Hawaii\": 0,\n",
    "    \"Idaho\": 0,\n",
    "    \"Illinois\": 0,\n",
    "    \"Indiana\": 0,\n",
    "    \"Iowa\": 0,\n",
    "    \"Kansas\": 0,\n",
    "    \"Kentucky\": 0,\n",
    "    \"Louisiana\": 0,\n",
    "    \"Maine\": 0,\n",
    "    \"Maryland\": 0,\n",
    "    \"Massachusetts\": 0,\n",
    "    \"Michigan\": 0,\n",
    "    \"Minnesota\": 0,\n",
    "    \"Mississippi\": 0,\n",
    "    \"Missouri\": 0,\n",
    "    \"Montana\": 0,\n",
    "    \"Nebraska\": 0,\n",
    "    \"Nevada\": 0,\n",
    "    \"New Hampshire\": 0,\n",
    "    \"New Jersey\": 0,\n",
    "    \"New Mexico\": 0,\n",
    "    \"New York\": 0,\n",
    "    \"North Carolina\": 0,\n",
    "    \"North Dakota\": 0,\n",
    "    \"Ohio\": 0,\n",
    "    \"Oklahoma\": 0,\n",
    "    \"Oregon\": 0,\n",
    "    \"Pennsylvania\": 0,\n",
    "    \"Rhode Island\": 0,\n",
    "    \"South Carolina\": 0,\n",
    "    \"South Dakota\": 0,\n",
    "    \"Tennessee\": 0,\n",
    "    \"Texas\": 0,\n",
    "    \"Utah\": 0,\n",
    "    \"Vermont\": 0,\n",
    "    \"Virginia\": 0,\n",
    "    \"Washington\": 0,\n",
    "    \"West Virginia\": 0,\n",
    "    \"Wisconsin\": 0,\n",
    "    \"Wyoming\": 0}\n",
    "    return d\n",
    "\n",
    "\n",
    "def countfire(res,df):\n",
    "    stcount=count_init()\n",
    "    for i in range(len(res)):\n",
    "        if res[i]['admin1'] in totarea.keys():\n",
    "            stcount[res[i]['admin1']]+=df.CNT.iloc[i]/totarea[res[i]['admin1']]*100000\n",
    "    return stcount\n",
    "\n",
    "def areafire(res,df):\n",
    "    stcount=count_init()\n",
    "    for i in range(len(res)):\n",
    "        if res[i]['admin1'] in totarea.keys():\n",
    "            stcount[res[i]['admin1']]+=df.BA.iloc[i]/totarea[res[i]['admin1']]*100000\n",
    "    return stcount\n",
    "\n"
   ]
  },
  {
   "cell_type": "code",
   "execution_count": 12,
   "metadata": {},
   "outputs": [
    {
     "data": {
      "text/plain": [
       "3503"
      ]
     },
     "execution_count": 12,
     "metadata": {},
     "output_type": "execute_result"
    }
   ],
   "source": [
    "len(wf)"
   ]
  },
  {
   "cell_type": "code",
   "execution_count": 13,
   "metadata": {},
   "outputs": [
    {
     "data": {
      "text/plain": [
       "{'Alabama': 2114.696503282616,\n",
       " 'Alaska': 0,\n",
       " 'Arizona': 274.59574433050244,\n",
       " 'Arkansas': 809.7609794626628,\n",
       " 'California': 284.9985962226538,\n",
       " 'Colorado': 84.71778616539149,\n",
       " 'Connecticut': 0.0,\n",
       " 'District of Columbia': 0,\n",
       " 'Delaware': 0.0,\n",
       " 'Florida': 3427.996819201843,\n",
       " 'Georgia': 3199.155328915247,\n",
       " 'Hawaii': 0,\n",
       " 'Idaho': 0.13860462314343655,\n",
       " 'Illinois': 0.0,\n",
       " 'Indiana': 40.81589381506689,\n",
       " 'Iowa': 0.4116751223648388,\n",
       " 'Kansas': 0.09385265273591377,\n",
       " 'Kentucky': 0.0,\n",
       " 'Louisiana': 892.3108654055819,\n",
       " 'Maine': 0.0,\n",
       " 'Maryland': 0.0,\n",
       " 'Massachusetts': 0.0,\n",
       " 'Michigan': 0.39922231493051535,\n",
       " 'Minnesota': 6.439779195428343,\n",
       " 'Mississippi': 13464.022060596157,\n",
       " 'Missouri': 1853.218127210842,\n",
       " 'Montana': 42.70398187523184,\n",
       " 'Nebraska': 0.2495881795038187,\n",
       " 'Nevada': 1.7808506185802486,\n",
       " 'New Hampshire': 0.0,\n",
       " 'New Jersey': 5.975831089770777,\n",
       " 'New Mexico': 3029.3315292895622,\n",
       " 'New York': 11.323665484773484,\n",
       " 'North Carolina': 4139.148213692013,\n",
       " 'North Dakota': 29.21772942744173,\n",
       " 'Ohio': 0.0,\n",
       " 'Oklahoma': 15466.175152990134,\n",
       " 'Oregon': 15.902731172238889,\n",
       " 'Pennsylvania': 0.0,\n",
       " 'Rhode Island': 0.0,\n",
       " 'South Carolina': 12587.81189963538,\n",
       " 'South Dakota': 255.94680620654114,\n",
       " 'Tennessee': 66.05407089268286,\n",
       " 'Texas': 720.1198248065211,\n",
       " 'Utah': 0.045478939381175414,\n",
       " 'Vermont': 0.0,\n",
       " 'Virginia': 6.228167570166594,\n",
       " 'Washington': 12.888482168202497,\n",
       " 'West Virginia': 9.401491500351305,\n",
       " 'Wisconsin': 46.87122260109585,\n",
       " 'Wyoming': 30.197169755462134}"
      ]
     },
     "execution_count": 13,
     "metadata": {},
     "output_type": "execute_result"
    }
   ],
   "source": [
    "areafire(res,wf)"
   ]
  },
  {
   "cell_type": "code",
   "execution_count": 14,
   "metadata": {},
   "outputs": [],
   "source": [
    "class states: #to avoid 'DataFrame' object has no attribute 'dtype' errors, and overwriting\n",
    "    def __init__(self):\n",
    "        self.states=gpd.read_file(\"../Data/cb_2018_us_state_5m/cb_2018_us_state_5m.shp\")#have to recall for each update..?\n",
    "        \n",
    "    def add_column(self,colnum,colname,col):\n",
    "        self.states.insert(colnum,colname,col,True)\n",
    "        \n",
    "    def delete_column(self,colname):\n",
    "        self.states.drop(colname,axis=1)"
   ]
  },
  {
   "cell_type": "code",
   "execution_count": 15,
   "metadata": {
    "scrolled": false
   },
   "outputs": [
    {
     "data": {
      "image/png": "[encoded data removed]",
      "text/plain": [
       "<Figure size 1152x864 with 2 Axes>"
      ]
     },
     "metadata": {
      "needs_background": "light"
     },
     "output_type": "display_data"
    }
   ],
   "source": [
    "s=states()\n",
    "lcf=[]\n",
    "cf=countfire(res,wf)\n",
    "dcf=dict({'States':list(cf.keys()),'Number':list(cf.values())})\n",
    "dcf2=pd.DataFrame.from_dict(dcf)\n",
    "for i in range(len(s.states)):\n",
    "    if s.states[\"NAME\"].iloc[i] in dcf[\"States\"]:\n",
    "        lcf.append(math.log(cf[s.states[\"NAME\"].iloc[i]]+1))\n",
    "    else:\n",
    "        lcf.append(0)\n",
    "s.add_column(2,\"cf\",lcf)\n",
    "ax = s.states.plot(column=\"cf\",cmap=\"coolwarm\",figsize=(16,12), edgecolor='k', legend=True,legend_kwds={'shrink': 0.5})\n",
    "ax.set_xlim(-127, -65)\n",
    "ax.set_ylim(23, 50)\n",
    "wf1=wf[wf[\"BA\"]!=0]\n",
    "gdf = gpd.GeoDataFrame(\n",
    "    wf1, geometry=gpd.points_from_xy(wf1.lon, wf1.lat))\n",
    "gdf.plot(ax=ax, color='red',alpha=0.1)\n",
    "plt.show()\n",
    "s.delete_column(\"cf\")"
   ]
  },
  {
   "cell_type": "code",
   "execution_count": 16,
   "metadata": {
    "scrolled": false
   },
   "outputs": [
    {
     "data": {
      "image/png": "[encoded data removed]",
      "text/plain": [
       "<Figure size 1152x864 with 2 Axes>"
      ]
     },
     "metadata": {
      "needs_background": "light"
     },
     "output_type": "display_data"
    }
   ],
   "source": [
    "s=states()\n",
    "lcf=[]\n",
    "cf=areafire(res,wf)\n",
    "dcf=dict({'States':list(cf.keys()),'Number':list(cf.values())})\n",
    "dcf2=pd.DataFrame.from_dict(dcf)\n",
    "for i in range(len(s.states)):\n",
    "    if s.states[\"NAME\"].iloc[i] in dcf[\"States\"]:\n",
    "        lcf.append(math.log(cf[s.states[\"NAME\"].iloc[i]]+1))\n",
    "    else:\n",
    "        lcf.append(0)\n",
    "s.add_column(2,\"cf2\",lcf)\n",
    "ax = s.states.plot(column=\"cf2\",cmap=\"coolwarm\",figsize=(16,12), edgecolor='k', legend=True,legend_kwds={'shrink': 0.5})\n",
    "ax.set_xlim(-127, -65)\n",
    "ax.set_ylim(23, 50)\n",
    "wf1=wf[wf[\"BA\"]!=0]\n",
    "gdf = gpd.GeoDataFrame(\n",
    "    wf1, geometry=gpd.points_from_xy(wf1.lon, wf1.lat))\n",
    "gdf.plot(ax=ax, color='red',alpha=0.1)\n",
    "plt.show()\n",
    "s.delete_column(\"cf2\")"
   ]
  },
  {
   "cell_type": "code",
   "execution_count": 17,
   "metadata": {},
   "outputs": [
    {
     "data": {
      "text/plain": [
       "array([3, 4, 5, 6, 7, 8, 9])"
      ]
     },
     "execution_count": 17,
     "metadata": {},
     "output_type": "execute_result"
    }
   ],
   "source": [
    "np.arange(3,10)"
   ]
  },
  {
   "cell_type": "code",
   "execution_count": null,
   "metadata": {},
   "outputs": [
    {
     "name": "stdout",
     "output_type": "stream",
     "text": [
      "Dash is running on http://127.0.0.1:8050/\n",
      "\n",
      "Dash is running on http://127.0.0.1:8050/\n",
      "\n",
      " * Serving Flask app \"__main__\" (lazy loading)\n",
      " * Environment: production\n",
      "\u001b[31m   WARNING: This is a development server. Do not use it in a production deployment.\u001b[0m\n",
      "\u001b[2m   Use a production WSGI server instead.\u001b[0m\n",
      " * Debug mode: off\n"
     ]
    },
    {
     "name": "stderr",
     "output_type": "stream",
     "text": [
      " * Running on http://127.0.0.1:8050/ (Press CTRL+C to quit)\n",
      "127.0.0.1 - - [16/Nov/2021 04:10:25] \"GET / HTTP/1.1\" 200 -\n",
      "127.0.0.1 - - [16/Nov/2021 04:10:25] \"GET /_dash-dependencies HTTP/1.1\" 200 -\n",
      "127.0.0.1 - - [16/Nov/2021 04:10:25] \"GET /_dash-layout HTTP/1.1\" 200 -\n",
      "127.0.0.1 - - [16/Nov/2021 04:10:28] \"POST /_dash-update-component HTTP/1.1\" 200 -\n"
     ]
    }
   ],
   "source": [
    "import dash #installation of dash might be needed: \n",
    "#pip install jupyter-dash #uncomment this line to install\n",
    "import dash_core_components as dcc\n",
    "import dash_html_components as html\n",
    "from dash.dependencies import Input, Output\n",
    "import plotly.express as px\n",
    "\n",
    "app = dash.Dash(__name__)\n",
    "geodf = gpd.read_file('../Data/cb_2018_us_state_5m/cb_2018_us_state_5m.shp')\n",
    "with open(\"../Data/USGeoJSON\") as geofile:\n",
    "    j_file = json.load(geofile)\n",
    "    \n",
    "l=[]\n",
    "for i in range(len(wf)):\n",
    "    p=(wf.lat.iloc[i],wf.lon.iloc[i])\n",
    "    l.append(p)\n",
    "coor=l\n",
    "res=rg.search(coor)\n",
    "\n",
    "available_indicators = [\"None\",\"Wind\",\"Land Cover\",\"Temperature\",\"Precipitation\"]\n",
    "available_indicators_fire=[\"None\",\"Burnt Area\",\"Number of Wildfires\"]\n",
    "available_indicators_inc=[\"Yes\",\"No\"]\n",
    "available_indicators_month=np.arange(3,10)\n",
    "available_indicators_year=np.arange(1993,2016)\n",
    "app.layout = html.Div([\n",
    "    html.Div([\n",
    "        html.H4(\"Options :\",style={'width': '35%', 'display': 'inline-block'}),\n",
    "        html.H4(\"Show location of wildfires :\",style={'width': '33%', 'display': 'inline-block'}),\n",
    "        html.H4(\"Type of display :\",style={'width': '20%', 'display': 'inline-block'})\n",
    "    ]),\n",
    "    html.Div([\n",
    "\n",
    "        html.Div([\n",
    "            dcc.Dropdown(\n",
    "                id='Option1',\n",
    "                options=[{'label': i, 'value': i} for i in available_indicators],\n",
    "                value='None'\n",
    "            )], style={'width': '32%', 'display': 'inline-block'}),\n",
    "\n",
    "        html.Div([\n",
    "            dcc.RadioItems(\n",
    "                id='Option2',\n",
    "                options=[{'label': i, 'value': i} for i in available_indicators_fire],\n",
    "                value='Burnt Area',\n",
    "                labelStyle={'display': 'inline-block'}\n",
    "            )], style={'width': '32%', 'float': 'right', 'display': 'inline-block'}),\n",
    "        html.Div([\n",
    "            dcc.RadioItems(\n",
    "                id='Option3',\n",
    "                options=[{'label': i, 'value': i} for i in available_indicators_inc],\n",
    "                value='No',\n",
    "                labelStyle={'display': 'inline-block'}\n",
    "            )], style={'width': '32%', 'float': 'right', 'display': 'inline-block'})\n",
    "    ]),\n",
    "    html.Div([\n",
    "        dcc.Graph(\n",
    "            id='indicator-graphic',\n",
    "        )\n",
    "    ], style={'width': '100%'}),\n",
    "    html.Div([\n",
    "        html.H4(\"Year :\",style={'width': '30%', 'display': 'inline-block'}),\n",
    "        html.H4(\"Month :\",style={'width': '32%', 'display': 'inline-block'})\n",
    "    ]),\n",
    "    html.Div([\n",
    "        html.Div(\n",
    "            dcc.Dropdown(\n",
    "                id='year',\n",
    "                options=[{'label': i, 'value': i} for i in available_indicators_year],\n",
    "                value=1993\n",
    "            ), style={'width': '30%', 'display': 'inline-block'}\n",
    "        ),\n",
    "        html.Div(\n",
    "            dcc.Slider(\n",
    "                id='month',\n",
    "                min=available_indicators_month.min(),\n",
    "                max=available_indicators_month.max(),\n",
    "                value=3,\n",
    "                marks={str(i): str(i) for i in available_indicators_month},\n",
    "                step=None\n",
    "            ),style={'width': '30%', 'padding': '0px 20px 20px 20px','display': 'inline-block'}\n",
    "        )\n",
    "    ])\n",
    "])\n",
    "\n",
    "@app.callback(\n",
    "    Output('indicator-graphic', 'figure'),\n",
    "    Input('Option1', 'value'),\n",
    "    Input('Option2', 'value'),\n",
    "    Input('Option3', 'value'),\n",
    "    Input('year', 'value'),\n",
    "    Input('month','value'))\n",
    "    \n",
    "def update_graph(Option1,Option2,Option3,year,month):\n",
    "    df2=df1[df1[\"year\"]==year]\n",
    "    df2=df2[df2[\"month\"]==month]\n",
    "    #s=states()\n",
    "    a=0\n",
    "    \n",
    "    if Option1==\"None\":\n",
    "        a=0\n",
    "    elif Option1==\"Wind\":\n",
    "        a=1\n",
    "    elif Option1==\"Land Cover\":\n",
    "        a=2\n",
    "    elif Option1==\"Temperature\":\n",
    "        a=3\n",
    "    elif Option1==\"Precipitation\":\n",
    "        a=4\n",
    "    \n",
    "    if Option2==\"None\":\n",
    "        a=0\n",
    "        fig=0\n",
    "        #ax=s.states.boundary.plot(color=\"black\",figsize=(16,12))\n",
    "        #ax.set_xlim(-127, -65)\n",
    "        #ax.set_ylim(23, 50)\n",
    "        #plt.show()\n",
    "    elif Option2==\"Burnt Area\":\n",
    "        lba=[]\n",
    "        ba=areafire(res,df2)\n",
    "        dba=dict({'States':list(ba.keys()),'Number':list(ba.values())})\n",
    "        #dba2=pd.DataFrame.from_dict(dba)\n",
    "        for i in range(len(geodf)):\n",
    "            if geodf[\"NAME\"].iloc[i] in dba[\"States\"]:\n",
    "                lba.append(math.log(ba[geodf[\"NAME\"].iloc[i]]+1))\n",
    "            else:\n",
    "                lba.append(0.)\n",
    "        dba2=dict({'States':list(geodf.NAME),'Number':list(lba)})\n",
    "        #s.add_column(2,\"ba\",lba)\n",
    "        fig = px.choropleth_mapbox(dba2, geojson=j_file, \n",
    "          featureidkey='properties.NAME',\n",
    "          locations='States',\n",
    "          color='Number',\n",
    "            center={'lat': 38.3544 , 'lon':-99.9981 },\n",
    "            zoom=3,\n",
    "        color_continuous_scale  ='OrRd',                                \n",
    "          mapbox_style='carto-positron')\n",
    "        \n",
    "        #ax = s.states.plot(column=\"ba\",cmap=\"coolwarm\",figsize=(16,12), edgecolor='k', legend=True,legend_kwds={'shrink': 0.5})\n",
    "        if Option3==\"Yes\":\n",
    "            df3=df2[df2[\"BA\"]!=0]\n",
    "            #gdf = gpd.GeoDataFrame(\n",
    "            #df3, geometry=gpd.points_from_xy(df3.lon, df3.lat))\n",
    "            #gdf.plot(ax=ax, color='red',alpha=0.1)\n",
    "        #plt.show()\n",
    "        fig.update_layout(title_text=\"US Burnt area in 0\"+str(month)+\"/\"+str(year), title_x=0.5,coloraxis_reversescale=False)\n",
    "        #s.delete_column(\"ba\")    \n",
    "    else:\n",
    "        lcf=[]\n",
    "        cf=countfire(res,df2)\n",
    "        dcf=dict({'States':list(cf.keys()),'Number':list(cf.values())})\n",
    "        for i in range(len(geodf)):\n",
    "            if geodf[\"NAME\"].iloc[i] in dcf[\"States\"]:\n",
    "                lcf.append(math.log(cf[geodf[\"NAME\"].iloc[i]]+1))\n",
    "            else:\n",
    "                lcf.append(0.)\n",
    "        dcf2=dict({'States':list(geodf.NAME),'Number':lcf})\n",
    "        fig = px.choropleth_mapbox(dcf2, geojson=j_file, \n",
    "          featureidkey='properties.NAME',\n",
    "          locations='States',\n",
    "          color='Number',\n",
    "            center={'lat': 38.3544 , 'lon':-99.9981 },\n",
    "            zoom=3,\n",
    "        color_continuous_scale  ='OrRd',                                \n",
    "          mapbox_style='carto-positron'\n",
    "                           )\n",
    "        #ax = s.states.plot(column=\"cf\",cmap=\"coolwarm\",figsize=(16,12), edgecolor='k', legend=True,legend_kwds={'shrink': 0.5})\n",
    "        #ax.set_xlim(-127, -65)\n",
    "        #ax.set_ylim(23, 50)\n",
    "        if Option3==\"Yes\":\n",
    "            df3=df2[df2[\"CNT\"]!=0]\n",
    "            #gdf = gpd.GeoDataFrame(\n",
    "            #df3, geometry=gpd.points_from_xy(df3.lon, df3.lat))\n",
    "            #gdf.plot(ax=ax, color='red',alpha=0.1)\n",
    "        #plt.show()\n",
    "        #s.delete_column(\"cf\")\n",
    "        fig.update_layout(title_text=\"US number of wildfires in 0\"+str(month)+\"/\"+str(year), title_x=0.5,coloraxis_reversescale=False)\n",
    "\n",
    "    return fig\n",
    "\n",
    "if __name__ == '__main__':\n",
    "    app.run_server(debug=False)\n",
    "    \n"
   ]
  },
  {
   "cell_type": "code",
   "execution_count": 18,
   "metadata": {},
   "outputs": [],
   "source": [
    "import geopandas as gpd\n",
    "import json\n",
    "geodf = gpd.read_file('../Data/cb_2018_us_state_5m/cb_2018_us_state_5m.shp')\n",
    "geodf.to_file(\"../Data/USGeoJSON\", driver = \"GeoJSON\")\n",
    "with open(\"../Data/USGeoJSON\") as geofile:\n",
    "    j_file = json.load(geofile)"
   ]
  },
  {
   "cell_type": "code",
   "execution_count": 19,
   "metadata": {},
   "outputs": [
    {
     "data": {
      "text/plain": [
       "{'STATEFP': '31',\n",
       " 'STATENS': '01779792',\n",
       " 'AFFGEOID': '0400000US31',\n",
       " 'GEOID': '31',\n",
       " 'STUSPS': 'NE',\n",
       " 'NAME': 'Nebraska',\n",
       " 'LSAD': '00',\n",
       " 'ALAND': 198956658395,\n",
       " 'AWATER': 1371829134}"
      ]
     },
     "execution_count": 19,
     "metadata": {},
     "output_type": "execute_result"
    }
   ],
   "source": [
    "j_file[\"features\"][0][\"properties\"]"
   ]
  },
  {
   "cell_type": "code",
   "execution_count": 78,
   "metadata": {
    "scrolled": false
   },
   "outputs": [
    {
     "data": {
      "application/vnd.plotly.v1+json": {
       "config": {
        "plotlyServerURL": "https://plot.ly"
       },
       "data": [
        {
         "hovertemplate": "BA=%{marker.size}<br>lat=%{lat}<br>lon=%{lon}<br>CNT=%{marker.color}<extra></extra>",
         "lat": [
          48.75,
          48.75,
          48.75,
          48.25,
          48.25,
          48.25,
          48.25,
          48.25,
          48.25,
          48.25,
          48.25,
          48.25,
          48.25,
          47.75,
          47.75,
          47.75,
          47.75,
          47.75,
          47.25,
          47.25,
          46.75,
          46.75,
          46.75,
          46.75,
          46.75,
          46.25,
          46.25,
          46.25,
          46.25,
          46.25,
          46.25,
          46.25,
          46.25,
          45.75,
          45.75,
          45.75,
          45.75,
          45.75,
          45.75,
          45.75,
          45.75,
          45.75,
          45.75,
          45.25,
          45.25,
          45.25,
          45.25,
          45.25,
          45.25,
          45.25,
          45.25,
          45.25,
          44.75,
          44.75,
          44.75,
          44.75,
          44.75,
          44.75,
          44.75,
          44.75,
          44.75,
          44.25,
          44.25,
          44.25,
          44.25,
          44.25,
          44.25,
          43.75,
          43.75,
          43.75,
          43.75,
          43.75,
          43.75,
          43.75,
          43.75,
          43.75,
          43.25,
          43.25,
          43.25,
          43.25,
          43.25,
          43.25,
          43.25,
          42.75,
          42.75,
          42.25,
          41.75,
          41.75,
          41.75,
          41.25,
          41.25,
          40.75,
          40.75,
          40.75,
          40.75,
          40.75,
          40.75,
          40.75,
          40.75,
          40.75,
          40.75,
          40.25,
          40.25,
          40.25,
          40.25,
          40.25,
          40.25,
          39.75,
          39.75,
          39.25,
          39.25,
          39.25,
          39.25,
          39.25,
          39.25,
          39.25,
          39.25,
          38.75,
          38.75,
          38.75,
          38.75,
          38.75,
          38.75,
          38.75,
          38.75,
          38.75,
          38.75,
          38.75,
          38.75,
          38.75,
          38.25,
          38.25,
          38.25,
          38.25,
          38.25,
          38.25,
          38.25,
          38.25,
          38.25,
          38.25,
          38.25,
          38.25,
          38.25,
          38.25,
          37.75,
          37.75,
          37.75,
          37.75,
          37.75,
          37.75,
          37.75,
          37.75,
          37.75,
          37.75,
          37.75,
          37.75,
          37.75,
          37.25,
          37.25,
          37.25,
          37.25,
          37.25,
          37.25,
          37.25,
          37.25,
          37.25,
          37.25,
          37.25,
          37.25,
          37.25,
          37.25,
          37.25,
          37.25,
          37.25,
          37.25,
          37.25,
          37.25,
          37.25,
          36.75,
          36.75,
          36.75,
          36.75,
          36.75,
          36.75,
          36.75,
          36.75,
          36.75,
          36.75,
          36.75,
          36.75,
          36.75,
          36.75,
          36.75,
          36.75,
          36.25,
          36.25,
          36.25,
          36.25,
          36.25,
          36.25,
          36.25,
          36.25,
          36.25,
          36.25,
          36.25,
          36.25,
          36.25,
          36.25,
          36.25,
          36.25,
          36.25,
          36.25,
          36.25,
          36.25,
          35.75,
          35.75,
          35.75,
          35.75,
          35.75,
          35.75,
          35.75,
          35.75,
          35.75,
          35.75,
          35.75,
          35.75,
          35.75,
          35.75,
          35.75,
          35.75,
          35.75,
          35.75,
          35.75,
          35.75,
          35.75,
          35.75,
          35.75,
          35.75,
          35.75,
          35.75,
          35.75,
          35.25,
          35.25,
          35.25,
          35.25,
          35.25,
          35.25,
          35.25,
          35.25,
          35.25,
          35.25,
          35.25,
          35.25,
          35.25,
          35.25,
          35.25,
          35.25,
          35.25,
          35.25,
          35.25,
          35.25,
          35.25,
          35.25,
          35.25,
          35.25,
          35.25,
          35.25,
          35.25,
          35.25,
          35.25,
          35.25,
          35.25,
          35.25,
          35.25,
          35.25,
          34.75,
          34.75,
          34.75,
          34.75,
          34.75,
          34.75,
          34.75,
          34.75,
          34.75,
          34.75,
          34.75,
          34.75,
          34.75,
          34.75,
          34.75,
          34.75,
          34.75,
          34.75,
          34.75,
          34.75,
          34.75,
          34.75,
          34.75,
          34.75,
          34.75,
          34.75,
          34.75,
          34.75,
          34.75,
          34.75,
          34.75,
          34.75,
          34.75,
          34.75,
          34.75,
          34.75,
          34.75,
          34.75,
          34.75,
          34.75,
          34.75,
          34.75,
          34.75,
          34.25,
          34.25,
          34.25,
          34.25,
          34.25,
          34.25,
          34.25,
          34.25,
          34.25,
          34.25,
          34.25,
          34.25,
          34.25,
          34.25,
          34.25,
          34.25,
          34.25,
          34.25,
          34.25,
          34.25,
          34.25,
          34.25,
          34.25,
          34.25,
          34.25,
          34.25,
          34.25,
          34.25,
          34.25,
          34.25,
          34.25,
          34.25,
          34.25,
          34.25,
          34.25,
          34.25,
          34.25,
          34.25,
          34.25,
          34.25,
          33.75,
          33.75,
          33.75,
          33.75,
          33.75,
          33.75,
          33.75,
          33.75,
          33.75,
          33.75,
          33.75,
          33.75,
          33.75,
          33.75,
          33.75,
          33.75,
          33.75,
          33.75,
          33.75,
          33.75,
          33.75,
          33.75,
          33.75,
          33.75,
          33.75,
          33.75,
          33.75,
          33.75,
          33.75,
          33.75,
          33.75,
          33.75,
          33.75,
          33.75,
          33.75,
          33.75,
          33.75,
          33.75,
          33.75,
          33.75,
          33.25,
          33.25,
          33.25,
          33.25,
          33.25,
          33.25,
          33.25,
          33.25,
          33.25,
          33.25,
          33.25,
          33.25,
          33.25,
          33.25,
          33.25,
          33.25,
          33.25,
          33.25,
          33.25,
          33.25,
          33.25,
          33.25,
          33.25,
          33.25,
          33.25,
          33.25,
          33.25,
          33.25,
          33.25,
          33.25,
          33.25,
          33.25,
          33.25,
          32.75,
          32.75,
          32.75,
          32.75,
          32.75,
          32.75,
          32.75,
          32.75,
          32.75,
          32.75,
          32.75,
          32.75,
          32.75,
          32.75,
          32.75,
          32.75,
          32.75,
          32.75,
          32.75,
          32.75,
          32.75,
          32.75,
          32.75,
          32.75,
          32.75,
          32.75,
          32.75,
          32.75,
          32.25,
          32.25,
          32.25,
          32.25,
          32.25,
          32.25,
          32.25,
          32.25,
          32.25,
          32.25,
          32.25,
          32.25,
          32.25,
          32.25,
          32.25,
          32.25,
          32.25,
          32.25,
          32.25,
          32.25,
          32.25,
          32.25,
          32.25,
          32.25,
          32.25,
          32.25,
          32.25,
          32.25,
          32.25,
          31.75,
          31.75,
          31.75,
          31.75,
          31.75,
          31.75,
          31.75,
          31.75,
          31.75,
          31.75,
          31.75,
          31.75,
          31.75,
          31.75,
          31.75,
          31.75,
          31.75,
          31.75,
          31.75,
          31.75,
          31.75,
          31.75,
          31.75,
          31.75,
          31.25,
          31.25,
          31.25,
          31.25,
          31.25,
          31.25,
          31.25,
          31.25,
          31.25,
          31.25,
          31.25,
          31.25,
          31.25,
          31.25,
          31.25,
          31.25,
          31.25,
          31.25,
          31.25,
          31.25,
          31.25,
          31.25,
          31.25,
          31.25,
          31.25,
          30.75,
          30.75,
          30.75,
          30.75,
          30.75,
          30.75,
          30.75,
          30.75,
          30.75,
          30.75,
          30.75,
          30.75,
          30.75,
          30.75,
          30.75,
          30.75,
          30.75,
          30.75,
          30.75,
          30.75,
          30.75,
          30.75,
          30.25,
          30.25,
          30.25,
          30.25,
          30.25,
          30.25,
          30.25,
          30.25,
          30.25,
          30.25,
          30.25,
          30.25,
          30.25,
          30.25,
          30.25,
          30.25,
          30.25,
          30.25,
          30.25,
          30.25,
          30.25,
          30.25,
          30.25,
          30.25,
          29.75,
          29.75,
          29.75,
          29.75,
          29.75,
          29.75,
          29.75,
          29.75,
          29.75,
          29.75,
          29.25,
          29.25,
          29.25,
          29.25,
          28.75,
          28.75,
          28.75,
          28.75,
          28.75,
          28.25,
          28.25,
          28.25,
          28.25,
          28.25,
          27.75,
          27.75,
          27.75,
          27.75,
          27.75,
          27.25,
          27.25,
          27.25,
          27.25,
          27.25,
          26.75,
          26.75,
          26.75,
          26.75,
          26.75,
          26.25,
          26.25,
          26.25,
          26.25,
          26.25,
          25.75,
          25.75,
          25.75,
          25.25,
          25.25
         ],
         "legendgroup": "",
         "lon": [
          -122.25,
          -118.25,
          -116.25,
          -123.25,
          -122.75,
          -122.25,
          -121.75,
          -115.25,
          -114.25,
          -109.75,
          -108.75,
          -105.75,
          -105.25,
          -122.75,
          -117.75,
          -108.75,
          -102.75,
          -98.75,
          -121.75,
          -94.75,
          -123.25,
          -122.75,
          -111.75,
          -103.25,
          -94.25,
          -123.75,
          -122.75,
          -116.25,
          -100.75,
          -94.25,
          -93.75,
          -92.25,
          -91.75,
          -123.25,
          -107.75,
          -107.25,
          -106.75,
          -100.75,
          -93.75,
          -92.25,
          -91.75,
          -89.75,
          -89.25,
          -123.75,
          -122.25,
          -107.25,
          -106.25,
          -93.75,
          -89.75,
          -89.25,
          -88.25,
          -87.75,
          -123.75,
          -106.75,
          -101.75,
          -101.25,
          -91.25,
          -90.75,
          -89.75,
          -88.75,
          -88.25,
          -103.75,
          -99.75,
          -99.25,
          -90.75,
          -89.25,
          -85.25,
          -104.75,
          -104.25,
          -103.75,
          -102.75,
          -101.25,
          -99.25,
          -90.75,
          -89.75,
          -89.25,
          -108.75,
          -102.75,
          -102.25,
          -101.25,
          -100.75,
          -100.25,
          -90.75,
          -124.25,
          -75.75,
          -96.25,
          -123.25,
          -93.25,
          -87.25,
          -123.75,
          -121.75,
          -123.25,
          -122.25,
          -121.75,
          -105.75,
          -104.75,
          -103.25,
          -74.75,
          -74.25,
          -73.75,
          -72.75,
          -123.25,
          -122.25,
          -112.25,
          -105.25,
          -103.25,
          -102.75,
          -121.25,
          -105.25,
          -122.75,
          -121.25,
          -120.75,
          -104.75,
          -92.25,
          -91.25,
          -79.75,
          -74.75,
          -123.75,
          -122.75,
          -120.75,
          -119.25,
          -107.75,
          -105.25,
          -104.75,
          -104.25,
          -92.75,
          -92.25,
          -91.25,
          -81.25,
          -78.25,
          -122.25,
          -120.75,
          -120.25,
          -107.25,
          -106.25,
          -105.75,
          -105.25,
          -93.75,
          -93.25,
          -92.75,
          -92.25,
          -91.25,
          -90.75,
          -82.25,
          -118.75,
          -105.75,
          -102.25,
          -94.25,
          -93.75,
          -93.25,
          -92.75,
          -92.25,
          -91.75,
          -91.25,
          -90.75,
          -82.25,
          -81.75,
          -122.25,
          -121.75,
          -120.75,
          -120.25,
          -119.75,
          -118.75,
          -108.75,
          -107.75,
          -105.75,
          -102.25,
          -101.75,
          -94.25,
          -93.75,
          -93.25,
          -92.75,
          -92.25,
          -91.75,
          -91.25,
          -90.75,
          -90.25,
          -81.25,
          -119.75,
          -106.75,
          -106.25,
          -104.75,
          -94.75,
          -94.25,
          -93.75,
          -93.25,
          -92.75,
          -92.25,
          -91.75,
          -91.25,
          -90.75,
          -81.25,
          -79.25,
          -77.25,
          -117.75,
          -115.25,
          -112.25,
          -106.25,
          -105.75,
          -95.25,
          -94.75,
          -88.25,
          -81.75,
          -81.25,
          -80.75,
          -80.25,
          -79.25,
          -78.75,
          -78.25,
          -77.75,
          -77.25,
          -76.75,
          -76.25,
          -75.75,
          -120.75,
          -119.25,
          -118.75,
          -111.25,
          -110.25,
          -106.25,
          -101.75,
          -95.25,
          -94.75,
          -94.25,
          -92.25,
          -84.25,
          -83.25,
          -82.75,
          -82.25,
          -81.75,
          -81.25,
          -80.75,
          -80.25,
          -79.75,
          -79.25,
          -78.75,
          -78.25,
          -77.75,
          -77.25,
          -76.75,
          -75.75,
          -120.75,
          -120.25,
          -112.25,
          -109.75,
          -109.25,
          -108.75,
          -107.25,
          -106.75,
          -106.25,
          -105.75,
          -95.75,
          -95.25,
          -94.75,
          -94.25,
          -93.75,
          -91.25,
          -90.25,
          -87.75,
          -84.25,
          -83.75,
          -83.25,
          -82.75,
          -82.25,
          -81.75,
          -81.25,
          -80.75,
          -80.25,
          -79.75,
          -79.25,
          -78.75,
          -78.25,
          -77.75,
          -77.25,
          -76.75,
          -118.75,
          -114.75,
          -111.75,
          -111.25,
          -109.25,
          -108.75,
          -106.75,
          -106.25,
          -98.75,
          -97.25,
          -96.75,
          -95.75,
          -95.25,
          -94.75,
          -94.25,
          -93.25,
          -92.75,
          -91.25,
          -90.25,
          -89.75,
          -89.25,
          -88.75,
          -88.25,
          -85.75,
          -85.25,
          -84.75,
          -84.25,
          -83.75,
          -83.25,
          -82.75,
          -82.25,
          -81.75,
          -81.25,
          -80.75,
          -80.25,
          -79.75,
          -79.25,
          -78.75,
          -78.25,
          -77.75,
          -77.25,
          -76.75,
          -76.25,
          -118.25,
          -117.25,
          -116.75,
          -114.25,
          -112.75,
          -110.25,
          -105.75,
          -104.25,
          -97.25,
          -96.75,
          -96.25,
          -95.75,
          -95.25,
          -94.75,
          -94.25,
          -93.25,
          -90.75,
          -90.25,
          -89.75,
          -89.25,
          -88.75,
          -88.25,
          -87.25,
          -85.75,
          -85.25,
          -84.75,
          -84.25,
          -83.75,
          -83.25,
          -82.75,
          -82.25,
          -81.75,
          -81.25,
          -80.75,
          -80.25,
          -79.75,
          -79.25,
          -78.75,
          -78.25,
          -77.75,
          -117.25,
          -116.25,
          -114.75,
          -113.25,
          -112.25,
          -111.75,
          -111.25,
          -110.75,
          -110.25,
          -109.75,
          -107.25,
          -106.75,
          -105.75,
          -105.25,
          -104.25,
          -103.25,
          -95.25,
          -94.75,
          -94.25,
          -90.25,
          -89.75,
          -89.25,
          -88.75,
          -88.25,
          -85.75,
          -85.25,
          -84.75,
          -84.25,
          -83.75,
          -83.25,
          -82.75,
          -82.25,
          -81.75,
          -81.25,
          -80.75,
          -80.25,
          -79.75,
          -79.25,
          -78.75,
          -78.25,
          -116.75,
          -114.75,
          -112.25,
          -111.75,
          -108.25,
          -106.75,
          -105.75,
          -105.25,
          -104.25,
          -97.75,
          -95.25,
          -94.75,
          -94.25,
          -90.25,
          -89.75,
          -89.25,
          -88.75,
          -88.25,
          -86.25,
          -85.75,
          -85.25,
          -84.75,
          -84.25,
          -83.75,
          -83.25,
          -82.75,
          -82.25,
          -81.75,
          -81.25,
          -80.75,
          -80.25,
          -79.75,
          -79.25,
          -117.25,
          -116.75,
          -114.75,
          -109.75,
          -108.25,
          -105.75,
          -104.25,
          -103.75,
          -103.25,
          -95.25,
          -94.75,
          -94.25,
          -90.25,
          -89.75,
          -89.25,
          -88.75,
          -85.25,
          -84.75,
          -84.25,
          -83.75,
          -83.25,
          -82.75,
          -82.25,
          -81.75,
          -81.25,
          -80.75,
          -80.25,
          -79.75,
          -111.25,
          -110.75,
          -109.75,
          -109.25,
          -108.75,
          -108.25,
          -106.75,
          -104.75,
          -104.25,
          -103.75,
          -95.75,
          -95.25,
          -94.75,
          -94.25,
          -90.75,
          -90.25,
          -89.75,
          -89.25,
          -88.75,
          -88.25,
          -84.75,
          -84.25,
          -83.75,
          -83.25,
          -82.75,
          -82.25,
          -81.75,
          -81.25,
          -80.75,
          -110.75,
          -110.25,
          -95.75,
          -95.25,
          -94.75,
          -94.25,
          -93.75,
          -92.75,
          -91.25,
          -90.75,
          -90.25,
          -89.75,
          -89.25,
          -88.75,
          -88.25,
          -85.25,
          -84.75,
          -84.25,
          -83.75,
          -83.25,
          -82.75,
          -82.25,
          -81.75,
          -81.25,
          -110.25,
          -109.75,
          -95.75,
          -95.25,
          -94.75,
          -94.25,
          -93.75,
          -93.25,
          -92.75,
          -92.25,
          -91.25,
          -90.75,
          -90.25,
          -89.75,
          -89.25,
          -88.75,
          -88.25,
          -84.75,
          -84.25,
          -83.75,
          -83.25,
          -82.75,
          -82.25,
          -81.75,
          -81.25,
          -95.75,
          -95.25,
          -94.75,
          -94.25,
          -93.75,
          -93.25,
          -89.75,
          -89.25,
          -88.75,
          -88.25,
          -87.25,
          -86.75,
          -86.25,
          -85.75,
          -85.25,
          -84.75,
          -84.25,
          -83.75,
          -83.25,
          -82.75,
          -82.25,
          -81.75,
          -97.75,
          -97.25,
          -95.75,
          -95.25,
          -94.75,
          -94.25,
          -93.75,
          -89.75,
          -89.25,
          -88.75,
          -88.25,
          -87.25,
          -86.75,
          -86.25,
          -85.75,
          -85.25,
          -84.75,
          -84.25,
          -83.75,
          -83.25,
          -82.75,
          -82.25,
          -81.75,
          -81.25,
          -101.25,
          -97.25,
          -85.25,
          -84.25,
          -83.75,
          -83.25,
          -82.75,
          -82.25,
          -81.75,
          -81.25,
          -82.75,
          -82.25,
          -81.75,
          -81.25,
          -82.75,
          -82.25,
          -81.75,
          -81.25,
          -80.75,
          -82.75,
          -82.25,
          -81.75,
          -81.25,
          -80.75,
          -82.25,
          -81.75,
          -81.25,
          -80.75,
          -80.25,
          -97.25,
          -82.25,
          -81.75,
          -81.25,
          -80.25,
          -82.25,
          -81.75,
          -81.25,
          -80.75,
          -80.25,
          -98.25,
          -97.75,
          -81.75,
          -81.25,
          -80.75,
          -81.25,
          -80.75,
          -80.25,
          -80.75,
          -80.25
         ],
         "marker": {
          "color": [
           3,
           1,
           1,
           1,
           2,
           1,
           1,
           1,
           1,
           2,
           2,
           1,
           5,
           3,
           1,
           1,
           1,
           2,
           2,
           1,
           1,
           1,
           1,
           2,
           1,
           3,
           2,
           1,
           3,
           1,
           1,
           1,
           7,
           1,
           2,
           4,
           5,
           2,
           1,
           3,
           1,
           4,
           1,
           1,
           1,
           1,
           1,
           3,
           2,
           1,
           2,
           3,
           1,
           1,
           1,
           1,
           1,
           1,
           1,
           1,
           1,
           1,
           5,
           1,
           1,
           1,
           1,
           1,
           1,
           1,
           1,
           1,
           1,
           1,
           3,
           3,
           2,
           1,
           5,
           1,
           10,
           1,
           1,
           1,
           1,
           1,
           1,
           2,
           3,
           2,
           1,
           1,
           4,
           1,
           1,
           1,
           1,
           1,
           1,
           2,
           1,
           1,
           1,
           1,
           16,
           1,
           7,
           2,
           1,
           1,
           2,
           1,
           5,
           1,
           2,
           1,
           1,
           1,
           1,
           1,
           1,
           1,
           2,
           5,
           2,
           1,
           3,
           1,
           1,
           1,
           1,
           1,
           1,
           1,
           1,
           1,
           2,
           3,
           9,
           24,
           4,
           7,
           1,
           1,
           1,
           4,
           3,
           1,
           5,
           5,
           27,
           11,
           6,
           7,
           2,
           2,
           2,
           1,
           2,
           1,
           1,
           1,
           1,
           1,
           2,
           4,
           4,
           1,
           1,
           1,
           1,
           3,
           8,
           9,
           3,
           4,
           1,
           1,
           1,
           1,
           1,
           2,
           2,
           2,
           7,
           9,
           11,
           24,
           7,
           10,
           5,
           1,
           1,
           1,
           1,
           1,
           1,
           8,
           8,
           14,
           32,
           1,
           4,
           6,
           2,
           6,
           2,
           2,
           2,
           1,
           4,
           4,
           3,
           2,
           1,
           1,
           2,
           1,
           1,
           3,
           2,
           12,
           59,
           11,
           3,
           2,
           1,
           8,
           11,
           15,
           13,
           10,
           11,
           8,
           12,
           5,
           13,
           5,
           8,
           2,
           7,
           1,
           2,
           1,
           3,
           2,
           22,
           10,
           2,
           1,
           1,
           12,
           28,
           27,
           2,
           1,
           1,
           1,
           1,
           2,
           7,
           7,
           11,
           8,
           6,
           25,
           15,
           12,
           16,
           36,
           25,
           10,
           11,
           7,
           7,
           1,
           1,
           1,
           1,
           6,
           6,
           2,
           6,
           2,
           1,
           1,
           37,
           125,
           74,
           2,
           5,
           5,
           1,
           4,
           26,
           43,
           41,
           20,
           1,
           12,
           9,
           8,
           8,
           6,
           9,
           8,
           10,
           11,
           11,
           18,
           40,
           64,
           26,
           18,
           19,
           12,
           5,
           1,
           1,
           2,
           2,
           2,
           1,
           1,
           1,
           1,
           2,
           2,
           4,
           24,
           40,
           184,
           5,
           4,
           1,
           15,
           26,
           19,
           16,
           7,
           11,
           1,
           13,
           27,
           26,
           6,
           7,
           3,
           17,
           6,
           11,
           18,
           32,
           33,
           20,
           20,
           14,
           20,
           3,
           4,
           1,
           1,
           1,
           2,
           1,
           1,
           1,
           6,
           1,
           1,
           2,
           1,
           1,
           4,
           1,
           19,
           2,
           8,
           22,
           9,
           10,
           3,
           4,
           17,
           19,
           9,
           3,
           5,
           13,
           7,
           12,
           41,
           24,
           51,
           49,
           26,
           3,
           4,
           3,
           1,
           1,
           5,
           2,
           1,
           10,
           1,
           1,
           1,
           2,
           4,
           13,
           9,
           24,
           24,
           12,
           2,
           5,
           2,
           13,
           13,
           17,
           5,
           24,
           8,
           14,
           13,
           12,
           29,
           67,
           74,
           18,
           1,
           4,
           1,
           1,
           4,
           1,
           2,
           1,
           6,
           5,
           7,
           8,
           9,
           47,
           22,
           11,
           6,
           15,
           14,
           22,
           23,
           17,
           15,
           25,
           14,
           28,
           20,
           4,
           1,
           1,
           2,
           1,
           1,
           1,
           1,
           1,
           7,
           3,
           6,
           8,
           10,
           2,
           1,
           6,
           6,
           10,
           3,
           2,
           15,
           13,
           11,
           16,
           27,
           35,
           19,
           33,
           12,
           2,
           3,
           3,
           11,
           10,
           3,
           3,
           4,
           2,
           14,
           11,
           33,
           26,
           12,
           2,
           3,
           10,
           12,
           21,
           18,
           13,
           20,
           35,
           32,
           2,
           2,
           2,
           3,
           5,
           5,
           20,
           4,
           4,
           1,
           5,
           18,
           46,
           30,
           22,
           22,
           1,
           7,
           13,
           25,
           19,
           3,
           20,
           19,
           10,
           2,
           7,
           4,
           9,
           22,
           1,
           17,
           52,
           24,
           10,
           19,
           19,
           17,
           6,
           6,
           12,
           10,
           21,
           34,
           10,
           2,
           13,
           1,
           1,
           5,
           9,
           1,
           5,
           17,
           3,
           20,
           8,
           7,
           3,
           1,
           2,
           3,
           4,
           2,
           6,
           9,
           17,
           15,
           13,
           15,
           4,
           1,
           2,
           3,
           1,
           6,
           6,
           16,
           6,
           10,
           4,
           11,
           16,
           13,
           2,
           7,
           8,
           12,
           5,
           2,
           4,
           7,
           7,
           5,
           4,
           6,
           8,
           4,
           5,
           3,
           1,
           8,
           1,
           6,
           1,
           6,
           19,
           3,
           4,
           4,
           1,
           2,
           19,
           4,
           6,
           2,
           4,
           11,
           1,
           2
          ],
          "coloraxis": "coloraxis",
          "size": [
           8,
           0.20000000298023224,
           0.10000000149011612,
           0.5,
           0.20000000298023224,
           0.10000000149011612,
           2,
           0.009999999776482582,
           0.009999999776482582,
           1.100000023841858,
           60.70000076293945,
           20,
           3,
           3.5,
           0.10000000149011612,
           1.2999999523162842,
           6,
           5,
           2.200000047683716,
           1.100000023841858,
           2.5,
           0.5,
           0.009999999776482582,
           31.5,
           0.5,
           29.5,
           4,
           0.20000000298023224,
           3,
           1.5,
           0.20000000298023224,
           0.20000000298023224,
           0.5899999737739563,
           0.009999999776482582,
           5.099999904632568,
           7.699999809265137,
           30.700000762939453,
           8,
           1,
           71.0999984741211,
           0.8999999761581421,
           0.33000001311302185,
           0.009999999776482582,
           1,
           8,
           30,
           3,
           10,
           0.2199999988079071,
           2,
           0.949999988079071,
           0.23000000417232513,
           0.009999999776482582,
           1.5,
           49.29999923706055,
           0.10000000149011612,
           0.009999999776482582,
           0.10000000149011612,
           0.12999999523162842,
           0.10000000149011612,
           0.10000000149011612,
           6,
           64.19999694824219,
           10,
           0.20000000298023224,
           0.03999999910593033,
           1,
           70,
           1,
           3,
           0.5,
           4,
           3,
           1.2000000476837158,
           0.5,
           0.6499999761581421,
           4,
           28.100000381469727,
           247.1999969482422,
           2,
           91.30000305175781,
           2.5,
           0.15000000596046448,
           2,
           5,
           0.5,
           0.10000000149011612,
           0.6000000238418579,
           38.5,
           1.2999999523162842,
           1,
           0.10000000149011612,
           1.5,
           8,
           0.10000000149011612,
           20,
           1,
           0.25,
           0.10000000149011612,
           10.899999618530273,
           0.10000000149011612,
           0.20000000298023224,
           0.5,
           0.10000000149011612,
           12.699999809265137,
           50,
           21.600000381469727,
           3,
           0.10000000149011612,
           0.10000000149011612,
           0.8999999761581421,
           0.5,
           4.699999809265137,
           3,
           4,
           0.20000000298023224,
           1,
           60,
           0.10000000149011612,
           0.10000000149011612,
           5,
           0.10000000149011612,
           50.099998474121094,
           11,
           11,
           6,
           8,
           1,
           3,
           0.5,
           5,
           0.10000000149011612,
           2,
           0.10000000149011612,
           5,
           16,
           0.20000000298023224,
           29,
           44,
           397,
           70,
           26,
           1,
           1,
           0.10000000149011612,
           0.800000011920929,
           0.699999988079071,
           60,
           101,
           44,
           968,
           179,
           114,
           51.20000076293945,
           7,
           1.5,
           0.20000000298023224,
           0.10000000149011612,
           0.800000011920929,
           0.10000000149011612,
           0.800000011920929,
           0.10000000149011612,
           0.10000000149011612,
           6,
           6.5,
           0.4000000059604645,
           10.300000190734863,
           0.20000000298023224,
           1,
           1,
           2,
           54,
           55,
           39,
           81.30000305175781,
           11,
           3,
           0.20000000298023224,
           0.10000000149011612,
           0.30000001192092896,
           0.5,
           111,
           6,
           51,
           50,
           62,
           226.10000610351562,
           232.1999969482422,
           24,
           230,
           110,
           0.20000000298023224,
           1,
           5,
           5,
           0.10000000149011612,
           0.10000000149011612,
           39.5,
           48.599998474121094,
           284.20001220703125,
           233.89999389648438,
           1,
           2.299999952316284,
           1.600000023841858,
           2,
           7.199999809265137,
           3,
           2,
           5,
           1,
           2.4000000953674316,
           1.399999976158142,
           27.100000381469727,
           3.200000047683716,
           0.5,
           0.5,
           0.20000000298023224,
           1,
           40,
           18.299999237060547,
           1.5,
           115.69999694824219,
           648.9000244140625,
           388.3999938964844,
           4.5,
           21,
           0.10000000149011612,
           27.700000762939453,
           19,
           9,
           13.100000381469727,
           4.699999809265137,
           19.299999237060547,
           14.300000190734863,
           60,
           78.30000305175781,
           198.6999969482422,
           9,
           13.699999809265137,
           3.0999999046325684,
           31.5,
           0.10000000149011612,
           0.20000000298023224,
           0.10000000149011612,
           10.100000381469727,
           37.099998474121094,
           56.29999923706055,
           50.599998474121094,
           9,
           0.10000000149011612,
           2,
           1654.199951171875,
           658.0999755859375,
           1809.5,
           202,
           4,
           0.4000000059604645,
           3.0999999046325684,
           50,
           0.8999999761581421,
           6.900000095367432,
           3.9000000953674316,
           12.699999809265137,
           13.5,
           20.200000762939453,
           50.900001525878906,
           11.699999809265137,
           302.3999938964844,
           156.89999389648438,
           1034.800048828125,
           214.39999389648438,
           12.5,
           45,
           15.199999809265137,
           38,
           0.20000000298023224,
           5,
           0.10000000149011612,
           2,
           6.900000095367432,
           20.799999237060547,
           12,
           24.5,
           2.5,
           70,
           27,
           7838.7998046875,
           3393.89990234375,
           3688.699951171875,
           182,
           63.29999923706055,
           158,
           2.299999952316284,
           120,
           1329,
           2217,
           764,
           225,
           1.7599999904632568,
           32.04999923706055,
           5.239999771118164,
           66.7300033569336,
           13.970000267028809,
           12.180000305175781,
           10.399999618530273,
           55,
           36.5,
           78.30000305175781,
           11.100000381469727,
           321.70001220703125,
           850,
           1179.4000244140625,
           358.8999938964844,
           1161.300048828125,
           143.6999969482422,
           82.19999694824219,
           28.399999618530273,
           0.10000000149011612,
           0.10000000149011612,
           0.20000000298023224,
           1.100000023841858,
           3.200000047683716,
           0.10000000149011612,
           0.800000011920929,
           6,
           1700,
           88,
           199.3000030517578,
           890.2999877929688,
           2346.89990234375,
           1378.699951171875,
           2368.300048828125,
           47,
           33.29999923706055,
           1,
           792,
           1349,
           226,
           122.0999984741211,
           181,
           244.3000030517578,
           3.5999999046325684,
           77.7699966430664,
           229.75,
           69.27999877929688,
           18.190000534057617,
           5.239999771118164,
           19.75,
           38.70000076293945,
           41.29999923706055,
           180.8000030517578,
           213,
           2180.5,
           786.7000122070312,
           694.7000122070312,
           133.1999969482422,
           32.79999923706055,
           148.6999969482422,
           2.5999999046325684,
           100.5999984741211,
           1000,
           0.10000000149011612,
           0.10000000149011612,
           0.20000000298023224,
           0.10000000149011612,
           0.10000000149011612,
           0.20000000298023224,
           48.400001525878906,
           0.05000000074505806,
           0.10000000149011612,
           4.75,
           1500,
           1280,
           1670.75,
           25,
           296.6000061035156,
           27,
           74,
           398,
           109,
           54,
           24,
           47,
           39.810001373291016,
           46.959999084472656,
           7.889999866485596,
           3.6700000762939453,
           4.25,
           65.29000091552734,
           54.29999923706055,
           299.6000061035156,
           743.5999755859375,
           87.80000305175781,
           276.8999938964844,
           331,
           172.89999389648438,
           55,
           1.399999976158142,
           3.200000047683716,
           0.10000000149011612,
           5,
           61.29999923706055,
           40.08000183105469,
           1,
           14.399999618530273,
           2,
           300,
           21,
           82,
           191,
           468,
           135,
           459,
           251.10000610351562,
           105,
           9,
           161.5,
           3,
           47.20000076293945,
           17.649999618530273,
           50.04999923706055,
           16.040000915527344,
           120.97000122070312,
           74.81999969482422,
           227.6699981689453,
           66.2699966430664,
           69,
           92.5999984741211,
           1306.300048828125,
           537,
           92.69999694824219,
           1.5,
           0.4000000059604645,
           0.10000000149011612,
           3,
           14.25,
           2,
           605,
           6,
           9.350000381469727,
           112,
           66,
           70,
           43,
           797.5,
           287,
           138,
           104.95999908447266,
           34.959999084472656,
           47.5,
           56.619998931884766,
           73.13999938964844,
           67.62999725341797,
           155.75999450683594,
           191.39999389648438,
           139.75,
           388.79998779296875,
           79.4000015258789,
           20.299999237060547,
           0.10000000149011612,
           0.25,
           1.100000023841858,
           3,
           6,
           0.05000000074505806,
           5,
           150,
           175.5,
           1651.0999755859375,
           92,
           18,
           141,
           7,
           8,
           89,
           38,
           124,
           97,
           185,
           28.93000030517578,
           102.01000213623047,
           77.7699966430664,
           59,
           64.26000213623047,
           404.0799865722656,
           199.39999389648438,
           249.9199981689453,
           95.5999984741211,
           8,
           500.75,
           237,
           200,
           184,
           18,
           46,
           48,
           1.2999999523162842,
           1121,
           147,
           838,
           476,
           65,
           16,
           12.9399995803833,
           13.710000038146973,
           82.63999938964844,
           175.0800018310547,
           98.5,
           22.06999969482422,
           61.90999984741211,
           66.04000091552734,
           164.82000732421875,
           75.5,
           5,
           32,
           53,
           85,
           147,
           802.5999755859375,
           437,
           107.5,
           23,
           231,
           190.5,
           1142,
           461,
           222,
           551,
           3,
           23.440000534057617,
           320.5,
           93.61000061035156,
           38.7400016784668,
           15.979999542236328,
           96.83999633789062,
           79.12000274658203,
           7.949999809265137,
           4,
           62,
           46,
           55,
           269,
           2,
           446.5,
           439.79998779296875,
           235,
           26,
           232.39999389648438,
           28.5,
           158.60000610351562,
           40,
           45.70000076293945,
           37.72999954223633,
           26.610000610351562,
           233.16000366210938,
           129.67999267578125,
           62.029998779296875,
           0.9200000166893005,
           57.599998474121094,
           0.800000011920929,
           1,
           62,
           135,
           65,
           22,
           590,
           99.19999694824219,
           191,
           22,
           2053,
           4.400000095367432,
           1.399999976158142,
           19.899999618530273,
           6.599999904632568,
           50,
           2.0999999046325684,
           10.199999809265137,
           17.799999237060547,
           61.20000076293945,
           202,
           362.8599853515625,
           219.60000610351562,
           16.100000381469727,
           3,
           38,
           200.6999969482422,
           0.10000000149011612,
           3.799999952316284,
           2.299999952316284,
           94.19999694824219,
           11.699999809265137,
           74.5,
           14.899999618530273,
           52.79999923706055,
           142.1999969482422,
           72.19999694824219,
           69,
           24.200000762939453,
           38.400001525878906,
           174.8000030517578,
           21.600000381469727,
           21,
           28,
           38.5,
           98.0999984741211,
           35,
           112,
           215.1999969482422,
           49.20000076293945,
           220,
           286,
           33,
           600,
           26.600000381469727,
           15,
           103.30000305175781,
           3,
           43.70000076293945,
           490.29998779296875,
           78.5,
           0.5,
           12,
           3.200000047683716,
           0.5,
           876.0999755859375,
           46.900001525878906,
           111.0999984741211,
           3,
           204.1999969482422,
           116.5999984741211,
           1,
           56
          ],
          "sizemode": "area",
          "sizeref": 19.59699951171875
         },
         "mode": "markers",
         "name": "",
         "showlegend": false,
         "subplot": "mapbox",
         "type": "scattermapbox"
        }
       ],
       "layout": {
        "coloraxis": {
         "colorbar": {
          "title": {
           "text": "CNT"
          }
         },
         "colorscale": [
          [
           0,
           "#440154"
          ],
          [
           0.1111111111111111,
           "#482878"
          ],
          [
           0.2222222222222222,
           "#3e4989"
          ],
          [
           0.3333333333333333,
           "#31688e"
          ],
          [
           0.4444444444444444,
           "#26828e"
          ],
          [
           0.5555555555555556,
           "#1f9e89"
          ],
          [
           0.6666666666666666,
           "#35b779"
          ],
          [
           0.7777777777777778,
           "#6ece58"
          ],
          [
           0.8888888888888888,
           "#b5de2b"
          ],
          [
           1,
           "#fde725"
          ]
         ],
         "reversescale": false
        },
        "legend": {
         "itemsizing": "constant",
         "tracegroupgap": 0
        },
        "mapbox": {
         "center": {
          "lat": 38.3544,
          "lon": -99.9981
         },
         "domain": {
          "x": [
           0,
           1
          ],
          "y": [
           0,
           1
          ]
         },
         "style": "carto-positron",
         "zoom": 3
        },
        "margin": {
         "t": 60
        },
        "template": {
         "data": {
          "bar": [
           {
            "error_x": {
             "color": "#2a3f5f"
            },
            "error_y": {
             "color": "#2a3f5f"
            },
            "marker": {
             "line": {
              "color": "#E5ECF6",
              "width": 0.5
             },
             "pattern": {
              "fillmode": "overlay",
              "size": 10,
              "solidity": 0.2
             }
            },
            "type": "bar"
           }
          ],
          "barpolar": [
           {
            "marker": {
             "line": {
              "color": "#E5ECF6",
              "width": 0.5
             },
             "pattern": {
              "fillmode": "overlay",
              "size": 10,
              "solidity": 0.2
             }
            },
            "type": "barpolar"
           }
          ],
          "carpet": [
           {
            "aaxis": {
             "endlinecolor": "#2a3f5f",
             "gridcolor": "white",
             "linecolor": "white",
             "minorgridcolor": "white",
             "startlinecolor": "#2a3f5f"
            },
            "baxis": {
             "endlinecolor": "#2a3f5f",
             "gridcolor": "white",
             "linecolor": "white",
             "minorgridcolor": "white",
             "startlinecolor": "#2a3f5f"
            },
            "type": "carpet"
           }
          ],
          "choropleth": [
           {
            "colorbar": {
             "outlinewidth": 0,
             "ticks": ""
            },
            "type": "choropleth"
           }
          ],
          "contour": [
           {
            "colorbar": {
             "outlinewidth": 0,
             "ticks": ""
            },
            "colorscale": [
             [
              0,
              "#0d0887"
             ],
             [
              0.1111111111111111,
              "#46039f"
             ],
             [
              0.2222222222222222,
              "#7201a8"
             ],
             [
              0.3333333333333333,
              "#9c179e"
             ],
             [
              0.4444444444444444,
              "#bd3786"
             ],
             [
              0.5555555555555556,
              "#d8576b"
             ],
             [
              0.6666666666666666,
              "#ed7953"
             ],
             [
              0.7777777777777778,
              "#fb9f3a"
             ],
             [
              0.8888888888888888,
              "#fdca26"
             ],
             [
              1,
              "#f0f921"
             ]
            ],
            "type": "contour"
           }
          ],
          "contourcarpet": [
           {
            "colorbar": {
             "outlinewidth": 0,
             "ticks": ""
            },
            "type": "contourcarpet"
           }
          ],
          "heatmap": [
           {
            "colorbar": {
             "outlinewidth": 0,
             "ticks": ""
            },
            "colorscale": [
             [
              0,
              "#0d0887"
             ],
             [
              0.1111111111111111,
              "#46039f"
             ],
             [
              0.2222222222222222,
              "#7201a8"
             ],
             [
              0.3333333333333333,
              "#9c179e"
             ],
             [
              0.4444444444444444,
              "#bd3786"
             ],
             [
              0.5555555555555556,
              "#d8576b"
             ],
             [
              0.6666666666666666,
              "#ed7953"
             ],
             [
              0.7777777777777778,
              "#fb9f3a"
             ],
             [
              0.8888888888888888,
              "#fdca26"
             ],
             [
              1,
              "#f0f921"
             ]
            ],
            "type": "heatmap"
           }
          ],
          "heatmapgl": [
           {
            "colorbar": {
             "outlinewidth": 0,
             "ticks": ""
            },
            "colorscale": [
             [
              0,
              "#0d0887"
             ],
             [
              0.1111111111111111,
              "#46039f"
             ],
             [
              0.2222222222222222,
              "#7201a8"
             ],
             [
              0.3333333333333333,
              "#9c179e"
             ],
             [
              0.4444444444444444,
              "#bd3786"
             ],
             [
              0.5555555555555556,
              "#d8576b"
             ],
             [
              0.6666666666666666,
              "#ed7953"
             ],
             [
              0.7777777777777778,
              "#fb9f3a"
             ],
             [
              0.8888888888888888,
              "#fdca26"
             ],
             [
              1,
              "#f0f921"
             ]
            ],
            "type": "heatmapgl"
           }
          ],
          "histogram": [
           {
            "marker": {
             "pattern": {
              "fillmode": "overlay",
              "size": 10,
              "solidity": 0.2
             }
            },
            "type": "histogram"
           }
          ],
          "histogram2d": [
           {
            "colorbar": {
             "outlinewidth": 0,
             "ticks": ""
            },
            "colorscale": [
             [
              0,
              "#0d0887"
             ],
             [
              0.1111111111111111,
              "#46039f"
             ],
             [
              0.2222222222222222,
              "#7201a8"
             ],
             [
              0.3333333333333333,
              "#9c179e"
             ],
             [
              0.4444444444444444,
              "#bd3786"
             ],
             [
              0.5555555555555556,
              "#d8576b"
             ],
             [
              0.6666666666666666,
              "#ed7953"
             ],
             [
              0.7777777777777778,
              "#fb9f3a"
             ],
             [
              0.8888888888888888,
              "#fdca26"
             ],
             [
              1,
              "#f0f921"
             ]
            ],
            "type": "histogram2d"
           }
          ],
          "histogram2dcontour": [
           {
            "colorbar": {
             "outlinewidth": 0,
             "ticks": ""
            },
            "colorscale": [
             [
              0,
              "#0d0887"
             ],
             [
              0.1111111111111111,
              "#46039f"
             ],
             [
              0.2222222222222222,
              "#7201a8"
             ],
             [
              0.3333333333333333,
              "#9c179e"
             ],
             [
              0.4444444444444444,
              "#bd3786"
             ],
             [
              0.5555555555555556,
              "#d8576b"
             ],
             [
              0.6666666666666666,
              "#ed7953"
             ],
             [
              0.7777777777777778,
              "#fb9f3a"
             ],
             [
              0.8888888888888888,
              "#fdca26"
             ],
             [
              1,
              "#f0f921"
             ]
            ],
            "type": "histogram2dcontour"
           }
          ],
          "mesh3d": [
           {
            "colorbar": {
             "outlinewidth": 0,
             "ticks": ""
            },
            "type": "mesh3d"
           }
          ],
          "parcoords": [
           {
            "line": {
             "colorbar": {
              "outlinewidth": 0,
              "ticks": ""
             }
            },
            "type": "parcoords"
           }
          ],
          "pie": [
           {
            "automargin": true,
            "type": "pie"
           }
          ],
          "scatter": [
           {
            "marker": {
             "colorbar": {
              "outlinewidth": 0,
              "ticks": ""
             }
            },
            "type": "scatter"
           }
          ],
          "scatter3d": [
           {
            "line": {
             "colorbar": {
              "outlinewidth": 0,
              "ticks": ""
             }
            },
            "marker": {
             "colorbar": {
              "outlinewidth": 0,
              "ticks": ""
             }
            },
            "type": "scatter3d"
           }
          ],
          "scattercarpet": [
           {
            "marker": {
             "colorbar": {
              "outlinewidth": 0,
              "ticks": ""
             }
            },
            "type": "scattercarpet"
           }
          ],
          "scattergeo": [
           {
            "marker": {
             "colorbar": {
              "outlinewidth": 0,
              "ticks": ""
             }
            },
            "type": "scattergeo"
           }
          ],
          "scattergl": [
           {
            "marker": {
             "colorbar": {
              "outlinewidth": 0,
              "ticks": ""
             }
            },
            "type": "scattergl"
           }
          ],
          "scattermapbox": [
           {
            "marker": {
             "colorbar": {
              "outlinewidth": 0,
              "ticks": ""
             }
            },
            "type": "scattermapbox"
           }
          ],
          "scatterpolar": [
           {
            "marker": {
             "colorbar": {
              "outlinewidth": 0,
              "ticks": ""
             }
            },
            "type": "scatterpolar"
           }
          ],
          "scatterpolargl": [
           {
            "marker": {
             "colorbar": {
              "outlinewidth": 0,
              "ticks": ""
             }
            },
            "type": "scatterpolargl"
           }
          ],
          "scatterternary": [
           {
            "marker": {
             "colorbar": {
              "outlinewidth": 0,
              "ticks": ""
             }
            },
            "type": "scatterternary"
           }
          ],
          "surface": [
           {
            "colorbar": {
             "outlinewidth": 0,
             "ticks": ""
            },
            "colorscale": [
             [
              0,
              "#0d0887"
             ],
             [
              0.1111111111111111,
              "#46039f"
             ],
             [
              0.2222222222222222,
              "#7201a8"
             ],
             [
              0.3333333333333333,
              "#9c179e"
             ],
             [
              0.4444444444444444,
              "#bd3786"
             ],
             [
              0.5555555555555556,
              "#d8576b"
             ],
             [
              0.6666666666666666,
              "#ed7953"
             ],
             [
              0.7777777777777778,
              "#fb9f3a"
             ],
             [
              0.8888888888888888,
              "#fdca26"
             ],
             [
              1,
              "#f0f921"
             ]
            ],
            "type": "surface"
           }
          ],
          "table": [
           {
            "cells": {
             "fill": {
              "color": "#EBF0F8"
             },
             "line": {
              "color": "white"
             }
            },
            "header": {
             "fill": {
              "color": "#C8D4E3"
             },
             "line": {
              "color": "white"
             }
            },
            "type": "table"
           }
          ]
         },
         "layout": {
          "annotationdefaults": {
           "arrowcolor": "#2a3f5f",
           "arrowhead": 0,
           "arrowwidth": 1
          },
          "autotypenumbers": "strict",
          "coloraxis": {
           "colorbar": {
            "outlinewidth": 0,
            "ticks": ""
           }
          },
          "colorscale": {
           "diverging": [
            [
             0,
             "#8e0152"
            ],
            [
             0.1,
             "#c51b7d"
            ],
            [
             0.2,
             "#de77ae"
            ],
            [
             0.3,
             "#f1b6da"
            ],
            [
             0.4,
             "#fde0ef"
            ],
            [
             0.5,
             "#f7f7f7"
            ],
            [
             0.6,
             "#e6f5d0"
            ],
            [
             0.7,
             "#b8e186"
            ],
            [
             0.8,
             "#7fbc41"
            ],
            [
             0.9,
             "#4d9221"
            ],
            [
             1,
             "#276419"
            ]
           ],
           "sequential": [
            [
             0,
             "#0d0887"
            ],
            [
             0.1111111111111111,
             "#46039f"
            ],
            [
             0.2222222222222222,
             "#7201a8"
            ],
            [
             0.3333333333333333,
             "#9c179e"
            ],
            [
             0.4444444444444444,
             "#bd3786"
            ],
            [
             0.5555555555555556,
             "#d8576b"
            ],
            [
             0.6666666666666666,
             "#ed7953"
            ],
            [
             0.7777777777777778,
             "#fb9f3a"
            ],
            [
             0.8888888888888888,
             "#fdca26"
            ],
            [
             1,
             "#f0f921"
            ]
           ],
           "sequentialminus": [
            [
             0,
             "#0d0887"
            ],
            [
             0.1111111111111111,
             "#46039f"
            ],
            [
             0.2222222222222222,
             "#7201a8"
            ],
            [
             0.3333333333333333,
             "#9c179e"
            ],
            [
             0.4444444444444444,
             "#bd3786"
            ],
            [
             0.5555555555555556,
             "#d8576b"
            ],
            [
             0.6666666666666666,
             "#ed7953"
            ],
            [
             0.7777777777777778,
             "#fb9f3a"
            ],
            [
             0.8888888888888888,
             "#fdca26"
            ],
            [
             1,
             "#f0f921"
            ]
           ]
          },
          "colorway": [
           "#636efa",
           "#EF553B",
           "#00cc96",
           "#ab63fa",
           "#FFA15A",
           "#19d3f3",
           "#FF6692",
           "#B6E880",
           "#FF97FF",
           "#FECB52"
          ],
          "font": {
           "color": "#2a3f5f"
          },
          "geo": {
           "bgcolor": "white",
           "lakecolor": "white",
           "landcolor": "#E5ECF6",
           "showlakes": true,
           "showland": true,
           "subunitcolor": "white"
          },
          "hoverlabel": {
           "align": "left"
          },
          "hovermode": "closest",
          "mapbox": {
           "style": "light"
          },
          "paper_bgcolor": "white",
          "plot_bgcolor": "#E5ECF6",
          "polar": {
           "angularaxis": {
            "gridcolor": "white",
            "linecolor": "white",
            "ticks": ""
           },
           "bgcolor": "#E5ECF6",
           "radialaxis": {
            "gridcolor": "white",
            "linecolor": "white",
            "ticks": ""
           }
          },
          "scene": {
           "xaxis": {
            "backgroundcolor": "#E5ECF6",
            "gridcolor": "white",
            "gridwidth": 2,
            "linecolor": "white",
            "showbackground": true,
            "ticks": "",
            "zerolinecolor": "white"
           },
           "yaxis": {
            "backgroundcolor": "#E5ECF6",
            "gridcolor": "white",
            "gridwidth": 2,
            "linecolor": "white",
            "showbackground": true,
            "ticks": "",
            "zerolinecolor": "white"
           },
           "zaxis": {
            "backgroundcolor": "#E5ECF6",
            "gridcolor": "white",
            "gridwidth": 2,
            "linecolor": "white",
            "showbackground": true,
            "ticks": "",
            "zerolinecolor": "white"
           }
          },
          "shapedefaults": {
           "line": {
            "color": "#2a3f5f"
           }
          },
          "ternary": {
           "aaxis": {
            "gridcolor": "white",
            "linecolor": "white",
            "ticks": ""
           },
           "baxis": {
            "gridcolor": "white",
            "linecolor": "white",
            "ticks": ""
           },
           "bgcolor": "#E5ECF6",
           "caxis": {
            "gridcolor": "white",
            "linecolor": "white",
            "ticks": ""
           }
          },
          "title": {
           "x": 0.05
          },
          "xaxis": {
           "automargin": true,
           "gridcolor": "white",
           "linecolor": "white",
           "ticks": "",
           "title": {
            "standoff": 15
           },
           "zerolinecolor": "white",
           "zerolinewidth": 2
          },
          "yaxis": {
           "automargin": true,
           "gridcolor": "white",
           "linecolor": "white",
           "ticks": "",
           "title": {
            "standoff": 15
           },
           "zerolinecolor": "white",
           "zerolinewidth": 2
          }
         }
        },
        "title": {
         "text": "US number of wildfires",
         "x": 0.5
        }
       }
      },
      "text/html": [
       "<div>                            <div id=\"fe4bb628-c12e-4f5a-8ce1-b8267b83c1a5\" class=\"plotly-graph-div\" style=\"height:525px; width:100%;\"></div>            <script type=\"text/javascript\">                require([\"plotly\"], function(Plotly) {                    window.PLOTLYENV=window.PLOTLYENV || {};                                    if (document.getElementById(\"fe4bb628-c12e-4f5a-8ce1-b8267b83c1a5\")) {                    Plotly.newPlot(                        \"fe4bb628-c12e-4f5a-8ce1-b8267b83c1a5\",                        [{\"hovertemplate\":\"BA=%{marker.size}<br>lat=%{lat}<br>lon=%{lon}<br>CNT=%{marker.color}<extra></extra>\",\"lat\":[48.75,48.75,48.75,48.25,48.25,48.25,48.25,48.25,48.25,48.25,48.25,48.25,48.25,47.75,47.75,47.75,47.75,47.75,47.25,47.25,46.75,46.75,46.75,46.75,46.75,46.25,46.25,46.25,46.25,46.25,46.25,46.25,46.25,45.75,45.75,45.75,45.75,45.75,45.75,45.75,45.75,45.75,45.75,45.25,45.25,45.25,45.25,45.25,45.25,45.25,45.25,45.25,44.75,44.75,44.75,44.75,44.75,44.75,44.75,44.75,44.75,44.25,44.25,44.25,44.25,44.25,44.25,43.75,43.75,43.75,43.75,43.75,43.75,43.75,43.75,43.75,43.25,43.25,43.25,43.25,43.25,43.25,43.25,42.75,42.75,42.25,41.75,41.75,41.75,41.25,41.25,40.75,40.75,40.75,40.75,40.75,40.75,40.75,40.75,40.75,40.75,40.25,40.25,40.25,40.25,40.25,40.25,39.75,39.75,39.25,39.25,39.25,39.25,39.25,39.25,39.25,39.25,38.75,38.75,38.75,38.75,38.75,38.75,38.75,38.75,38.75,38.75,38.75,38.75,38.75,38.25,38.25,38.25,38.25,38.25,38.25,38.25,38.25,38.25,38.25,38.25,38.25,38.25,38.25,37.75,37.75,37.75,37.75,37.75,37.75,37.75,37.75,37.75,37.75,37.75,37.75,37.75,37.25,37.25,37.25,37.25,37.25,37.25,37.25,37.25,37.25,37.25,37.25,37.25,37.25,37.25,37.25,37.25,37.25,37.25,37.25,37.25,37.25,36.75,36.75,36.75,36.75,36.75,36.75,36.75,36.75,36.75,36.75,36.75,36.75,36.75,36.75,36.75,36.75,36.25,36.25,36.25,36.25,36.25,36.25,36.25,36.25,36.25,36.25,36.25,36.25,36.25,36.25,36.25,36.25,36.25,36.25,36.25,36.25,35.75,35.75,35.75,35.75,35.75,35.75,35.75,35.75,35.75,35.75,35.75,35.75,35.75,35.75,35.75,35.75,35.75,35.75,35.75,35.75,35.75,35.75,35.75,35.75,35.75,35.75,35.75,35.25,35.25,35.25,35.25,35.25,35.25,35.25,35.25,35.25,35.25,35.25,35.25,35.25,35.25,35.25,35.25,35.25,35.25,35.25,35.25,35.25,35.25,35.25,35.25,35.25,35.25,35.25,35.25,35.25,35.25,35.25,35.25,35.25,35.25,34.75,34.75,34.75,34.75,34.75,34.75,34.75,34.75,34.75,34.75,34.75,34.75,34.75,34.75,34.75,34.75,34.75,34.75,34.75,34.75,34.75,34.75,34.75,34.75,34.75,34.75,34.75,34.75,34.75,34.75,34.75,34.75,34.75,34.75,34.75,34.75,34.75,34.75,34.75,34.75,34.75,34.75,34.75,34.25,34.25,34.25,34.25,34.25,34.25,34.25,34.25,34.25,34.25,34.25,34.25,34.25,34.25,34.25,34.25,34.25,34.25,34.25,34.25,34.25,34.25,34.25,34.25,34.25,34.25,34.25,34.25,34.25,34.25,34.25,34.25,34.25,34.25,34.25,34.25,34.25,34.25,34.25,34.25,33.75,33.75,33.75,33.75,33.75,33.75,33.75,33.75,33.75,33.75,33.75,33.75,33.75,33.75,33.75,33.75,33.75,33.75,33.75,33.75,33.75,33.75,33.75,33.75,33.75,33.75,33.75,33.75,33.75,33.75,33.75,33.75,33.75,33.75,33.75,33.75,33.75,33.75,33.75,33.75,33.25,33.25,33.25,33.25,33.25,33.25,33.25,33.25,33.25,33.25,33.25,33.25,33.25,33.25,33.25,33.25,33.25,33.25,33.25,33.25,33.25,33.25,33.25,33.25,33.25,33.25,33.25,33.25,33.25,33.25,33.25,33.25,33.25,32.75,32.75,32.75,32.75,32.75,32.75,32.75,32.75,32.75,32.75,32.75,32.75,32.75,32.75,32.75,32.75,32.75,32.75,32.75,32.75,32.75,32.75,32.75,32.75,32.75,32.75,32.75,32.75,32.25,32.25,32.25,32.25,32.25,32.25,32.25,32.25,32.25,32.25,32.25,32.25,32.25,32.25,32.25,32.25,32.25,32.25,32.25,32.25,32.25,32.25,32.25,32.25,32.25,32.25,32.25,32.25,32.25,31.75,31.75,31.75,31.75,31.75,31.75,31.75,31.75,31.75,31.75,31.75,31.75,31.75,31.75,31.75,31.75,31.75,31.75,31.75,31.75,31.75,31.75,31.75,31.75,31.25,31.25,31.25,31.25,31.25,31.25,31.25,31.25,31.25,31.25,31.25,31.25,31.25,31.25,31.25,31.25,31.25,31.25,31.25,31.25,31.25,31.25,31.25,31.25,31.25,30.75,30.75,30.75,30.75,30.75,30.75,30.75,30.75,30.75,30.75,30.75,30.75,30.75,30.75,30.75,30.75,30.75,30.75,30.75,30.75,30.75,30.75,30.25,30.25,30.25,30.25,30.25,30.25,30.25,30.25,30.25,30.25,30.25,30.25,30.25,30.25,30.25,30.25,30.25,30.25,30.25,30.25,30.25,30.25,30.25,30.25,29.75,29.75,29.75,29.75,29.75,29.75,29.75,29.75,29.75,29.75,29.25,29.25,29.25,29.25,28.75,28.75,28.75,28.75,28.75,28.25,28.25,28.25,28.25,28.25,27.75,27.75,27.75,27.75,27.75,27.25,27.25,27.25,27.25,27.25,26.75,26.75,26.75,26.75,26.75,26.25,26.25,26.25,26.25,26.25,25.75,25.75,25.75,25.25,25.25],\"legendgroup\":\"\",\"lon\":[-122.25,-118.25,-116.25,-123.25,-122.75,-122.25,-121.75,-115.25,-114.25,-109.75,-108.75,-105.75,-105.25,-122.75,-117.75,-108.75,-102.75,-98.75,-121.75,-94.75,-123.25,-122.75,-111.75,-103.25,-94.25,-123.75,-122.75,-116.25,-100.75,-94.25,-93.75,-92.25,-91.75,-123.25,-107.75,-107.25,-106.75,-100.75,-93.75,-92.25,-91.75,-89.75,-89.25,-123.75,-122.25,-107.25,-106.25,-93.75,-89.75,-89.25,-88.25,-87.75,-123.75,-106.75,-101.75,-101.25,-91.25,-90.75,-89.75,-88.75,-88.25,-103.75,-99.75,-99.25,-90.75,-89.25,-85.25,-104.75,-104.25,-103.75,-102.75,-101.25,-99.25,-90.75,-89.75,-89.25,-108.75,-102.75,-102.25,-101.25,-100.75,-100.25,-90.75,-124.25,-75.75,-96.25,-123.25,-93.25,-87.25,-123.75,-121.75,-123.25,-122.25,-121.75,-105.75,-104.75,-103.25,-74.75,-74.25,-73.75,-72.75,-123.25,-122.25,-112.25,-105.25,-103.25,-102.75,-121.25,-105.25,-122.75,-121.25,-120.75,-104.75,-92.25,-91.25,-79.75,-74.75,-123.75,-122.75,-120.75,-119.25,-107.75,-105.25,-104.75,-104.25,-92.75,-92.25,-91.25,-81.25,-78.25,-122.25,-120.75,-120.25,-107.25,-106.25,-105.75,-105.25,-93.75,-93.25,-92.75,-92.25,-91.25,-90.75,-82.25,-118.75,-105.75,-102.25,-94.25,-93.75,-93.25,-92.75,-92.25,-91.75,-91.25,-90.75,-82.25,-81.75,-122.25,-121.75,-120.75,-120.25,-119.75,-118.75,-108.75,-107.75,-105.75,-102.25,-101.75,-94.25,-93.75,-93.25,-92.75,-92.25,-91.75,-91.25,-90.75,-90.25,-81.25,-119.75,-106.75,-106.25,-104.75,-94.75,-94.25,-93.75,-93.25,-92.75,-92.25,-91.75,-91.25,-90.75,-81.25,-79.25,-77.25,-117.75,-115.25,-112.25,-106.25,-105.75,-95.25,-94.75,-88.25,-81.75,-81.25,-80.75,-80.25,-79.25,-78.75,-78.25,-77.75,-77.25,-76.75,-76.25,-75.75,-120.75,-119.25,-118.75,-111.25,-110.25,-106.25,-101.75,-95.25,-94.75,-94.25,-92.25,-84.25,-83.25,-82.75,-82.25,-81.75,-81.25,-80.75,-80.25,-79.75,-79.25,-78.75,-78.25,-77.75,-77.25,-76.75,-75.75,-120.75,-120.25,-112.25,-109.75,-109.25,-108.75,-107.25,-106.75,-106.25,-105.75,-95.75,-95.25,-94.75,-94.25,-93.75,-91.25,-90.25,-87.75,-84.25,-83.75,-83.25,-82.75,-82.25,-81.75,-81.25,-80.75,-80.25,-79.75,-79.25,-78.75,-78.25,-77.75,-77.25,-76.75,-118.75,-114.75,-111.75,-111.25,-109.25,-108.75,-106.75,-106.25,-98.75,-97.25,-96.75,-95.75,-95.25,-94.75,-94.25,-93.25,-92.75,-91.25,-90.25,-89.75,-89.25,-88.75,-88.25,-85.75,-85.25,-84.75,-84.25,-83.75,-83.25,-82.75,-82.25,-81.75,-81.25,-80.75,-80.25,-79.75,-79.25,-78.75,-78.25,-77.75,-77.25,-76.75,-76.25,-118.25,-117.25,-116.75,-114.25,-112.75,-110.25,-105.75,-104.25,-97.25,-96.75,-96.25,-95.75,-95.25,-94.75,-94.25,-93.25,-90.75,-90.25,-89.75,-89.25,-88.75,-88.25,-87.25,-85.75,-85.25,-84.75,-84.25,-83.75,-83.25,-82.75,-82.25,-81.75,-81.25,-80.75,-80.25,-79.75,-79.25,-78.75,-78.25,-77.75,-117.25,-116.25,-114.75,-113.25,-112.25,-111.75,-111.25,-110.75,-110.25,-109.75,-107.25,-106.75,-105.75,-105.25,-104.25,-103.25,-95.25,-94.75,-94.25,-90.25,-89.75,-89.25,-88.75,-88.25,-85.75,-85.25,-84.75,-84.25,-83.75,-83.25,-82.75,-82.25,-81.75,-81.25,-80.75,-80.25,-79.75,-79.25,-78.75,-78.25,-116.75,-114.75,-112.25,-111.75,-108.25,-106.75,-105.75,-105.25,-104.25,-97.75,-95.25,-94.75,-94.25,-90.25,-89.75,-89.25,-88.75,-88.25,-86.25,-85.75,-85.25,-84.75,-84.25,-83.75,-83.25,-82.75,-82.25,-81.75,-81.25,-80.75,-80.25,-79.75,-79.25,-117.25,-116.75,-114.75,-109.75,-108.25,-105.75,-104.25,-103.75,-103.25,-95.25,-94.75,-94.25,-90.25,-89.75,-89.25,-88.75,-85.25,-84.75,-84.25,-83.75,-83.25,-82.75,-82.25,-81.75,-81.25,-80.75,-80.25,-79.75,-111.25,-110.75,-109.75,-109.25,-108.75,-108.25,-106.75,-104.75,-104.25,-103.75,-95.75,-95.25,-94.75,-94.25,-90.75,-90.25,-89.75,-89.25,-88.75,-88.25,-84.75,-84.25,-83.75,-83.25,-82.75,-82.25,-81.75,-81.25,-80.75,-110.75,-110.25,-95.75,-95.25,-94.75,-94.25,-93.75,-92.75,-91.25,-90.75,-90.25,-89.75,-89.25,-88.75,-88.25,-85.25,-84.75,-84.25,-83.75,-83.25,-82.75,-82.25,-81.75,-81.25,-110.25,-109.75,-95.75,-95.25,-94.75,-94.25,-93.75,-93.25,-92.75,-92.25,-91.25,-90.75,-90.25,-89.75,-89.25,-88.75,-88.25,-84.75,-84.25,-83.75,-83.25,-82.75,-82.25,-81.75,-81.25,-95.75,-95.25,-94.75,-94.25,-93.75,-93.25,-89.75,-89.25,-88.75,-88.25,-87.25,-86.75,-86.25,-85.75,-85.25,-84.75,-84.25,-83.75,-83.25,-82.75,-82.25,-81.75,-97.75,-97.25,-95.75,-95.25,-94.75,-94.25,-93.75,-89.75,-89.25,-88.75,-88.25,-87.25,-86.75,-86.25,-85.75,-85.25,-84.75,-84.25,-83.75,-83.25,-82.75,-82.25,-81.75,-81.25,-101.25,-97.25,-85.25,-84.25,-83.75,-83.25,-82.75,-82.25,-81.75,-81.25,-82.75,-82.25,-81.75,-81.25,-82.75,-82.25,-81.75,-81.25,-80.75,-82.75,-82.25,-81.75,-81.25,-80.75,-82.25,-81.75,-81.25,-80.75,-80.25,-97.25,-82.25,-81.75,-81.25,-80.25,-82.25,-81.75,-81.25,-80.75,-80.25,-98.25,-97.75,-81.75,-81.25,-80.75,-81.25,-80.75,-80.25,-80.75,-80.25],\"marker\":{\"color\":[3.0,1.0,1.0,1.0,2.0,1.0,1.0,1.0,1.0,2.0,2.0,1.0,5.0,3.0,1.0,1.0,1.0,2.0,2.0,1.0,1.0,1.0,1.0,2.0,1.0,3.0,2.0,1.0,3.0,1.0,1.0,1.0,7.0,1.0,2.0,4.0,5.0,2.0,1.0,3.0,1.0,4.0,1.0,1.0,1.0,1.0,1.0,3.0,2.0,1.0,2.0,3.0,1.0,1.0,1.0,1.0,1.0,1.0,1.0,1.0,1.0,1.0,5.0,1.0,1.0,1.0,1.0,1.0,1.0,1.0,1.0,1.0,1.0,1.0,3.0,3.0,2.0,1.0,5.0,1.0,10.0,1.0,1.0,1.0,1.0,1.0,1.0,2.0,3.0,2.0,1.0,1.0,4.0,1.0,1.0,1.0,1.0,1.0,1.0,2.0,1.0,1.0,1.0,1.0,16.0,1.0,7.0,2.0,1.0,1.0,2.0,1.0,5.0,1.0,2.0,1.0,1.0,1.0,1.0,1.0,1.0,1.0,2.0,5.0,2.0,1.0,3.0,1.0,1.0,1.0,1.0,1.0,1.0,1.0,1.0,1.0,2.0,3.0,9.0,24.0,4.0,7.0,1.0,1.0,1.0,4.0,3.0,1.0,5.0,5.0,27.0,11.0,6.0,7.0,2.0,2.0,2.0,1.0,2.0,1.0,1.0,1.0,1.0,1.0,2.0,4.0,4.0,1.0,1.0,1.0,1.0,3.0,8.0,9.0,3.0,4.0,1.0,1.0,1.0,1.0,1.0,2.0,2.0,2.0,7.0,9.0,11.0,24.0,7.0,10.0,5.0,1.0,1.0,1.0,1.0,1.0,1.0,8.0,8.0,14.0,32.0,1.0,4.0,6.0,2.0,6.0,2.0,2.0,2.0,1.0,4.0,4.0,3.0,2.0,1.0,1.0,2.0,1.0,1.0,3.0,2.0,12.0,59.0,11.0,3.0,2.0,1.0,8.0,11.0,15.0,13.0,10.0,11.0,8.0,12.0,5.0,13.0,5.0,8.0,2.0,7.0,1.0,2.0,1.0,3.0,2.0,22.0,10.0,2.0,1.0,1.0,12.0,28.0,27.0,2.0,1.0,1.0,1.0,1.0,2.0,7.0,7.0,11.0,8.0,6.0,25.0,15.0,12.0,16.0,36.0,25.0,10.0,11.0,7.0,7.0,1.0,1.0,1.0,1.0,6.0,6.0,2.0,6.0,2.0,1.0,1.0,37.0,125.0,74.0,2.0,5.0,5.0,1.0,4.0,26.0,43.0,41.0,20.0,1.0,12.0,9.0,8.0,8.0,6.0,9.0,8.0,10.0,11.0,11.0,18.0,40.0,64.0,26.0,18.0,19.0,12.0,5.0,1.0,1.0,2.0,2.0,2.0,1.0,1.0,1.0,1.0,2.0,2.0,4.0,24.0,40.0,184.0,5.0,4.0,1.0,15.0,26.0,19.0,16.0,7.0,11.0,1.0,13.0,27.0,26.0,6.0,7.0,3.0,17.0,6.0,11.0,18.0,32.0,33.0,20.0,20.0,14.0,20.0,3.0,4.0,1.0,1.0,1.0,2.0,1.0,1.0,1.0,6.0,1.0,1.0,2.0,1.0,1.0,4.0,1.0,19.0,2.0,8.0,22.0,9.0,10.0,3.0,4.0,17.0,19.0,9.0,3.0,5.0,13.0,7.0,12.0,41.0,24.0,51.0,49.0,26.0,3.0,4.0,3.0,1.0,1.0,5.0,2.0,1.0,10.0,1.0,1.0,1.0,2.0,4.0,13.0,9.0,24.0,24.0,12.0,2.0,5.0,2.0,13.0,13.0,17.0,5.0,24.0,8.0,14.0,13.0,12.0,29.0,67.0,74.0,18.0,1.0,4.0,1.0,1.0,4.0,1.0,2.0,1.0,6.0,5.0,7.0,8.0,9.0,47.0,22.0,11.0,6.0,15.0,14.0,22.0,23.0,17.0,15.0,25.0,14.0,28.0,20.0,4.0,1.0,1.0,2.0,1.0,1.0,1.0,1.0,1.0,7.0,3.0,6.0,8.0,10.0,2.0,1.0,6.0,6.0,10.0,3.0,2.0,15.0,13.0,11.0,16.0,27.0,35.0,19.0,33.0,12.0,2.0,3.0,3.0,11.0,10.0,3.0,3.0,4.0,2.0,14.0,11.0,33.0,26.0,12.0,2.0,3.0,10.0,12.0,21.0,18.0,13.0,20.0,35.0,32.0,2.0,2.0,2.0,3.0,5.0,5.0,20.0,4.0,4.0,1.0,5.0,18.0,46.0,30.0,22.0,22.0,1.0,7.0,13.0,25.0,19.0,3.0,20.0,19.0,10.0,2.0,7.0,4.0,9.0,22.0,1.0,17.0,52.0,24.0,10.0,19.0,19.0,17.0,6.0,6.0,12.0,10.0,21.0,34.0,10.0,2.0,13.0,1.0,1.0,5.0,9.0,1.0,5.0,17.0,3.0,20.0,8.0,7.0,3.0,1.0,2.0,3.0,4.0,2.0,6.0,9.0,17.0,15.0,13.0,15.0,4.0,1.0,2.0,3.0,1.0,6.0,6.0,16.0,6.0,10.0,4.0,11.0,16.0,13.0,2.0,7.0,8.0,12.0,5.0,2.0,4.0,7.0,7.0,5.0,4.0,6.0,8.0,4.0,5.0,3.0,1.0,8.0,1.0,6.0,1.0,6.0,19.0,3.0,4.0,4.0,1.0,2.0,19.0,4.0,6.0,2.0,4.0,11.0,1.0,2.0],\"coloraxis\":\"coloraxis\",\"size\":[8.0,0.20000000298023224,0.10000000149011612,0.5,0.20000000298023224,0.10000000149011612,2.0,0.009999999776482582,0.009999999776482582,1.100000023841858,60.70000076293945,20.0,3.0,3.5,0.10000000149011612,1.2999999523162842,6.0,5.0,2.200000047683716,1.100000023841858,2.5,0.5,0.009999999776482582,31.5,0.5,29.5,4.0,0.20000000298023224,3.0,1.5,0.20000000298023224,0.20000000298023224,0.5899999737739563,0.009999999776482582,5.099999904632568,7.699999809265137,30.700000762939453,8.0,1.0,71.0999984741211,0.8999999761581421,0.33000001311302185,0.009999999776482582,1.0,8.0,30.0,3.0,10.0,0.2199999988079071,2.0,0.949999988079071,0.23000000417232513,0.009999999776482582,1.5,49.29999923706055,0.10000000149011612,0.009999999776482582,0.10000000149011612,0.12999999523162842,0.10000000149011612,0.10000000149011612,6.0,64.19999694824219,10.0,0.20000000298023224,0.03999999910593033,1.0,70.0,1.0,3.0,0.5,4.0,3.0,1.2000000476837158,0.5,0.6499999761581421,4.0,28.100000381469727,247.1999969482422,2.0,91.30000305175781,2.5,0.15000000596046448,2.0,5.0,0.5,0.10000000149011612,0.6000000238418579,38.5,1.2999999523162842,1.0,0.10000000149011612,1.5,8.0,0.10000000149011612,20.0,1.0,0.25,0.10000000149011612,10.899999618530273,0.10000000149011612,0.20000000298023224,0.5,0.10000000149011612,12.699999809265137,50.0,21.600000381469727,3.0,0.10000000149011612,0.10000000149011612,0.8999999761581421,0.5,4.699999809265137,3.0,4.0,0.20000000298023224,1.0,60.0,0.10000000149011612,0.10000000149011612,5.0,0.10000000149011612,50.099998474121094,11.0,11.0,6.0,8.0,1.0,3.0,0.5,5.0,0.10000000149011612,2.0,0.10000000149011612,5.0,16.0,0.20000000298023224,29.0,44.0,397.0,70.0,26.0,1.0,1.0,0.10000000149011612,0.800000011920929,0.699999988079071,60.0,101.0,44.0,968.0,179.0,114.0,51.20000076293945,7.0,1.5,0.20000000298023224,0.10000000149011612,0.800000011920929,0.10000000149011612,0.800000011920929,0.10000000149011612,0.10000000149011612,6.0,6.5,0.4000000059604645,10.300000190734863,0.20000000298023224,1.0,1.0,2.0,54.0,55.0,39.0,81.30000305175781,11.0,3.0,0.20000000298023224,0.10000000149011612,0.30000001192092896,0.5,111.0,6.0,51.0,50.0,62.0,226.10000610351562,232.1999969482422,24.0,230.0,110.0,0.20000000298023224,1.0,5.0,5.0,0.10000000149011612,0.10000000149011612,39.5,48.599998474121094,284.20001220703125,233.89999389648438,1.0,2.299999952316284,1.600000023841858,2.0,7.199999809265137,3.0,2.0,5.0,1.0,2.4000000953674316,1.399999976158142,27.100000381469727,3.200000047683716,0.5,0.5,0.20000000298023224,1.0,40.0,18.299999237060547,1.5,115.69999694824219,648.9000244140625,388.3999938964844,4.5,21.0,0.10000000149011612,27.700000762939453,19.0,9.0,13.100000381469727,4.699999809265137,19.299999237060547,14.300000190734863,60.0,78.30000305175781,198.6999969482422,9.0,13.699999809265137,3.0999999046325684,31.5,0.10000000149011612,0.20000000298023224,0.10000000149011612,10.100000381469727,37.099998474121094,56.29999923706055,50.599998474121094,9.0,0.10000000149011612,2.0,1654.199951171875,658.0999755859375,1809.5,202.0,4.0,0.4000000059604645,3.0999999046325684,50.0,0.8999999761581421,6.900000095367432,3.9000000953674316,12.699999809265137,13.5,20.200000762939453,50.900001525878906,11.699999809265137,302.3999938964844,156.89999389648438,1034.800048828125,214.39999389648438,12.5,45.0,15.199999809265137,38.0,0.20000000298023224,5.0,0.10000000149011612,2.0,6.900000095367432,20.799999237060547,12.0,24.5,2.5,70.0,27.0,7838.7998046875,3393.89990234375,3688.699951171875,182.0,63.29999923706055,158.0,2.299999952316284,120.0,1329.0,2217.0,764.0,225.0,1.7599999904632568,32.04999923706055,5.239999771118164,66.7300033569336,13.970000267028809,12.180000305175781,10.399999618530273,55.0,36.5,78.30000305175781,11.100000381469727,321.70001220703125,850.0,1179.4000244140625,358.8999938964844,1161.300048828125,143.6999969482422,82.19999694824219,28.399999618530273,0.10000000149011612,0.10000000149011612,0.20000000298023224,1.100000023841858,3.200000047683716,0.10000000149011612,0.800000011920929,6.0,1700.0,88.0,199.3000030517578,890.2999877929688,2346.89990234375,1378.699951171875,2368.300048828125,47.0,33.29999923706055,1.0,792.0,1349.0,226.0,122.0999984741211,181.0,244.3000030517578,3.5999999046325684,77.7699966430664,229.75,69.27999877929688,18.190000534057617,5.239999771118164,19.75,38.70000076293945,41.29999923706055,180.8000030517578,213.0,2180.5,786.7000122070312,694.7000122070312,133.1999969482422,32.79999923706055,148.6999969482422,2.5999999046325684,100.5999984741211,1000.0,0.10000000149011612,0.10000000149011612,0.20000000298023224,0.10000000149011612,0.10000000149011612,0.20000000298023224,48.400001525878906,0.05000000074505806,0.10000000149011612,4.75,1500.0,1280.0,1670.75,25.0,296.6000061035156,27.0,74.0,398.0,109.0,54.0,24.0,47.0,39.810001373291016,46.959999084472656,7.889999866485596,3.6700000762939453,4.25,65.29000091552734,54.29999923706055,299.6000061035156,743.5999755859375,87.80000305175781,276.8999938964844,331.0,172.89999389648438,55.0,1.399999976158142,3.200000047683716,0.10000000149011612,5.0,61.29999923706055,40.08000183105469,1.0,14.399999618530273,2.0,300.0,21.0,82.0,191.0,468.0,135.0,459.0,251.10000610351562,105.0,9.0,161.5,3.0,47.20000076293945,17.649999618530273,50.04999923706055,16.040000915527344,120.97000122070312,74.81999969482422,227.6699981689453,66.2699966430664,69.0,92.5999984741211,1306.300048828125,537.0,92.69999694824219,1.5,0.4000000059604645,0.10000000149011612,3.0,14.25,2.0,605.0,6.0,9.350000381469727,112.0,66.0,70.0,43.0,797.5,287.0,138.0,104.95999908447266,34.959999084472656,47.5,56.619998931884766,73.13999938964844,67.62999725341797,155.75999450683594,191.39999389648438,139.75,388.79998779296875,79.4000015258789,20.299999237060547,0.10000000149011612,0.25,1.100000023841858,3.0,6.0,0.05000000074505806,5.0,150.0,175.5,1651.0999755859375,92.0,18.0,141.0,7.0,8.0,89.0,38.0,124.0,97.0,185.0,28.93000030517578,102.01000213623047,77.7699966430664,59.0,64.26000213623047,404.0799865722656,199.39999389648438,249.9199981689453,95.5999984741211,8.0,500.75,237.0,200.0,184.0,18.0,46.0,48.0,1.2999999523162842,1121.0,147.0,838.0,476.0,65.0,16.0,12.9399995803833,13.710000038146973,82.63999938964844,175.0800018310547,98.5,22.06999969482422,61.90999984741211,66.04000091552734,164.82000732421875,75.5,5.0,32.0,53.0,85.0,147.0,802.5999755859375,437.0,107.5,23.0,231.0,190.5,1142.0,461.0,222.0,551.0,3.0,23.440000534057617,320.5,93.61000061035156,38.7400016784668,15.979999542236328,96.83999633789062,79.12000274658203,7.949999809265137,4.0,62.0,46.0,55.0,269.0,2.0,446.5,439.79998779296875,235.0,26.0,232.39999389648438,28.5,158.60000610351562,40.0,45.70000076293945,37.72999954223633,26.610000610351562,233.16000366210938,129.67999267578125,62.029998779296875,0.9200000166893005,57.599998474121094,0.800000011920929,1.0,62.0,135.0,65.0,22.0,590.0,99.19999694824219,191.0,22.0,2053.0,4.400000095367432,1.399999976158142,19.899999618530273,6.599999904632568,50.0,2.0999999046325684,10.199999809265137,17.799999237060547,61.20000076293945,202.0,362.8599853515625,219.60000610351562,16.100000381469727,3.0,38.0,200.6999969482422,0.10000000149011612,3.799999952316284,2.299999952316284,94.19999694824219,11.699999809265137,74.5,14.899999618530273,52.79999923706055,142.1999969482422,72.19999694824219,69.0,24.200000762939453,38.400001525878906,174.8000030517578,21.600000381469727,21.0,28.0,38.5,98.0999984741211,35.0,112.0,215.1999969482422,49.20000076293945,220.0,286.0,33.0,600.0,26.600000381469727,15.0,103.30000305175781,3.0,43.70000076293945,490.29998779296875,78.5,0.5,12.0,3.200000047683716,0.5,876.0999755859375,46.900001525878906,111.0999984741211,3.0,204.1999969482422,116.5999984741211,1.0,56.0],\"sizemode\":\"area\",\"sizeref\":19.59699951171875},\"mode\":\"markers\",\"name\":\"\",\"showlegend\":false,\"subplot\":\"mapbox\",\"type\":\"scattermapbox\"}],                        {\"coloraxis\":{\"colorbar\":{\"title\":{\"text\":\"CNT\"}},\"colorscale\":[[0.0,\"#440154\"],[0.1111111111111111,\"#482878\"],[0.2222222222222222,\"#3e4989\"],[0.3333333333333333,\"#31688e\"],[0.4444444444444444,\"#26828e\"],[0.5555555555555556,\"#1f9e89\"],[0.6666666666666666,\"#35b779\"],[0.7777777777777778,\"#6ece58\"],[0.8888888888888888,\"#b5de2b\"],[1.0,\"#fde725\"]],\"reversescale\":false},\"legend\":{\"itemsizing\":\"constant\",\"tracegroupgap\":0},\"mapbox\":{\"center\":{\"lat\":38.3544,\"lon\":-99.9981},\"domain\":{\"x\":[0.0,1.0],\"y\":[0.0,1.0]},\"style\":\"carto-positron\",\"zoom\":3},\"margin\":{\"t\":60},\"template\":{\"data\":{\"bar\":[{\"error_x\":{\"color\":\"#2a3f5f\"},\"error_y\":{\"color\":\"#2a3f5f\"},\"marker\":{\"line\":{\"color\":\"#E5ECF6\",\"width\":0.5},\"pattern\":{\"fillmode\":\"overlay\",\"size\":10,\"solidity\":0.2}},\"type\":\"bar\"}],\"barpolar\":[{\"marker\":{\"line\":{\"color\":\"#E5ECF6\",\"width\":0.5},\"pattern\":{\"fillmode\":\"overlay\",\"size\":10,\"solidity\":0.2}},\"type\":\"barpolar\"}],\"carpet\":[{\"aaxis\":{\"endlinecolor\":\"#2a3f5f\",\"gridcolor\":\"white\",\"linecolor\":\"white\",\"minorgridcolor\":\"white\",\"startlinecolor\":\"#2a3f5f\"},\"baxis\":{\"endlinecolor\":\"#2a3f5f\",\"gridcolor\":\"white\",\"linecolor\":\"white\",\"minorgridcolor\":\"white\",\"startlinecolor\":\"#2a3f5f\"},\"type\":\"carpet\"}],\"choropleth\":[{\"colorbar\":{\"outlinewidth\":0,\"ticks\":\"\"},\"type\":\"choropleth\"}],\"contour\":[{\"colorbar\":{\"outlinewidth\":0,\"ticks\":\"\"},\"colorscale\":[[0.0,\"#0d0887\"],[0.1111111111111111,\"#46039f\"],[0.2222222222222222,\"#7201a8\"],[0.3333333333333333,\"#9c179e\"],[0.4444444444444444,\"#bd3786\"],[0.5555555555555556,\"#d8576b\"],[0.6666666666666666,\"#ed7953\"],[0.7777777777777778,\"#fb9f3a\"],[0.8888888888888888,\"#fdca26\"],[1.0,\"#f0f921\"]],\"type\":\"contour\"}],\"contourcarpet\":[{\"colorbar\":{\"outlinewidth\":0,\"ticks\":\"\"},\"type\":\"contourcarpet\"}],\"heatmap\":[{\"colorbar\":{\"outlinewidth\":0,\"ticks\":\"\"},\"colorscale\":[[0.0,\"#0d0887\"],[0.1111111111111111,\"#46039f\"],[0.2222222222222222,\"#7201a8\"],[0.3333333333333333,\"#9c179e\"],[0.4444444444444444,\"#bd3786\"],[0.5555555555555556,\"#d8576b\"],[0.6666666666666666,\"#ed7953\"],[0.7777777777777778,\"#fb9f3a\"],[0.8888888888888888,\"#fdca26\"],[1.0,\"#f0f921\"]],\"type\":\"heatmap\"}],\"heatmapgl\":[{\"colorbar\":{\"outlinewidth\":0,\"ticks\":\"\"},\"colorscale\":[[0.0,\"#0d0887\"],[0.1111111111111111,\"#46039f\"],[0.2222222222222222,\"#7201a8\"],[0.3333333333333333,\"#9c179e\"],[0.4444444444444444,\"#bd3786\"],[0.5555555555555556,\"#d8576b\"],[0.6666666666666666,\"#ed7953\"],[0.7777777777777778,\"#fb9f3a\"],[0.8888888888888888,\"#fdca26\"],[1.0,\"#f0f921\"]],\"type\":\"heatmapgl\"}],\"histogram\":[{\"marker\":{\"pattern\":{\"fillmode\":\"overlay\",\"size\":10,\"solidity\":0.2}},\"type\":\"histogram\"}],\"histogram2d\":[{\"colorbar\":{\"outlinewidth\":0,\"ticks\":\"\"},\"colorscale\":[[0.0,\"#0d0887\"],[0.1111111111111111,\"#46039f\"],[0.2222222222222222,\"#7201a8\"],[0.3333333333333333,\"#9c179e\"],[0.4444444444444444,\"#bd3786\"],[0.5555555555555556,\"#d8576b\"],[0.6666666666666666,\"#ed7953\"],[0.7777777777777778,\"#fb9f3a\"],[0.8888888888888888,\"#fdca26\"],[1.0,\"#f0f921\"]],\"type\":\"histogram2d\"}],\"histogram2dcontour\":[{\"colorbar\":{\"outlinewidth\":0,\"ticks\":\"\"},\"colorscale\":[[0.0,\"#0d0887\"],[0.1111111111111111,\"#46039f\"],[0.2222222222222222,\"#7201a8\"],[0.3333333333333333,\"#9c179e\"],[0.4444444444444444,\"#bd3786\"],[0.5555555555555556,\"#d8576b\"],[0.6666666666666666,\"#ed7953\"],[0.7777777777777778,\"#fb9f3a\"],[0.8888888888888888,\"#fdca26\"],[1.0,\"#f0f921\"]],\"type\":\"histogram2dcontour\"}],\"mesh3d\":[{\"colorbar\":{\"outlinewidth\":0,\"ticks\":\"\"},\"type\":\"mesh3d\"}],\"parcoords\":[{\"line\":{\"colorbar\":{\"outlinewidth\":0,\"ticks\":\"\"}},\"type\":\"parcoords\"}],\"pie\":[{\"automargin\":true,\"type\":\"pie\"}],\"scatter\":[{\"marker\":{\"colorbar\":{\"outlinewidth\":0,\"ticks\":\"\"}},\"type\":\"scatter\"}],\"scatter3d\":[{\"line\":{\"colorbar\":{\"outlinewidth\":0,\"ticks\":\"\"}},\"marker\":{\"colorbar\":{\"outlinewidth\":0,\"ticks\":\"\"}},\"type\":\"scatter3d\"}],\"scattercarpet\":[{\"marker\":{\"colorbar\":{\"outlinewidth\":0,\"ticks\":\"\"}},\"type\":\"scattercarpet\"}],\"scattergeo\":[{\"marker\":{\"colorbar\":{\"outlinewidth\":0,\"ticks\":\"\"}},\"type\":\"scattergeo\"}],\"scattergl\":[{\"marker\":{\"colorbar\":{\"outlinewidth\":0,\"ticks\":\"\"}},\"type\":\"scattergl\"}],\"scattermapbox\":[{\"marker\":{\"colorbar\":{\"outlinewidth\":0,\"ticks\":\"\"}},\"type\":\"scattermapbox\"}],\"scatterpolar\":[{\"marker\":{\"colorbar\":{\"outlinewidth\":0,\"ticks\":\"\"}},\"type\":\"scatterpolar\"}],\"scatterpolargl\":[{\"marker\":{\"colorbar\":{\"outlinewidth\":0,\"ticks\":\"\"}},\"type\":\"scatterpolargl\"}],\"scatterternary\":[{\"marker\":{\"colorbar\":{\"outlinewidth\":0,\"ticks\":\"\"}},\"type\":\"scatterternary\"}],\"surface\":[{\"colorbar\":{\"outlinewidth\":0,\"ticks\":\"\"},\"colorscale\":[[0.0,\"#0d0887\"],[0.1111111111111111,\"#46039f\"],[0.2222222222222222,\"#7201a8\"],[0.3333333333333333,\"#9c179e\"],[0.4444444444444444,\"#bd3786\"],[0.5555555555555556,\"#d8576b\"],[0.6666666666666666,\"#ed7953\"],[0.7777777777777778,\"#fb9f3a\"],[0.8888888888888888,\"#fdca26\"],[1.0,\"#f0f921\"]],\"type\":\"surface\"}],\"table\":[{\"cells\":{\"fill\":{\"color\":\"#EBF0F8\"},\"line\":{\"color\":\"white\"}},\"header\":{\"fill\":{\"color\":\"#C8D4E3\"},\"line\":{\"color\":\"white\"}},\"type\":\"table\"}]},\"layout\":{\"annotationdefaults\":{\"arrowcolor\":\"#2a3f5f\",\"arrowhead\":0,\"arrowwidth\":1},\"autotypenumbers\":\"strict\",\"coloraxis\":{\"colorbar\":{\"outlinewidth\":0,\"ticks\":\"\"}},\"colorscale\":{\"diverging\":[[0,\"#8e0152\"],[0.1,\"#c51b7d\"],[0.2,\"#de77ae\"],[0.3,\"#f1b6da\"],[0.4,\"#fde0ef\"],[0.5,\"#f7f7f7\"],[0.6,\"#e6f5d0\"],[0.7,\"#b8e186\"],[0.8,\"#7fbc41\"],[0.9,\"#4d9221\"],[1,\"#276419\"]],\"sequential\":[[0.0,\"#0d0887\"],[0.1111111111111111,\"#46039f\"],[0.2222222222222222,\"#7201a8\"],[0.3333333333333333,\"#9c179e\"],[0.4444444444444444,\"#bd3786\"],[0.5555555555555556,\"#d8576b\"],[0.6666666666666666,\"#ed7953\"],[0.7777777777777778,\"#fb9f3a\"],[0.8888888888888888,\"#fdca26\"],[1.0,\"#f0f921\"]],\"sequentialminus\":[[0.0,\"#0d0887\"],[0.1111111111111111,\"#46039f\"],[0.2222222222222222,\"#7201a8\"],[0.3333333333333333,\"#9c179e\"],[0.4444444444444444,\"#bd3786\"],[0.5555555555555556,\"#d8576b\"],[0.6666666666666666,\"#ed7953\"],[0.7777777777777778,\"#fb9f3a\"],[0.8888888888888888,\"#fdca26\"],[1.0,\"#f0f921\"]]},\"colorway\":[\"#636efa\",\"#EF553B\",\"#00cc96\",\"#ab63fa\",\"#FFA15A\",\"#19d3f3\",\"#FF6692\",\"#B6E880\",\"#FF97FF\",\"#FECB52\"],\"font\":{\"color\":\"#2a3f5f\"},\"geo\":{\"bgcolor\":\"white\",\"lakecolor\":\"white\",\"landcolor\":\"#E5ECF6\",\"showlakes\":true,\"showland\":true,\"subunitcolor\":\"white\"},\"hoverlabel\":{\"align\":\"left\"},\"hovermode\":\"closest\",\"mapbox\":{\"style\":\"light\"},\"paper_bgcolor\":\"white\",\"plot_bgcolor\":\"#E5ECF6\",\"polar\":{\"angularaxis\":{\"gridcolor\":\"white\",\"linecolor\":\"white\",\"ticks\":\"\"},\"bgcolor\":\"#E5ECF6\",\"radialaxis\":{\"gridcolor\":\"white\",\"linecolor\":\"white\",\"ticks\":\"\"}},\"scene\":{\"xaxis\":{\"backgroundcolor\":\"#E5ECF6\",\"gridcolor\":\"white\",\"gridwidth\":2,\"linecolor\":\"white\",\"showbackground\":true,\"ticks\":\"\",\"zerolinecolor\":\"white\"},\"yaxis\":{\"backgroundcolor\":\"#E5ECF6\",\"gridcolor\":\"white\",\"gridwidth\":2,\"linecolor\":\"white\",\"showbackground\":true,\"ticks\":\"\",\"zerolinecolor\":\"white\"},\"zaxis\":{\"backgroundcolor\":\"#E5ECF6\",\"gridcolor\":\"white\",\"gridwidth\":2,\"linecolor\":\"white\",\"showbackground\":true,\"ticks\":\"\",\"zerolinecolor\":\"white\"}},\"shapedefaults\":{\"line\":{\"color\":\"#2a3f5f\"}},\"ternary\":{\"aaxis\":{\"gridcolor\":\"white\",\"linecolor\":\"white\",\"ticks\":\"\"},\"baxis\":{\"gridcolor\":\"white\",\"linecolor\":\"white\",\"ticks\":\"\"},\"bgcolor\":\"#E5ECF6\",\"caxis\":{\"gridcolor\":\"white\",\"linecolor\":\"white\",\"ticks\":\"\"}},\"title\":{\"x\":0.05},\"xaxis\":{\"automargin\":true,\"gridcolor\":\"white\",\"linecolor\":\"white\",\"ticks\":\"\",\"title\":{\"standoff\":15},\"zerolinecolor\":\"white\",\"zerolinewidth\":2},\"yaxis\":{\"automargin\":true,\"gridcolor\":\"white\",\"linecolor\":\"white\",\"ticks\":\"\",\"title\":{\"standoff\":15},\"zerolinecolor\":\"white\",\"zerolinewidth\":2}}},\"title\":{\"text\":\"US number of wildfires\",\"x\":0.5}},                        {\"responsive\": true}                    ).then(function(){\n",
       "                            \n",
       "var gd = document.getElementById('fe4bb628-c12e-4f5a-8ce1-b8267b83c1a5');\n",
       "var x = new MutationObserver(function (mutations, observer) {{\n",
       "        var display = window.getComputedStyle(gd).display;\n",
       "        if (!display || display === 'none') {{\n",
       "            console.log([gd, 'removed!']);\n",
       "            Plotly.purge(gd);\n",
       "            observer.disconnect();\n",
       "        }}\n",
       "}});\n",
       "\n",
       "// Listen for the removal of the full notebook cells\n",
       "var notebookContainer = gd.closest('#notebook-container');\n",
       "if (notebookContainer) {{\n",
       "    x.observe(notebookContainer, {childList: true});\n",
       "}}\n",
       "\n",
       "// Listen for the clearing of the current output cell\n",
       "var outputEl = gd.closest('.output');\n",
       "if (outputEl) {{\n",
       "    x.observe(outputEl, {childList: true});\n",
       "}}\n",
       "\n",
       "                        })                };                });            </script>        </div>"
      ]
     },
     "metadata": {},
     "output_type": "display_data"
    }
   ],
   "source": [
    "cf=countfire(res,wf)\n",
    "dcf=dict({'States':list(cf.keys()),'Number':list(cf.values())})\n",
    "dcf2=pd.DataFrame.from_dict(dcf)\n",
    "title = 'US number of wildfires'\n",
    "wf2=wf[wf['CNT']!=0]\n",
    "import plotly.express as px\n",
    "import plotly.graph_objects as go\n",
    "\n",
    "#fig=go.Figure()\n",
    "#fig.add_traces(go.Choroplethmapbox(geojson=j_file, featureidkey='properties.NAME', locations=dcf2.States, z=dcf2.Number, colorscale  ='OrRd'))\n",
    "\n",
    "#fig.add_traces(go.scatter_mapbox(lat=wf2.lat,lon=wf2.lon))\n",
    "fig1 = px.choropleth_mapbox(dcf2, geojson=j_file, \n",
    "          featureidkey='properties.NAME',\n",
    "          locations='States',\n",
    "          color='Number',\n",
    "            center={'lat': 38.3544 , 'lon':-99.9981 },\n",
    "            zoom=3,\n",
    "        color_continuous_scale  ='OrRd',                                \n",
    "          mapbox_style='carto-positron'\n",
    "                           )\n",
    "fig2=px.scatter_mapbox(wf2,lat=wf2.lat,lon=wf2.lon,mapbox_style='carto-positron',color=\"CNT\",color_continuous_scale=\"Viridis\",center={'lat': 38.3544 , 'lon':-99.9981 },\n",
    "            zoom=3,size=\"BA\")\n",
    "fig3=go.Figure(data=fig1.data+fig2.data)\n",
    "fig2.update_layout(title_text=title,title_x=0.5,coloraxis_reversescale=False,)#mapbox=go.layout.Mapbox(zoom=10,center_lat = 40.5,center_lon = -105.08));\n",
    "fig2.show()"
   ]
  },
  {
   "cell_type": "code",
   "execution_count": 21,
   "metadata": {},
   "outputs": [
    {
     "data": {
      "application/vnd.plotly.v1+json": {
       "config": {
        "plotlyServerURL": "https://plot.ly"
       },
       "data": [
        {
         "hoverinfo": "text",
         "lat": [
          41.979595,
          33.64044444,
          32.89595056,
          33.43416667,
          39.85840806,
          29.98047222,
          37.61900194,
          33.94253611,
          28.42888889,
          35.21401111,
          40.78838778,
          27.97547222,
          40.69249722,
          36.08036111,
          39.87195278,
          44.88054694,
          47.44898194,
          40.77724306,
          41.7859825,
          38.94453194,
          32.73355611,
          38.74768694,
          42.21205889,
          40.63975111,
          25.79325,
          42.3643475,
          38.69542167,
          39.17540167,
          33.67565861,
          29.99338889,
          37.36186194,
          38.85208333,
          45.58872222,
          26.53616667,
          26.68316194,
          35.87763889,
          29.64541861,
          29.53369444,
          26.07258333,
          39.29760528,
          37.72129083,
          40.49146583,
          35.04241667,
          42.94722222,
          41.41089417,
          30.49405556,
          32.11608333,
          39.71732917,
          39.49857611,
          35.39308833,
          41.72399917,
          36.19837222,
          39.04614278,
          39.99798528,
          38.17438889,
          34.056,
          34.72939611,
          32.84711389,
          41.30251861,
          36.89461111,
          39.90237583,
          43.11886611,
          36.28186944,
          36.12447667,
          35.04022222,
          32.31116667,
          31.80666667,
          37.50516667,
          41.93887417,
          31.94252778,
          30.53316083,
          35.81248722,
          38.80580556,
          30.47330556,
          43.11118694,
          33.56294306,
          42.93451639,
          33.82921556,
          27.39533333,
          27.77036083,
          34.6404475,
          33.93884,
          30.20527972,
          34.42621194,
          47.61985556,
          30.69141667,
          37.64995889,
          42.94052472,
          41.53493306,
          40.19349528,
          43.64616667,
          32.30064417,
          37.13189556,
          41.06695778,
          36.5869825,
          42.88081972,
          30.448674,
          32.65658333,
          39.22316,
          30.39652778,
          30.40728028,
          44.04532139,
          33.81772222,
          34.27061111,
          38.03697222,
          43.13985778,
          44.12326,
          32.12758333,
          33.66363889,
          41.88458833,
          34.89566722,
          36.09774694,
          40.7952425,
          41.44852639,
          35.43619444,
          40.91631194,
          40.47798556,
          26.22850611,
          30.48325,
          32.4466275,
          46.91934889,
          40.48118028,
          42.37422778,
          40.66424333,
          27.54373861,
          30.19453278,
          32.41132,
          37.24432611,
          42.96550333,
          36.47521417,
          31.06489778,
          32.89864639,
          44.48507333,
          44.25406722,
          32.51633333,
          41.70895361,
          43.56444444,
          33.67975,
          48.25937778,
          40.03925,
          37.32546833,
          39.64256778,
          43.60732417,
          45.77690139,
          39.1224125,
          34.20061917,
          38.03799139,
          38.53396333,
          43.51455556,
          36.77619444,
          39.84395194,
          26.17583333,
          40.50898361,
          47.949255,
          43.58135111,
          42.48180389,
          34.89924833,
          42.91130556,
          31.32133917,
          34.82916444,
          38.50886722,
          46.77411111,
          42.90835556,
          44.74144472,
          32.51086556,
          46.26468028,
          39.14096722,
          31.32737167,
          43.41713889,
          35.61677778,
          42.15614361,
          41.50409361,
          38.13863889,
          30.7825,
          44.77761917,
          35.65884306,
          40.97811528,
          31.25902778,
          40.85097222,
          40.97846583,
          44.52019417,
          37.06083333,
          35.23705806,
          41.33814944,
          33.45033444,
          44.34889806,
          35.07297222,
          33.369955,
          35.33659028,
          32.35413889,
          46.60681806,
          47.48200194,
          32.33313333,
          46.353639,
          37.95375861,
          35.03526833,
          46.37449806,
          37.70097028,
          42.74811944,
          44.47300361,
          48.31140472,
          28.10275,
          29.17991667,
          40.65236278,
          46.84209028,
          41.1557225,
          41.5942175,
          37.85830556,
          38.37315083,
          48.79275,
          37.62404861,
          44.25740806,
          36.385913,
          27.91076333,
          33.98879611,
          34.99147222,
          44.86525722,
          42.40295944,
          43.90882639,
          34.681499,
          45.8076625
         ],
         "locationmode": "USA-states",
         "lon": [
          -87.90446417,
          -84.42694444,
          -97.0372,
          -112.0080556,
          -104.6670019,
          -95.33972222,
          -122.3748433,
          -118.4080744,
          -81.31602778,
          -80.94312583,
          -111.9777731,
          -82.53325,
          -74.16866056,
          -115.1523333,
          -75.24114083,
          -93.2169225,
          -122.3093131,
          -73.87260917,
          -87.75242444,
          -77.45580972,
          -117.1896567,
          -90.35998972,
          -83.34883583,
          -73.77892556,
          -80.29055556,
          -71.00517917,
          -121.5907669,
          -76.66819833,
          -117.8682225,
          -90.25802778,
          -121.9290089,
          -77.03772222,
          -122.5975,
          -81.75516667,
          -80.09559417,
          -78.78747222,
          -95.27888889,
          -98.46977778,
          -80.15275,
          -94.71390556,
          -122.2207167,
          -80.23287083,
          -89.97666667,
          -87.89658333,
          -81.84939667,
          -81.68786111,
          -110.9410278,
          -86.29438417,
          -119.7680647,
          -97.60073389,
          -71.42822111,
          -95.88824167,
          -84.6621725,
          -82.89188278,
          -85.736,
          -117.6011944,
          -92.22424556,
          -96.85177222,
          -95.89417306,
          -76.20122222,
          -84.219375,
          -77.67238389,
          -94.30681111,
          -86.67818222,
          -106.6091944,
          -90.07588889,
          -106.3778056,
          -77.31966667,
          -72.68322833,
          -102.2019139,
          -91.14963444,
          -83.99285583,
          -104.70025,
          -87.18744444,
          -76.10631056,
          -86.75354972,
          -71.43705583,
          -116.5062531,
          -82.55411111,
          -97.50121528,
          -86.77310944,
          -81.11953944,
          -91.987655,
          -119.8403733,
          -117.5338425,
          -88.24283333,
          -97.43304583,
          -78.73216667,
          -93.66068222,
          -76.76340361,
          -70.30875,
          -86.39397611,
          -76.4929875,
          -73.70757444,
          -121.8429478,
          -85.52276778,
          -84.550781,
          -114.6059722,
          -106.868845,
          -84.35033333,
          -89.07009278,
          -103.0573708,
          -118.1516111,
          -77.90255556,
          -84.60538889,
          -89.33751361,
          -123.2186856,
          -81.20213889,
          -101.8227778,
          -91.71087222,
          -82.21885833,
          -79.9372975,
          -73.10021194,
          -90.50753917,
          -82.54180556,
          -81.44246556,
          -88.91595278,
          -97.65439389,
          -86.5254,
          -93.82559833,
          -96.81498889,
          -107.2176597,
          -122.8734978,
          -89.69330556,
          -99.46154361,
          -97.66987194,
          -99.68189722,
          -93.38685806,
          -83.74345639,
          -82.40742056,
          -97.82779778,
          -80.04050583,
          -88.12959,
          -121.1499633,
          -84.93886111,
          -86.31847417,
          -116.2227778,
          -78.92833333,
          -101.2803339,
          -88.27805556,
          -79.97542833,
          -106.9176953,
          -110.7377389,
          -111.1530072,
          -108.5267347,
          -118.3584969,
          -87.53062667,
          -106.9331817,
          -112.0701667,
          -119.7181389,
          -89.67761861,
          -98.23861111,
          -122.2934019,
          -97.17611111,
          -96.74170028,
          -114.4877356,
          -120.4575825,
          -112.5958611,
          -85.44962889,
          -77.61213778,
          -107.8938333,
          -100.7467222,
          -106.4644661,
          -85.582235,
          -92.03768778,
          -119.1190292,
          -96.67083278,
          -92.54855611,
          -124.2460278,
          -106.0881389,
          -121.7332081,
          -74.10483833,
          -78.45286111,
          -83.27672222,
          -89.66677944,
          -117.8295122,
          -124.1086189,
          -81.46630556,
          -96.75925,
          -85.19514639,
          -109.0237961,
          -88.77375,
          -120.6423931,
          -75.7242675,
          -88.59136861,
          -105.5393614,
          -77.04294444,
          -81.96449611,
          -94.36744111,
          -95.40238611,
          -111.9827503,
          -111.3706853,
          -88.75120556,
          -87.395361,
          -107.90848,
          -85.20378778,
          -117.0153944,
          -113.098575,
          -73.80297861,
          -73.1503125,
          -114.2550694,
          -80.64580556,
          -81.05805556,
          -75.44040167,
          -92.19364861,
          -104.8118381,
          -109.0651928,
          -80.39947222,
          -81.59318972,
          -122.5375278,
          -118.8377722,
          -88.51947556,
          -92.548828,
          -82.68743944,
          -98.49189333,
          -78.88,
          -91.48507194,
          -90.70916722,
          -92.49798722,
          -90.348816,
          -108.5428611
         ],
         "marker": {
          "color": "rgb(255, 0, 0)",
          "line": {
           "color": "rgba(68, 68, 68, 0)",
           "width": 3
          },
          "size": 2
         },
         "mode": "markers",
         "text": [
          "Chicago O'Hare International",
          "William B Hartsfield-Atlanta Intl",
          "Dallas-Fort Worth International",
          "Phoenix Sky Harbor International",
          "Denver Intl",
          "George Bush Intercontinental",
          "San Francisco International",
          "Los Angeles International",
          "Orlando International",
          "Charlotte/Douglas International",
          "Salt Lake City Intl",
          "Tampa International ",
          "Newark Intl",
          "McCarran International",
          "Philadelphia Intl",
          "Minneapolis-St Paul Intl",
          "Seattle-Tacoma Intl",
          "LaGuardia",
          "Chicago Midway",
          "Washington Dulles International",
          "San Diego International-Lindbergh ",
          "Lambert-St Louis International",
          "Detroit Metropolitan-Wayne County",
          "John F Kennedy Intl",
          "Miami International",
          "Gen Edw L Logan Intl",
          "Sacramento International",
          "Baltimore-Washington International",
          "John Wayne /Orange Co",
          "New Orleans International ",
          "San Jose International",
          "Ronald Reagan Washington National",
          "Portland Intl",
          "Southwest Florida International",
          "Palm Beach International",
          "Raleigh-Durham International",
          "William P Hobby",
          "San Antonio International",
          "Fort Lauderdale-Hollywood Int'l",
          "Kansas City International",
          "Metropolitan Oakland International",
          "Pittsburgh International",
          "Memphis International",
          "General Mitchell International",
          "Cleveland-Hopkins Intl",
          "Jacksonville International",
          "Tucson International",
          "Indianapolis International",
          "Reno/Tahoe International",
          "Will Rogers World",
          "Theodore F Green State",
          "Tulsa International",
          "Cincinnati Northern Kentucky Intl",
          "Port Columbus Intl",
          "Louisville International-Standiford ",
          "Ontario International",
          "Adams ",
          "Dallas Love ",
          "Eppley Airfield",
          "Norfolk International",
          "James M Cox Dayton Intl",
          "Greater Rochester Int'l",
          "Northwest Arkansas Regional",
          "Nashville International",
          "Albuquerque International",
          "Jackson International",
          "El Paso International",
          "Richmond International",
          "Bradley International",
          "Midland International",
          "Baton Rouge Metropolitan, Ryan ",
          "McGhee-Tyson",
          "City of Colorado Springs Muni",
          "Pensacola Regional",
          "Syracuse-Hancock Intl",
          "Birmingham International",
          "Manchester",
          "Palm Springs International",
          "Sarasota Bradenton International",
          "Corpus Christi International",
          "Huntsville International ",
          "Columbia Metropolitan",
          "Lafayette Regional",
          "Santa Barbara Municipal",
          "Spokane Intl",
          "Mobile Regional",
          "Wichita Mid-Continent",
          "Buffalo Niagara Intl",
          "Des Moines International",
          "Harrisburg Intl",
          "Portland International Jetport",
          "Montgomery Regional Apt",
          "Newport News/Williamsburg International",
          "Westchester Cty",
          "Monterey Peninsula",
          "Kent County International",
          "Florida Beach",
          "Yuma MCAS-Yuma International",
          "Aspen-Pitkin Co/Sardy ",
          "Tallahassee Regional",
          "Gulfport-Biloxi Regional",
          "Rapid City Regional",
          "Long Beach (Daugherty )",
          "Wilmington International",
          "Blue Grass ",
          "Dane County Regional",
          "Mahlon Sweet ",
          "Savannah International",
          "Lubbock International",
          "Eastern Iowa ",
          "Greenville-Spartanburg",
          "Piedmont Triad International",
          "Long Island - MacArthur",
          "Quad City",
          "Asheville Regional",
          "Akron-Canton Regional",
          "Central Illinois Regional",
          "Valley International",
          "Eglin Air Force Base",
          "Shreveport Regional",
          "Hector International",
          "Yampa Valley",
          "Rogue Valley International",
          "Greater Peoria Regional",
          "Laredo International",
          "Austin-Bergstrom International",
          "Abilene Regional",
          "Springfield-Branson Regional",
          "Bishop",
          "Tri-Cities Regional",
          "Robert Gray AAF",
          "Charleston AFB/International",
          "Austin Straubel International",
          "Roberts ",
          "Columbus Metropolitan",
          "South Bend Regional",
          "Boise Air Terminal",
          "Myrtle Beach International",
          "Minot International",
          "University of Illinois-Willard",
          "Roanoke Regional/ Woodrum ",
          "Eagle County Regional",
          "Jackson Hole",
          "Gallatin ",
          "Walker ",
          "Burbank-Glendale-Pasadena",
          "Evansville Regional",
          "Gunnison County",
          "Idaho Falls Regional",
          "Fresno Yosemite International",
          "Capital",
          "McAllen Miller International",
          "Redding Municipal",
          "Grand Forks International",
          "Joe Foss ",
          "Joslin Field - Magic Valley",
          "Santa Maria Pub/Capt G Allan Hancock ",
          "Pocatello Regional",
          "Dothan ",
          "Albert J Ellis",
          "Montrose Regional",
          "Bismarck Municipal",
          "Natrona County Intl",
          "Cherry Capital",
          "Monroe Regional",
          "Tri-Cities",
          "Manhattan Regional",
          "Alexandria International",
          "North Bend Muni",
          "Santa Fe Municipal",
          "Klamath Falls International",
          "Stewart",
          "Charlottesville-Albermarle",
          "Valdosta Regional",
          "Central Wisconsin",
          "Inyokern",
          "Arcata",
          "Glynco Jetport",
          "Lincoln Municipal",
          "Fort Wayne International",
          "Yellowstone Regional",
          "Barkley Regional",
          "San Luis Obispo Co-McChesney ",
          "Wilkes-Barre/Scranton Intl",
          "Golden Triangle Regional",
          "Gillette-Campbell County",
          "Craven County Regional",
          "Bush ",
          "Fort Smith Regional",
          "Tyler Pounds ",
          "Helena Regional",
          "Great Falls Intl",
          "Key ",
          "Marquette County Airport",
          "Telluride Regional",
          "Lovell ",
          "Lewiston-Nez Perce County",
          "Cedar City Muni",
          "Albany Cty",
          "Burlington International",
          "Glacier Park Intl",
          "Melbourne International ",
          "Daytona Beach International",
          "Lehigh Valley International",
          "Duluth International",
          "Cheyenne",
          "Rock Springs-Sweetwater County",
          "Greenbrier Valley",
          "Yeager",
          "Bellingham Intl",
          "Mammoth Yosemite",
          "Outagamie County Regional",
          "Branson Airport",
          "St. Petersburg-Clearwater International",
          "Sheppard AFB/Wichita Falls Municipal",
          "Fayetteville Municipal",
          "Chippewa Valley Regional",
          "Dubuque Municipal",
          "Rochester International",
          "Tunica Municipal Airport",
          "Billings Logan Intl"
         ],
         "type": "scattergeo"
        },
        {
         "lat": [
          32.89595056,
          35.04022222
         ],
         "line": {
          "color": "red",
          "width": 1
         },
         "locationmode": "USA-states",
         "lon": [
          -97.0372,
          -106.6091944
         ],
         "mode": "lines",
         "opacity": 0.48577680525164113,
         "type": "scattergeo"
        },
        {
         "lat": [
          41.979595,
          30.19453278
         ],
         "line": {
          "color": "red",
          "width": 1
         },
         "locationmode": "USA-states",
         "lon": [
          -87.90446417,
          -97.66987194
         ],
         "mode": "lines",
         "opacity": 0.18161925601750548,
         "type": "scattergeo"
        },
        {
         "lat": [
          32.89595056,
          41.93887417
         ],
         "line": {
          "color": "red",
          "width": 1
         },
         "locationmode": "USA-states",
         "lon": [
          -97.0372,
          -72.68322833
         ],
         "mode": "lines",
         "opacity": 0.1772428884026258,
         "type": "scattergeo"
        },
        {
         "lat": [
          18.43941667,
          41.93887417
         ],
         "line": {
          "color": "red",
          "width": 1
         },
         "locationmode": "USA-states",
         "lon": [
          -66.00183333,
          -72.68322833
         ],
         "mode": "lines",
         "opacity": 0.061269146608315096,
         "type": "scattergeo"
        },
        {
         "lat": [
          32.89595056,
          33.56294306
         ],
         "line": {
          "color": "red",
          "width": 1
         },
         "locationmode": "USA-states",
         "lon": [
          -97.0372,
          -86.75354972
         ],
         "mode": "lines",
         "opacity": 0.1838074398249453,
         "type": "scattergeo"
        },
        {
         "lat": [
          25.79325,
          36.12447667
         ],
         "line": {
          "color": "red",
          "width": 1
         },
         "locationmode": "USA-states",
         "lon": [
          -80.29055556,
          -86.67818222
         ],
         "mode": "lines",
         "opacity": 0.061269146608315096,
         "type": "scattergeo"
        },
        {
         "lat": [
          32.89595056,
          42.3643475
         ],
         "line": {
          "color": "red",
          "width": 1
         },
         "locationmode": "USA-states",
         "lon": [
          -97.0372,
          -71.00517917
         ],
         "mode": "lines",
         "opacity": 0.4617067833698031,
         "type": "scattergeo"
        },
        {
         "lat": [
          25.79325,
          42.3643475
         ],
         "line": {
          "color": "red",
          "width": 1
         },
         "locationmode": "USA-states",
         "lon": [
          -80.29055556,
          -71.00517917
         ],
         "mode": "lines",
         "opacity": 0.4288840262582057,
         "type": "scattergeo"
        },
        {
         "lat": [
          41.979595,
          42.3643475
         ],
         "line": {
          "color": "red",
          "width": 1
         },
         "locationmode": "USA-states",
         "lon": [
          -87.90446417,
          -71.00517917
         ],
         "mode": "lines",
         "opacity": 0.47045951859956237,
         "type": "scattergeo"
        },
        {
         "lat": [
          18.43941667,
          42.3643475
         ],
         "line": {
          "color": "red",
          "width": 1
         },
         "locationmode": "USA-states",
         "lon": [
          -66.00183333,
          -71.00517917
         ],
         "mode": "lines",
         "opacity": 0.061269146608315096,
         "type": "scattergeo"
        },
        {
         "lat": [
          18.33730556,
          42.3643475
         ],
         "line": {
          "color": "red",
          "width": 1
         },
         "locationmode": "USA-states",
         "lon": [
          -64.97336111,
          -71.00517917
         ],
         "mode": "lines",
         "opacity": 0.04814004376367615,
         "type": "scattergeo"
        },
        {
         "lat": [
          25.79325,
          39.17540167
         ],
         "line": {
          "color": "red",
          "width": 1
         },
         "locationmode": "USA-states",
         "lon": [
          -80.29055556,
          -76.66819833
         ],
         "mode": "lines",
         "opacity": 0.12253829321663019,
         "type": "scattergeo"
        },
        {
         "lat": [
          18.43941667,
          39.17540167
         ],
         "line": {
          "color": "red",
          "width": 1
         },
         "locationmode": "USA-states",
         "lon": [
          -66.00183333,
          -76.66819833
         ],
         "mode": "lines",
         "opacity": 0.061269146608315096,
         "type": "scattergeo"
        },
        {
         "lat": [
          32.89595056,
          35.21401111
         ],
         "line": {
          "color": "red",
          "width": 1
         },
         "locationmode": "USA-states",
         "lon": [
          -97.0372,
          -80.94312583
         ],
         "mode": "lines",
         "opacity": 0.3938730853391685,
         "type": "scattergeo"
        },
        {
         "lat": [
          32.89595056,
          38.80580556
         ],
         "line": {
          "color": "red",
          "width": 1
         },
         "locationmode": "USA-states",
         "lon": [
          -97.0372,
          -104.70025
         ],
         "mode": "lines",
         "opacity": 0.3041575492341357,
         "type": "scattergeo"
        },
        {
         "lat": [
          32.89595056,
          39.90237583
         ],
         "line": {
          "color": "red",
          "width": 1
         },
         "locationmode": "USA-states",
         "lon": [
          -97.0372,
          -84.219375
         ],
         "mode": "lines",
         "opacity": 0.1137855579868709,
         "type": "scattergeo"
        },
        {
         "lat": [
          32.89595056,
          38.85208333
         ],
         "line": {
          "color": "red",
          "width": 1
         },
         "locationmode": "USA-states",
         "lon": [
          -97.0372,
          -77.03772222
         ],
         "mode": "lines",
         "opacity": 0.6433260393873085,
         "type": "scattergeo"
        },
        {
         "lat": [
          25.79325,
          39.85840806
         ],
         "line": {
          "color": "red",
          "width": 1
         },
         "locationmode": "USA-states",
         "lon": [
          -80.29055556,
          -104.6670019
         ],
         "mode": "lines",
         "opacity": 0.12253829321663019,
         "type": "scattergeo"
        },
        {
         "lat": [
          41.979595,
          39.85840806
         ],
         "line": {
          "color": "red",
          "width": 1
         },
         "locationmode": "USA-states",
         "lon": [
          -87.90446417,
          -104.6670019
         ],
         "mode": "lines",
         "opacity": 0.12253829321663019,
         "type": "scattergeo"
        },
        {
         "lat": [
          33.64044444,
          32.89595056
         ],
         "line": {
          "color": "red",
          "width": 1
         },
         "locationmode": "USA-states",
         "lon": [
          -84.42694444,
          -97.0372
         ],
         "mode": "lines",
         "opacity": 0.6345733041575492,
         "type": "scattergeo"
        },
        {
         "lat": [
          30.19453278,
          32.89595056
         ],
         "line": {
          "color": "red",
          "width": 1
         },
         "locationmode": "USA-states",
         "lon": [
          -97.66987194,
          -97.0372
         ],
         "mode": "lines",
         "opacity": 0.8971553610503282,
         "type": "scattergeo"
        },
        {
         "lat": [
          36.12447667,
          32.89595056
         ],
         "line": {
          "color": "red",
          "width": 1
         },
         "locationmode": "USA-states",
         "lon": [
          -86.67818222,
          -97.0372
         ],
         "mode": "lines",
         "opacity": 0.47702407002188185,
         "type": "scattergeo"
        },
        {
         "lat": [
          34.20061917,
          32.89595056
         ],
         "line": {
          "color": "red",
          "width": 1
         },
         "locationmode": "USA-states",
         "lon": [
          -118.3584969,
          -97.0372
         ],
         "mode": "lines",
         "opacity": 0.2275711159737418,
         "type": "scattergeo"
        },
        {
         "lat": [
          39.17540167,
          32.89595056
         ],
         "line": {
          "color": "red",
          "width": 1
         },
         "locationmode": "USA-states",
         "lon": [
          -76.66819833,
          -97.0372
         ],
         "mode": "lines",
         "opacity": 0.35667396061269147,
         "type": "scattergeo"
        },
        {
         "lat": [
          39.99798528,
          32.89595056
         ],
         "line": {
          "color": "red",
          "width": 1
         },
         "locationmode": "USA-states",
         "lon": [
          -82.89188278,
          -97.0372
         ],
         "mode": "lines",
         "opacity": 0.1137855579868709,
         "type": "scattergeo"
        },
        {
         "lat": [
          39.85840806,
          32.89595056
         ],
         "line": {
          "color": "red",
          "width": 1
         },
         "locationmode": "USA-states",
         "lon": [
          -104.6670019,
          -97.0372
         ],
         "mode": "lines",
         "opacity": 0.6105032822757112,
         "type": "scattergeo"
        },
        {
         "lat": [
          42.21205889,
          32.89595056
         ],
         "line": {
          "color": "red",
          "width": 1
         },
         "locationmode": "USA-states",
         "lon": [
          -83.34883583,
          -97.0372
         ],
         "mode": "lines",
         "opacity": 0.2844638949671772,
         "type": "scattergeo"
        },
        {
         "lat": [
          39.64256778,
          32.89595056
         ],
         "line": {
          "color": "red",
          "width": 1
         },
         "locationmode": "USA-states",
         "lon": [
          -106.9176953,
          -97.0372
         ],
         "mode": "lines",
         "opacity": 0.1487964989059081,
         "type": "scattergeo"
        },
        {
         "lat": [
          40.69249722,
          32.89595056
         ],
         "line": {
          "color": "red",
          "width": 1
         },
         "locationmode": "USA-states",
         "lon": [
          -74.16866056,
          -97.0372
         ],
         "mode": "lines",
         "opacity": 0.33916849015317285,
         "type": "scattergeo"
        },
        {
         "lat": [
          36.77619444,
          32.89595056
         ],
         "line": {
          "color": "red",
          "width": 1
         },
         "locationmode": "USA-states",
         "lon": [
          -119.7181389,
          -97.0372
         ],
         "mode": "lines",
         "opacity": 0.12253829321663019,
         "type": "scattergeo"
        },
        {
         "lat": [
          26.07258333,
          32.89595056
         ],
         "line": {
          "color": "red",
          "width": 1
         },
         "locationmode": "USA-states",
         "lon": [
          -80.15275,
          -97.0372
         ],
         "mode": "lines",
         "opacity": 0.3676148796498906,
         "type": "scattergeo"
        },
        {
         "lat": [
          34.6404475,
          32.89595056
         ],
         "line": {
          "color": "red",
          "width": 1
         },
         "locationmode": "USA-states",
         "lon": [
          -86.77310944,
          -97.0372
         ],
         "mode": "lines",
         "opacity": 0.17286652078774617,
         "type": "scattergeo"
        },
        {
         "lat": [
          29.98047222,
          32.89595056
         ],
         "line": {
          "color": "red",
          "width": 1
         },
         "locationmode": "USA-states",
         "lon": [
          -95.33972222,
          -97.0372
         ],
         "mode": "lines",
         "opacity": 0.3544857768052516,
         "type": "scattergeo"
        },
        {
         "lat": [
          33.94253611,
          32.89595056
         ],
         "line": {
          "color": "red",
          "width": 1
         },
         "locationmode": "USA-states",
         "lon": [
          -118.4080744,
          -97.0372
         ],
         "mode": "lines",
         "opacity": 1,
         "type": "scattergeo"
        },
        {
         "lat": [
          39.29760528,
          32.89595056
         ],
         "line": {
          "color": "red",
          "width": 1
         },
         "locationmode": "USA-states",
         "lon": [
          -94.71390556,
          -97.0372
         ],
         "mode": "lines",
         "opacity": 0.47702407002188185,
         "type": "scattergeo"
        },
        {
         "lat": [
          28.42888889,
          32.89595056
         ],
         "line": {
          "color": "red",
          "width": 1
         },
         "locationmode": "USA-states",
         "lon": [
          -81.31602778,
          -97.0372
         ],
         "mode": "lines",
         "opacity": 0.5470459518599562,
         "type": "scattergeo"
        },
        {
         "lat": [
          35.04241667,
          32.89595056
         ],
         "line": {
          "color": "red",
          "width": 1
         },
         "locationmode": "USA-states",
         "lon": [
          -89.97666667,
          -97.0372
         ],
         "mode": "lines",
         "opacity": 0.23413566739606126,
         "type": "scattergeo"
        },
        {
         "lat": [
          26.17583333,
          32.89595056
         ],
         "line": {
          "color": "red",
          "width": 1
         },
         "locationmode": "USA-states",
         "lon": [
          -98.23861111,
          -97.0372
         ],
         "mode": "lines",
         "opacity": 0.23413566739606126,
         "type": "scattergeo"
        },
        {
         "lat": [
          25.79325,
          32.89595056
         ],
         "line": {
          "color": "red",
          "width": 1
         },
         "locationmode": "USA-states",
         "lon": [
          -80.29055556,
          -97.0372
         ],
         "mode": "lines",
         "opacity": 0.612691466083151,
         "type": "scattergeo"
        },
        {
         "lat": [
          44.88054694,
          32.89595056
         ],
         "line": {
          "color": "red",
          "width": 1
         },
         "locationmode": "USA-states",
         "lon": [
          -93.2169225,
          -97.0372
         ],
         "mode": "lines",
         "opacity": 0.35667396061269147,
         "type": "scattergeo"
        },
        {
         "lat": [
          38.50886722,
          32.89595056
         ],
         "line": {
          "color": "red",
          "width": 1
         },
         "locationmode": "USA-states",
         "lon": [
          -107.8938333,
          -97.0372
         ],
         "mode": "lines",
         "opacity": 0.0175054704595186,
         "type": "scattergeo"
        },
        {
         "lat": [
          20.89864972,
          32.89595056
         ],
         "line": {
          "color": "red",
          "width": 1
         },
         "locationmode": "USA-states",
         "lon": [
          -156.4304578,
          -97.0372
         ],
         "mode": "lines",
         "opacity": 0.061269146608315096,
         "type": "scattergeo"
        },
        {
         "lat": [
          35.39308833,
          32.89595056
         ],
         "line": {
          "color": "red",
          "width": 1
         },
         "locationmode": "USA-states",
         "lon": [
          -97.60073389,
          -97.0372
         ],
         "mode": "lines",
         "opacity": 0.42669584245076586,
         "type": "scattergeo"
        },
        {
         "lat": [
          41.30251861,
          32.89595056
         ],
         "line": {
          "color": "red",
          "width": 1
         },
         "locationmode": "USA-states",
         "lon": [
          -95.89417306,
          -97.0372
         ],
         "mode": "lines",
         "opacity": 0.2975929978118162,
         "type": "scattergeo"
        },
        {
         "lat": [
          41.979595,
          32.89595056
         ],
         "line": {
          "color": "red",
          "width": 1
         },
         "locationmode": "USA-states",
         "lon": [
          -87.90446417,
          -97.0372
         ],
         "mode": "lines",
         "opacity": 0.9026258205689278,
         "type": "scattergeo"
        },
        {
         "lat": [
          39.87195278,
          32.89595056
         ],
         "line": {
          "color": "red",
          "width": 1
         },
         "locationmode": "USA-states",
         "lon": [
          -75.24114083,
          -97.0372
         ],
         "mode": "lines",
         "opacity": 0.3522975929978118,
         "type": "scattergeo"
        },
        {
         "lat": [
          33.43416667,
          32.89595056
         ],
         "line": {
          "color": "red",
          "width": 1
         },
         "locationmode": "USA-states",
         "lon": [
          -112.0080556,
          -97.0372
         ],
         "mode": "lines",
         "opacity": 0.6017505470459519,
         "type": "scattergeo"
        },
        {
         "lat": [
          37.50516667,
          32.89595056
         ],
         "line": {
          "color": "red",
          "width": 1
         },
         "locationmode": "USA-states",
         "lon": [
          -77.31966667,
          -97.0372
         ],
         "mode": "lines",
         "opacity": 0.18161925601750548,
         "type": "scattergeo"
        },
        {
         "lat": [
          39.49857611,
          32.89595056
         ],
         "line": {
          "color": "red",
          "width": 1
         },
         "locationmode": "USA-states",
         "lon": [
          -119.7680647,
          -97.0372
         ],
         "mode": "lines",
         "opacity": 0.16411378555798686,
         "type": "scattergeo"
        },
        {
         "lat": [
          32.73355611,
          32.89595056
         ],
         "line": {
          "color": "red",
          "width": 1
         },
         "locationmode": "USA-states",
         "lon": [
          -117.1896567,
          -97.0372
         ],
         "mode": "lines",
         "opacity": 0.5470459518599562,
         "type": "scattergeo"
        },
        {
         "lat": [
          29.53369444,
          32.89595056
         ],
         "line": {
          "color": "red",
          "width": 1
         },
         "locationmode": "USA-states",
         "lon": [
          -98.46977778,
          -97.0372
         ],
         "mode": "lines",
         "opacity": 0.9037199124726477,
         "type": "scattergeo"
        },
        {
         "lat": [
          38.17438889,
          32.89595056
         ],
         "line": {
          "color": "red",
          "width": 1
         },
         "locationmode": "USA-states",
         "lon": [
          -85.736,
          -97.0372
         ],
         "mode": "lines",
         "opacity": 0.17943107221006566,
         "type": "scattergeo"
        },
        {
         "lat": [
          37.61900194,
          32.89595056
         ],
         "line": {
          "color": "red",
          "width": 1
         },
         "locationmode": "USA-states",
         "lon": [
          -122.3748433,
          -97.0372
         ],
         "mode": "lines",
         "opacity": 0.5754923413566739,
         "type": "scattergeo"
        },
        {
         "lat": [
          37.36186194,
          32.89595056
         ],
         "line": {
          "color": "red",
          "width": 1
         },
         "locationmode": "USA-states",
         "lon": [
          -121.9290089,
          -97.0372
         ],
         "mode": "lines",
         "opacity": 0.3479212253829322,
         "type": "scattergeo"
        },
        {
         "lat": [
          40.78838778,
          32.89595056
         ],
         "line": {
          "color": "red",
          "width": 1
         },
         "locationmode": "USA-states",
         "lon": [
          -111.9777731,
          -97.0372
         ],
         "mode": "lines",
         "opacity": 0.3063457330415755,
         "type": "scattergeo"
        },
        {
         "lat": [
          38.74768694,
          32.89595056
         ],
         "line": {
          "color": "red",
          "width": 1
         },
         "locationmode": "USA-states",
         "lon": [
          -90.35998972,
          -97.0372
         ],
         "mode": "lines",
         "opacity": 0.5317286652078774,
         "type": "scattergeo"
        },
        {
         "lat": [
          36.28186944,
          32.89595056
         ],
         "line": {
          "color": "red",
          "width": 1
         },
         "locationmode": "USA-states",
         "lon": [
          -94.30681111,
          -97.0372
         ],
         "mode": "lines",
         "opacity": 0.05470459518599562,
         "type": "scattergeo"
        },
        {
         "lat": [
          25.79325,
          42.21205889
         ],
         "line": {
          "color": "red",
          "width": 1
         },
         "locationmode": "USA-states",
         "lon": [
          -80.29055556,
          -83.34883583
         ],
         "mode": "lines",
         "opacity": 0.12253829321663019,
         "type": "scattergeo"
        },
        {
         "lat": [
          40.77724306,
          39.64256778
         ],
         "line": {
          "color": "red",
          "width": 1
         },
         "locationmode": "USA-states",
         "lon": [
          -73.87260917,
          -106.9176953
         ],
         "mode": "lines",
         "opacity": 0.0087527352297593,
         "type": "scattergeo"
        },
        {
         "lat": [
          41.979595,
          39.64256778
         ],
         "line": {
          "color": "red",
          "width": 1
         },
         "locationmode": "USA-states",
         "lon": [
          -87.90446417,
          -106.9176953
         ],
         "mode": "lines",
         "opacity": 0.0700218818380744,
         "type": "scattergeo"
        },
        {
         "lat": [
          32.89595056,
          31.80666667
         ],
         "line": {
          "color": "red",
          "width": 1
         },
         "locationmode": "USA-states",
         "lon": [
          -97.0372,
          -106.3778056
         ],
         "mode": "lines",
         "opacity": 0.474835886214442,
         "type": "scattergeo"
        },
        {
         "lat": [
          33.94253611,
          40.69249722
         ],
         "line": {
          "color": "red",
          "width": 1
         },
         "locationmode": "USA-states",
         "lon": [
          -118.4080744,
          -74.16866056
         ],
         "mode": "lines",
         "opacity": 0.05908096280087528,
         "type": "scattergeo"
        },
        {
         "lat": [
          25.79325,
          40.69249722
         ],
         "line": {
          "color": "red",
          "width": 1
         },
         "locationmode": "USA-states",
         "lon": [
          -80.29055556,
          -74.16866056
         ],
         "mode": "lines",
         "opacity": 0.1838074398249453,
         "type": "scattergeo"
        },
        {
         "lat": [
          40.63975111,
          26.07258333
         ],
         "line": {
          "color": "red",
          "width": 1
         },
         "locationmode": "USA-states",
         "lon": [
          -73.77892556,
          -80.15275
         ],
         "mode": "lines",
         "opacity": 0.12253829321663019,
         "type": "scattergeo"
        },
        {
         "lat": [
          32.89595056,
          40.48118028
         ],
         "line": {
          "color": "red",
          "width": 1
         },
         "locationmode": "USA-states",
         "lon": [
          -97.0372,
          -107.2176597
         ],
         "mode": "lines",
         "opacity": 0.0700218818380744,
         "type": "scattergeo"
        },
        {
         "lat": [
          32.89595056,
          21.31869111
         ],
         "line": {
          "color": "red",
          "width": 1
         },
         "locationmode": "USA-states",
         "lon": [
          -97.0372,
          -157.9224072
         ],
         "mode": "lines",
         "opacity": 0.12253829321663019,
         "type": "scattergeo"
        },
        {
         "lat": [
          33.94253611,
          21.31869111
         ],
         "line": {
          "color": "red",
          "width": 1
         },
         "locationmode": "USA-states",
         "lon": [
          -118.4080744,
          -157.9224072
         ],
         "mode": "lines",
         "opacity": 0.2363238512035011,
         "type": "scattergeo"
        },
        {
         "lat": [
          32.89595056,
          38.94453194
         ],
         "line": {
          "color": "red",
          "width": 1
         },
         "locationmode": "USA-states",
         "lon": [
          -97.0372,
          -77.45580972
         ],
         "mode": "lines",
         "opacity": 0.33698030634573306,
         "type": "scattergeo"
        },
        {
         "lat": [
          33.94253611,
          38.94453194
         ],
         "line": {
          "color": "red",
          "width": 1
         },
         "locationmode": "USA-states",
         "lon": [
          -118.4080744,
          -77.45580972
         ],
         "mode": "lines",
         "opacity": 0.18161925601750548,
         "type": "scattergeo"
        },
        {
         "lat": [
          25.79325,
          38.94453194
         ],
         "line": {
          "color": "red",
          "width": 1
         },
         "locationmode": "USA-states",
         "lon": [
          -80.29055556,
          -77.45580972
         ],
         "mode": "lines",
         "opacity": 0.12253829321663019,
         "type": "scattergeo"
        },
        {
         "lat": [
          25.79325,
          29.98047222
         ],
         "line": {
          "color": "red",
          "width": 1
         },
         "locationmode": "USA-states",
         "lon": [
          -80.29055556,
          -95.33972222
         ],
         "mode": "lines",
         "opacity": 0.1838074398249453,
         "type": "scattergeo"
        },
        {
         "lat": [
          32.89595056,
          37.64995889
         ],
         "line": {
          "color": "red",
          "width": 1
         },
         "locationmode": "USA-states",
         "lon": [
          -97.0372,
          -97.43304583
         ],
         "mode": "lines",
         "opacity": 0.23413566739606126,
         "type": "scattergeo"
        },
        {
         "lat": [
          32.89595056,
          39.71732917
         ],
         "line": {
          "color": "red",
          "width": 1
         },
         "locationmode": "USA-states",
         "lon": [
          -97.0372,
          -86.29438417
         ],
         "mode": "lines",
         "opacity": 0.3041575492341357,
         "type": "scattergeo"
        },
        {
         "lat": [
          32.89595056,
          43.60732417
         ],
         "line": {
          "color": "red",
          "width": 1
         },
         "locationmode": "USA-states",
         "lon": [
          -97.0372,
          -110.7377389
         ],
         "mode": "lines",
         "opacity": 0.0262582056892779,
         "type": "scattergeo"
        },
        {
         "lat": [
          32.89595056,
          30.49405556
         ],
         "line": {
          "color": "red",
          "width": 1
         },
         "locationmode": "USA-states",
         "lon": [
          -97.0372,
          -81.68786111
         ],
         "mode": "lines",
         "opacity": 0.2363238512035011,
         "type": "scattergeo"
        },
        {
         "lat": [
          30.19453278,
          40.63975111
         ],
         "line": {
          "color": "red",
          "width": 1
         },
         "locationmode": "USA-states",
         "lon": [
          -97.66987194,
          -73.77892556
         ],
         "mode": "lines",
         "opacity": 0.061269146608315096,
         "type": "scattergeo"
        },
        {
         "lat": [
          32.89595056,
          40.63975111
         ],
         "line": {
          "color": "red",
          "width": 1
         },
         "locationmode": "USA-states",
         "lon": [
          -97.0372,
          -73.77892556
         ],
         "mode": "lines",
         "opacity": 0.061269146608315096,
         "type": "scattergeo"
        },
        {
         "lat": [
          39.64256778,
          40.63975111
         ],
         "line": {
          "color": "red",
          "width": 1
         },
         "locationmode": "USA-states",
         "lon": [
          -106.9176953,
          -73.77892556
         ],
         "mode": "lines",
         "opacity": 0.061269146608315096,
         "type": "scattergeo"
        },
        {
         "lat": [
          28.42888889,
          40.63975111
         ],
         "line": {
          "color": "red",
          "width": 1
         },
         "locationmode": "USA-states",
         "lon": [
          -81.31602778,
          -73.77892556
         ],
         "mode": "lines",
         "opacity": 0.24507658643326038,
         "type": "scattergeo"
        },
        {
         "lat": [
          25.79325,
          40.63975111
         ],
         "line": {
          "color": "red",
          "width": 1
         },
         "locationmode": "USA-states",
         "lon": [
          -80.29055556,
          -73.77892556
         ],
         "mode": "lines",
         "opacity": 0.4288840262582057,
         "type": "scattergeo"
        },
        {
         "lat": [
          47.44898194,
          40.63975111
         ],
         "line": {
          "color": "red",
          "width": 1
         },
         "locationmode": "USA-states",
         "lon": [
          -122.3093131,
          -73.77892556
         ],
         "mode": "lines",
         "opacity": 0.061269146608315096,
         "type": "scattergeo"
        },
        {
         "lat": [
          37.61900194,
          40.63975111
         ],
         "line": {
          "color": "red",
          "width": 1
         },
         "locationmode": "USA-states",
         "lon": [
          -122.3748433,
          -73.77892556
         ],
         "mode": "lines",
         "opacity": 0.3041575492341357,
         "type": "scattergeo"
        },
        {
         "lat": [
          18.33730556,
          40.63975111
         ],
         "line": {
          "color": "red",
          "width": 1
         },
         "locationmode": "USA-states",
         "lon": [
          -64.97336111,
          -73.77892556
         ],
         "mode": "lines",
         "opacity": 0.061269146608315096,
         "type": "scattergeo"
        },
        {
         "lat": [
          27.97547222,
          40.63975111
         ],
         "line": {
          "color": "red",
          "width": 1
         },
         "locationmode": "USA-states",
         "lon": [
          -82.53325,
          -73.77892556
         ],
         "mode": "lines",
         "opacity": 0.061269146608315096,
         "type": "scattergeo"
        },
        {
         "lat": [
          32.89595056,
          36.08036111
         ],
         "line": {
          "color": "red",
          "width": 1
         },
         "locationmode": "USA-states",
         "lon": [
          -97.0372,
          -115.1523333
         ],
         "mode": "lines",
         "opacity": 0.6225382932166302,
         "type": "scattergeo"
        },
        {
         "lat": [
          40.63975111,
          36.08036111
         ],
         "line": {
          "color": "red",
          "width": 1
         },
         "locationmode": "USA-states",
         "lon": [
          -73.77892556,
          -115.1523333
         ],
         "mode": "lines",
         "opacity": 0.12253829321663019,
         "type": "scattergeo"
        },
        {
         "lat": [
          33.94253611,
          36.08036111
         ],
         "line": {
          "color": "red",
          "width": 1
         },
         "locationmode": "USA-states",
         "lon": [
          -118.4080744,
          -115.1523333
         ],
         "mode": "lines",
         "opacity": 0.24288840262582057,
         "type": "scattergeo"
        },
        {
         "lat": [
          41.979595,
          36.08036111
         ],
         "line": {
          "color": "red",
          "width": 1
         },
         "locationmode": "USA-states",
         "lon": [
          -87.90446417,
          -115.1523333
         ],
         "mode": "lines",
         "opacity": 0.3063457330415755,
         "type": "scattergeo"
        },
        {
         "lat": [
          30.19453278,
          33.94253611
         ],
         "line": {
          "color": "red",
          "width": 1
         },
         "locationmode": "USA-states",
         "lon": [
          -97.66987194,
          -118.4080744
         ],
         "mode": "lines",
         "opacity": 0.1772428884026258,
         "type": "scattergeo"
        },
        {
         "lat": [
          36.12447667,
          33.94253611
         ],
         "line": {
          "color": "red",
          "width": 1
         },
         "locationmode": "USA-states",
         "lon": [
          -86.67818222,
          -118.4080744
         ],
         "mode": "lines",
         "opacity": 0.061269146608315096,
         "type": "scattergeo"
        },
        {
         "lat": [
          42.3643475,
          33.94253611
         ],
         "line": {
          "color": "red",
          "width": 1
         },
         "locationmode": "USA-states",
         "lon": [
          -71.00517917,
          -118.4080744
         ],
         "mode": "lines",
         "opacity": 0.1838074398249453,
         "type": "scattergeo"
        },
        {
         "lat": [
          39.64256778,
          33.94253611
         ],
         "line": {
          "color": "red",
          "width": 1
         },
         "locationmode": "USA-states",
         "lon": [
          -106.9176953,
          -118.4080744
         ],
         "mode": "lines",
         "opacity": 0.061269146608315096,
         "type": "scattergeo"
        },
        {
         "lat": [
          40.63975111,
          33.94253611
         ],
         "line": {
          "color": "red",
          "width": 1
         },
         "locationmode": "USA-states",
         "lon": [
          -73.77892556,
          -118.4080744
         ],
         "mode": "lines",
         "opacity": 0.5995623632385121,
         "type": "scattergeo"
        },
        {
         "lat": [
          19.73876583,
          33.94253611
         ],
         "line": {
          "color": "red",
          "width": 1
         },
         "locationmode": "USA-states",
         "lon": [
          -156.0456314,
          -118.4080744
         ],
         "mode": "lines",
         "opacity": 0.061269146608315096,
         "type": "scattergeo"
        },
        {
         "lat": [
          20.89864972,
          33.94253611
         ],
         "line": {
          "color": "red",
          "width": 1
         },
         "locationmode": "USA-states",
         "lon": [
          -156.4304578,
          -118.4080744
         ],
         "mode": "lines",
         "opacity": 0.12253829321663019,
         "type": "scattergeo"
        },
        {
         "lat": [
          41.979595,
          33.94253611
         ],
         "line": {
          "color": "red",
          "width": 1
         },
         "locationmode": "USA-states",
         "lon": [
          -87.90446417,
          -118.4080744
         ],
         "mode": "lines",
         "opacity": 0.5426695842450766,
         "type": "scattergeo"
        },
        {
         "lat": [
          38.74768694,
          33.94253611
         ],
         "line": {
          "color": "red",
          "width": 1
         },
         "locationmode": "USA-states",
         "lon": [
          -90.35998972,
          -118.4080744
         ],
         "mode": "lines",
         "opacity": 0.18161925601750548,
         "type": "scattergeo"
        },
        {
         "lat": [
          36.12447667,
          40.77724306
         ],
         "line": {
          "color": "red",
          "width": 1
         },
         "locationmode": "USA-states",
         "lon": [
          -86.67818222,
          -73.87260917
         ],
         "mode": "lines",
         "opacity": 0.11159737417943107,
         "type": "scattergeo"
        },
        {
         "lat": [
          32.89595056,
          40.77724306
         ],
         "line": {
          "color": "red",
          "width": 1
         },
         "locationmode": "USA-states",
         "lon": [
          -97.0372,
          -73.87260917
         ],
         "mode": "lines",
         "opacity": 0.849015317286652,
         "type": "scattergeo"
        },
        {
         "lat": [
          38.74768694,
          40.77724306
         ],
         "line": {
          "color": "red",
          "width": 1
         },
         "locationmode": "USA-states",
         "lon": [
          -90.35998972,
          -73.87260917
         ],
         "mode": "lines",
         "opacity": 0.22538293216630198,
         "type": "scattergeo"
        },
        {
         "lat": [
          33.94253611,
          21.97598306
         ],
         "line": {
          "color": "red",
          "width": 1
         },
         "locationmode": "USA-states",
         "lon": [
          -118.4080744,
          -159.3389581
         ],
         "mode": "lines",
         "opacity": 0.061269146608315096,
         "type": "scattergeo"
        },
        {
         "lat": [
          33.94253611,
          28.42888889
         ],
         "line": {
          "color": "red",
          "width": 1
         },
         "locationmode": "USA-states",
         "lon": [
          -118.4080744,
          -81.31602778
         ],
         "mode": "lines",
         "opacity": 0.061269146608315096,
         "type": "scattergeo"
        },
        {
         "lat": [
          25.79325,
          28.42888889
         ],
         "line": {
          "color": "red",
          "width": 1
         },
         "locationmode": "USA-states",
         "lon": [
          -80.29055556,
          -81.31602778
         ],
         "mode": "lines",
         "opacity": 0.49015317286652077,
         "type": "scattergeo"
        },
        {
         "lat": [
          33.64044444,
          25.79325
         ],
         "line": {
          "color": "red",
          "width": 1
         },
         "locationmode": "USA-states",
         "lon": [
          -84.42694444,
          -80.29055556
         ],
         "mode": "lines",
         "opacity": 0.24507658643326038,
         "type": "scattergeo"
        },
        {
         "lat": [
          41.93887417,
          25.79325
         ],
         "line": {
          "color": "red",
          "width": 1
         },
         "locationmode": "USA-states",
         "lon": [
          -72.68322833,
          -80.29055556
         ],
         "mode": "lines",
         "opacity": 0.12253829321663019,
         "type": "scattergeo"
        },
        {
         "lat": [
          38.85208333,
          25.79325
         ],
         "line": {
          "color": "red",
          "width": 1
         },
         "locationmode": "USA-states",
         "lon": [
          -77.03772222,
          -80.29055556
         ],
         "mode": "lines",
         "opacity": 0.5514223194748359,
         "type": "scattergeo"
        },
        {
         "lat": [
          39.64256778,
          25.79325
         ],
         "line": {
          "color": "red",
          "width": 1
         },
         "locationmode": "USA-states",
         "lon": [
          -106.9176953,
          -80.29055556
         ],
         "mode": "lines",
         "opacity": 0.0525164113785558,
         "type": "scattergeo"
        },
        {
         "lat": [
          36.08036111,
          25.79325
         ],
         "line": {
          "color": "red",
          "width": 1
         },
         "locationmode": "USA-states",
         "lon": [
          -115.1523333,
          -80.29055556
         ],
         "mode": "lines",
         "opacity": 0.1838074398249453,
         "type": "scattergeo"
        },
        {
         "lat": [
          33.94253611,
          25.79325
         ],
         "line": {
          "color": "red",
          "width": 1
         },
         "locationmode": "USA-states",
         "lon": [
          -118.4080744,
          -80.29055556
         ],
         "mode": "lines",
         "opacity": 0.4288840262582057,
         "type": "scattergeo"
        },
        {
         "lat": [
          40.77724306,
          25.79325
         ],
         "line": {
          "color": "red",
          "width": 1
         },
         "locationmode": "USA-states",
         "lon": [
          -73.87260917,
          -80.29055556
         ],
         "mode": "lines",
         "opacity": 0.6728665207877462,
         "type": "scattergeo"
        },
        {
         "lat": [
          44.88054694,
          25.79325
         ],
         "line": {
          "color": "red",
          "width": 1
         },
         "locationmode": "USA-states",
         "lon": [
          -93.2169225,
          -80.29055556
         ],
         "mode": "lines",
         "opacity": 0.061269146608315096,
         "type": "scattergeo"
        },
        {
         "lat": [
          41.979595,
          25.79325
         ],
         "line": {
          "color": "red",
          "width": 1
         },
         "locationmode": "USA-states",
         "lon": [
          -87.90446417,
          -80.29055556
         ],
         "mode": "lines",
         "opacity": 0.5525164113785558,
         "type": "scattergeo"
        },
        {
         "lat": [
          39.87195278,
          25.79325
         ],
         "line": {
          "color": "red",
          "width": 1
         },
         "locationmode": "USA-states",
         "lon": [
          -75.24114083,
          -80.29055556
         ],
         "mode": "lines",
         "opacity": 0.1838074398249453,
         "type": "scattergeo"
        },
        {
         "lat": [
          33.43416667,
          25.79325
         ],
         "line": {
          "color": "red",
          "width": 1
         },
         "locationmode": "USA-states",
         "lon": [
          -112.0080556,
          -80.29055556
         ],
         "mode": "lines",
         "opacity": 0.061269146608315096,
         "type": "scattergeo"
        },
        {
         "lat": [
          37.61900194,
          25.79325
         ],
         "line": {
          "color": "red",
          "width": 1
         },
         "locationmode": "USA-states",
         "lon": [
          -122.3748433,
          -80.29055556
         ],
         "mode": "lines",
         "opacity": 0.1838074398249453,
         "type": "scattergeo"
        },
        {
         "lat": [
          18.43941667,
          25.79325
         ],
         "line": {
          "color": "red",
          "width": 1
         },
         "locationmode": "USA-states",
         "lon": [
          -66.00183333,
          -80.29055556
         ],
         "mode": "lines",
         "opacity": 0.49015317286652077,
         "type": "scattergeo"
        },
        {
         "lat": [
          36.19837222,
          25.79325
         ],
         "line": {
          "color": "red",
          "width": 1
         },
         "locationmode": "USA-states",
         "lon": [
          -95.88824167,
          -80.29055556
         ],
         "mode": "lines",
         "opacity": 0.00437636761487965,
         "type": "scattergeo"
        },
        {
         "lat": [
          41.979595,
          44.88054694
         ],
         "line": {
          "color": "red",
          "width": 1
         },
         "locationmode": "USA-states",
         "lon": [
          -87.90446417,
          -93.2169225
         ],
         "mode": "lines",
         "opacity": 0.175054704595186,
         "type": "scattergeo"
        },
        {
         "lat": [
          32.89595056,
          29.99338889
         ],
         "line": {
          "color": "red",
          "width": 1
         },
         "locationmode": "USA-states",
         "lon": [
          -97.0372,
          -90.25802778
         ],
         "mode": "lines",
         "opacity": 0.3676148796498906,
         "type": "scattergeo"
        },
        {
         "lat": [
          25.79325,
          29.99338889
         ],
         "line": {
          "color": "red",
          "width": 1
         },
         "locationmode": "USA-states",
         "lon": [
          -80.29055556,
          -90.25802778
         ],
         "mode": "lines",
         "opacity": 0.1838074398249453,
         "type": "scattergeo"
        },
        {
         "lat": [
          41.979595,
          29.99338889
         ],
         "line": {
          "color": "red",
          "width": 1
         },
         "locationmode": "USA-states",
         "lon": [
          -87.90446417,
          -90.25802778
         ],
         "mode": "lines",
         "opacity": 0.16301969365426697,
         "type": "scattergeo"
        },
        {
         "lat": [
          32.89595056,
          34.056
         ],
         "line": {
          "color": "red",
          "width": 1
         },
         "locationmode": "USA-states",
         "lon": [
          -97.0372,
          -117.6011944
         ],
         "mode": "lines",
         "opacity": 0.24288840262582057,
         "type": "scattergeo"
        },
        {
         "lat": [
          38.85208333,
          41.979595
         ],
         "line": {
          "color": "red",
          "width": 1
         },
         "locationmode": "USA-states",
         "lon": [
          -77.03772222,
          -87.90446417
         ],
         "mode": "lines",
         "opacity": 0.3544857768052516,
         "type": "scattergeo"
        },
        {
         "lat": [
          40.69249722,
          41.979595
         ],
         "line": {
          "color": "red",
          "width": 1
         },
         "locationmode": "USA-states",
         "lon": [
          -74.16866056,
          -87.90446417
         ],
         "mode": "lines",
         "opacity": 0.1838074398249453,
         "type": "scattergeo"
        },
        {
         "lat": [
          26.07258333,
          41.979595
         ],
         "line": {
          "color": "red",
          "width": 1
         },
         "locationmode": "USA-states",
         "lon": [
          -80.15275,
          -87.90446417
         ],
         "mode": "lines",
         "opacity": 0.1838074398249453,
         "type": "scattergeo"
        },
        {
         "lat": [
          40.48118028,
          41.979595
         ],
         "line": {
          "color": "red",
          "width": 1
         },
         "locationmode": "USA-states",
         "lon": [
          -107.2176597,
          -87.90446417
         ],
         "mode": "lines",
         "opacity": 0.0525164113785558,
         "type": "scattergeo"
        },
        {
         "lat": [
          21.31869111,
          41.979595
         ],
         "line": {
          "color": "red",
          "width": 1
         },
         "locationmode": "USA-states",
         "lon": [
          -157.9224072,
          -87.90446417
         ],
         "mode": "lines",
         "opacity": 0.05032822757111598,
         "type": "scattergeo"
        },
        {
         "lat": [
          43.60732417,
          41.979595
         ],
         "line": {
          "color": "red",
          "width": 1
         },
         "locationmode": "USA-states",
         "lon": [
          -110.7377389,
          -87.90446417
         ],
         "mode": "lines",
         "opacity": 0.061269146608315096,
         "type": "scattergeo"
        },
        {
         "lat": [
          40.63975111,
          41.979595
         ],
         "line": {
          "color": "red",
          "width": 1
         },
         "locationmode": "USA-states",
         "lon": [
          -73.77892556,
          -87.90446417
         ],
         "mode": "lines",
         "opacity": 0.061269146608315096,
         "type": "scattergeo"
        },
        {
         "lat": [
          40.77724306,
          41.979595
         ],
         "line": {
          "color": "red",
          "width": 1
         },
         "locationmode": "USA-states",
         "lon": [
          -73.87260917,
          -87.90446417
         ],
         "mode": "lines",
         "opacity": 0.9409190371991247,
         "type": "scattergeo"
        },
        {
         "lat": [
          39.29760528,
          41.979595
         ],
         "line": {
          "color": "red",
          "width": 1
         },
         "locationmode": "USA-states",
         "lon": [
          -94.71390556,
          -87.90446417
         ],
         "mode": "lines",
         "opacity": 0.23413566739606126,
         "type": "scattergeo"
        },
        {
         "lat": [
          28.42888889,
          41.979595
         ],
         "line": {
          "color": "red",
          "width": 1
         },
         "locationmode": "USA-states",
         "lon": [
          -81.31602778,
          -87.90446417
         ],
         "mode": "lines",
         "opacity": 0.24507658643326038,
         "type": "scattergeo"
        },
        {
         "lat": [
          35.87763889,
          41.979595
         ],
         "line": {
          "color": "red",
          "width": 1
         },
         "locationmode": "USA-states",
         "lon": [
          -78.78747222,
          -87.90446417
         ],
         "mode": "lines",
         "opacity": 0.17067833698030635,
         "type": "scattergeo"
        },
        {
         "lat": [
          39.49857611,
          41.979595
         ],
         "line": {
          "color": "red",
          "width": 1
         },
         "locationmode": "USA-states",
         "lon": [
          -119.7680647,
          -87.90446417
         ],
         "mode": "lines",
         "opacity": 0.061269146608315096,
         "type": "scattergeo"
        },
        {
         "lat": [
          32.73355611,
          41.979595
         ],
         "line": {
          "color": "red",
          "width": 1
         },
         "locationmode": "USA-states",
         "lon": [
          -117.1896567,
          -87.90446417
         ],
         "mode": "lines",
         "opacity": 0.24507658643326038,
         "type": "scattergeo"
        },
        {
         "lat": [
          29.53369444,
          41.979595
         ],
         "line": {
          "color": "red",
          "width": 1
         },
         "locationmode": "USA-states",
         "lon": [
          -98.46977778,
          -87.90446417
         ],
         "mode": "lines",
         "opacity": 0.12253829321663019,
         "type": "scattergeo"
        },
        {
         "lat": [
          37.36186194,
          41.979595
         ],
         "line": {
          "color": "red",
          "width": 1
         },
         "locationmode": "USA-states",
         "lon": [
          -121.9290089,
          -87.90446417
         ],
         "mode": "lines",
         "opacity": 0.12253829321663019,
         "type": "scattergeo"
        },
        {
         "lat": [
          18.43941667,
          41.979595
         ],
         "line": {
          "color": "red",
          "width": 1
         },
         "locationmode": "USA-states",
         "lon": [
          -66.00183333,
          -87.90446417
         ],
         "mode": "lines",
         "opacity": 0.12253829321663019,
         "type": "scattergeo"
        },
        {
         "lat": [
          38.74768694,
          41.979595
         ],
         "line": {
          "color": "red",
          "width": 1
         },
         "locationmode": "USA-states",
         "lon": [
          -90.35998972,
          -87.90446417
         ],
         "mode": "lines",
         "opacity": 0.5284463894967177,
         "type": "scattergeo"
        },
        {
         "lat": [
          36.19837222,
          41.979595
         ],
         "line": {
          "color": "red",
          "width": 1
         },
         "locationmode": "USA-states",
         "lon": [
          -95.88824167,
          -87.90446417
         ],
         "mode": "lines",
         "opacity": 0.061269146608315096,
         "type": "scattergeo"
        },
        {
         "lat": [
          32.11608333,
          41.979595
         ],
         "line": {
          "color": "red",
          "width": 1
         },
         "locationmode": "USA-states",
         "lon": [
          -110.9410278,
          -87.90446417
         ],
         "mode": "lines",
         "opacity": 0.12253829321663019,
         "type": "scattergeo"
        },
        {
         "lat": [
          32.89595056,
          36.89461111
         ],
         "line": {
          "color": "red",
          "width": 1
         },
         "locationmode": "USA-states",
         "lon": [
          -97.0372,
          -76.20122222
         ],
         "mode": "lines",
         "opacity": 0.12253829321663019,
         "type": "scattergeo"
        },
        {
         "lat": [
          32.89595056,
          26.68316194
         ],
         "line": {
          "color": "red",
          "width": 1
         },
         "locationmode": "USA-states",
         "lon": [
          -97.0372,
          -80.09559417
         ],
         "mode": "lines",
         "opacity": 0.12253829321663019,
         "type": "scattergeo"
        },
        {
         "lat": [
          41.979595,
          26.68316194
         ],
         "line": {
          "color": "red",
          "width": 1
         },
         "locationmode": "USA-states",
         "lon": [
          -87.90446417,
          -80.09559417
         ],
         "mode": "lines",
         "opacity": 0.16411378555798686,
         "type": "scattergeo"
        },
        {
         "lat": [
          32.89595056,
          45.58872222
         ],
         "line": {
          "color": "red",
          "width": 1
         },
         "locationmode": "USA-states",
         "lon": [
          -97.0372,
          -122.5975
         ],
         "mode": "lines",
         "opacity": 0.24507658643326038,
         "type": "scattergeo"
        },
        {
         "lat": [
          41.979595,
          39.87195278
         ],
         "line": {
          "color": "red",
          "width": 1
         },
         "locationmode": "USA-states",
         "lon": [
          -87.90446417,
          -75.24114083
         ],
         "mode": "lines",
         "opacity": 0.12035010940919037,
         "type": "scattergeo"
        },
        {
         "lat": [
          18.43941667,
          39.87195278
         ],
         "line": {
          "color": "red",
          "width": 1
         },
         "locationmode": "USA-states",
         "lon": [
          -66.00183333,
          -75.24114083
         ],
         "mode": "lines",
         "opacity": 0.061269146608315096,
         "type": "scattergeo"
        },
        {
         "lat": [
          41.979595,
          33.43416667
         ],
         "line": {
          "color": "red",
          "width": 1
         },
         "locationmode": "USA-states",
         "lon": [
          -87.90446417,
          -112.0080556
         ],
         "mode": "lines",
         "opacity": 0.3063457330415755,
         "type": "scattergeo"
        },
        {
         "lat": [
          32.89595056,
          40.49146583
         ],
         "line": {
          "color": "red",
          "width": 1
         },
         "locationmode": "USA-states",
         "lon": [
          -97.0372,
          -80.23287083
         ],
         "mode": "lines",
         "opacity": 0.18599562363238512,
         "type": "scattergeo"
        },
        {
         "lat": [
          32.89595056,
          33.82921556
         ],
         "line": {
          "color": "red",
          "width": 1
         },
         "locationmode": "USA-states",
         "lon": [
          -97.0372,
          -116.5062531
         ],
         "mode": "lines",
         "opacity": 0.1838074398249453,
         "type": "scattergeo"
        },
        {
         "lat": [
          41.979595,
          33.82921556
         ],
         "line": {
          "color": "red",
          "width": 1
         },
         "locationmode": "USA-states",
         "lon": [
          -87.90446417,
          -116.5062531
         ],
         "mode": "lines",
         "opacity": 0.0700218818380744,
         "type": "scattergeo"
        },
        {
         "lat": [
          32.89595056,
          35.87763889
         ],
         "line": {
          "color": "red",
          "width": 1
         },
         "locationmode": "USA-states",
         "lon": [
          -97.0372,
          -78.78747222
         ],
         "mode": "lines",
         "opacity": 0.3041575492341357,
         "type": "scattergeo"
        },
        {
         "lat": [
          25.79325,
          35.87763889
         ],
         "line": {
          "color": "red",
          "width": 1
         },
         "locationmode": "USA-states",
         "lon": [
          -80.29055556,
          -78.78747222
         ],
         "mode": "lines",
         "opacity": 0.1838074398249453,
         "type": "scattergeo"
        },
        {
         "lat": [
          32.89595056,
          26.53616667
         ],
         "line": {
          "color": "red",
          "width": 1
         },
         "locationmode": "USA-states",
         "lon": [
          -97.0372,
          -81.75516667
         ],
         "mode": "lines",
         "opacity": 0.1838074398249453,
         "type": "scattergeo"
        },
        {
         "lat": [
          41.979595,
          26.53616667
         ],
         "line": {
          "color": "red",
          "width": 1
         },
         "locationmode": "USA-states",
         "lon": [
          -87.90446417,
          -81.75516667
         ],
         "mode": "lines",
         "opacity": 0.1838074398249453,
         "type": "scattergeo"
        },
        {
         "lat": [
          40.63975111,
          32.73355611
         ],
         "line": {
          "color": "red",
          "width": 1
         },
         "locationmode": "USA-states",
         "lon": [
          -73.77892556,
          -117.1896567
         ],
         "mode": "lines",
         "opacity": 0.061269146608315096,
         "type": "scattergeo"
        },
        {
         "lat": [
          32.89595056,
          47.44898194
         ],
         "line": {
          "color": "red",
          "width": 1
         },
         "locationmode": "USA-states",
         "lon": [
          -97.0372,
          -122.3093131
         ],
         "mode": "lines",
         "opacity": 0.4288840262582057,
         "type": "scattergeo"
        },
        {
         "lat": [
          41.979595,
          47.44898194
         ],
         "line": {
          "color": "red",
          "width": 1
         },
         "locationmode": "USA-states",
         "lon": [
          -87.90446417,
          -122.3093131
         ],
         "mode": "lines",
         "opacity": 0.23413566739606126,
         "type": "scattergeo"
        },
        {
         "lat": [
          21.31869111,
          37.61900194
         ],
         "line": {
          "color": "red",
          "width": 1
         },
         "locationmode": "USA-states",
         "lon": [
          -157.9224072,
          -122.3748433
         ],
         "mode": "lines",
         "opacity": 0.061269146608315096,
         "type": "scattergeo"
        },
        {
         "lat": [
          33.94253611,
          37.61900194
         ],
         "line": {
          "color": "red",
          "width": 1
         },
         "locationmode": "USA-states",
         "lon": [
          -118.4080744,
          -122.3748433
         ],
         "mode": "lines",
         "opacity": 0.3676148796498906,
         "type": "scattergeo"
        },
        {
         "lat": [
          41.979595,
          37.61900194
         ],
         "line": {
          "color": "red",
          "width": 1
         },
         "locationmode": "USA-states",
         "lon": [
          -87.90446417,
          -122.3748433
         ],
         "mode": "lines",
         "opacity": 0.35667396061269147,
         "type": "scattergeo"
        },
        {
         "lat": [
          32.89595056,
          18.43941667
         ],
         "line": {
          "color": "red",
          "width": 1
         },
         "locationmode": "USA-states",
         "lon": [
          -97.0372,
          -66.00183333
         ],
         "mode": "lines",
         "opacity": 0.13129102844638948,
         "type": "scattergeo"
        },
        {
         "lat": [
          38.94453194,
          18.43941667
         ],
         "line": {
          "color": "red",
          "width": 1
         },
         "locationmode": "USA-states",
         "lon": [
          -77.45580972,
          -66.00183333
         ],
         "mode": "lines",
         "opacity": 0.061269146608315096,
         "type": "scattergeo"
        },
        {
         "lat": [
          40.63975111,
          18.43941667
         ],
         "line": {
          "color": "red",
          "width": 1
         },
         "locationmode": "USA-states",
         "lon": [
          -73.77892556,
          -66.00183333
         ],
         "mode": "lines",
         "opacity": 0.1838074398249453,
         "type": "scattergeo"
        },
        {
         "lat": [
          33.94253611,
          18.43941667
         ],
         "line": {
          "color": "red",
          "width": 1
         },
         "locationmode": "USA-states",
         "lon": [
          -118.4080744,
          -66.00183333
         ],
         "mode": "lines",
         "opacity": 0.0175054704595186,
         "type": "scattergeo"
        },
        {
         "lat": [
          32.89595056,
          38.69542167
         ],
         "line": {
          "color": "red",
          "width": 1
         },
         "locationmode": "USA-states",
         "lon": [
          -97.0372,
          -121.5907669
         ],
         "mode": "lines",
         "opacity": 0.24507658643326038,
         "type": "scattergeo"
        },
        {
         "lat": [
          32.89595056,
          33.67565861
         ],
         "line": {
          "color": "red",
          "width": 1
         },
         "locationmode": "USA-states",
         "lon": [
          -97.0372,
          -117.8682225
         ],
         "mode": "lines",
         "opacity": 0.6323851203501094,
         "type": "scattergeo"
        },
        {
         "lat": [
          41.979595,
          33.67565861
         ],
         "line": {
          "color": "red",
          "width": 1
         },
         "locationmode": "USA-states",
         "lon": [
          -87.90446417,
          -117.8682225
         ],
         "mode": "lines",
         "opacity": 0.16630196936542668,
         "type": "scattergeo"
        },
        {
         "lat": [
          38.85208333,
          38.74768694
         ],
         "line": {
          "color": "red",
          "width": 1
         },
         "locationmode": "USA-states",
         "lon": [
          -77.03772222,
          -90.35998972
         ],
         "mode": "lines",
         "opacity": 0.2188183807439825,
         "type": "scattergeo"
        },
        {
         "lat": [
          25.79325,
          38.74768694
         ],
         "line": {
          "color": "red",
          "width": 1
         },
         "locationmode": "USA-states",
         "lon": [
          -80.29055556,
          -90.35998972
         ],
         "mode": "lines",
         "opacity": 0.1838074398249453,
         "type": "scattergeo"
        },
        {
         "lat": [
          25.79325,
          18.33730556
         ],
         "line": {
          "color": "red",
          "width": 1
         },
         "locationmode": "USA-states",
         "lon": [
          -80.29055556,
          -64.97336111
         ],
         "mode": "lines",
         "opacity": 0.12253829321663019,
         "type": "scattergeo"
        },
        {
         "lat": [
          25.79325,
          17.70188889
         ],
         "line": {
          "color": "red",
          "width": 1
         },
         "locationmode": "USA-states",
         "lon": [
          -80.29055556,
          -64.79855556
         ],
         "mode": "lines",
         "opacity": 0.06783369803063458,
         "type": "scattergeo"
        },
        {
         "lat": [
          32.89595056,
          27.97547222
         ],
         "line": {
          "color": "red",
          "width": 1
         },
         "locationmode": "USA-states",
         "lon": [
          -97.0372,
          -82.53325
         ],
         "mode": "lines",
         "opacity": 0.4288840262582057,
         "type": "scattergeo"
        },
        {
         "lat": [
          25.79325,
          27.97547222
         ],
         "line": {
          "color": "red",
          "width": 1
         },
         "locationmode": "USA-states",
         "lon": [
          -80.29055556,
          -82.53325
         ],
         "mode": "lines",
         "opacity": 0.32603938730853393,
         "type": "scattergeo"
        },
        {
         "lat": [
          41.979595,
          27.97547222
         ],
         "line": {
          "color": "red",
          "width": 1
         },
         "locationmode": "USA-states",
         "lon": [
          -87.90446417,
          -82.53325
         ],
         "mode": "lines",
         "opacity": 0.16411378555798686,
         "type": "scattergeo"
        },
        {
         "lat": [
          18.43941667,
          27.97547222
         ],
         "line": {
          "color": "red",
          "width": 1
         },
         "locationmode": "USA-states",
         "lon": [
          -66.00183333,
          -82.53325
         ],
         "mode": "lines",
         "opacity": 0.061269146608315096,
         "type": "scattergeo"
        },
        {
         "lat": [
          32.89595056,
          36.19837222
         ],
         "line": {
          "color": "red",
          "width": 1
         },
         "locationmode": "USA-states",
         "lon": [
          -97.0372,
          -95.88824167
         ],
         "mode": "lines",
         "opacity": 0.42669584245076586,
         "type": "scattergeo"
        },
        {
         "lat": [
          32.89595056,
          32.11608333
         ],
         "line": {
          "color": "red",
          "width": 1
         },
         "locationmode": "USA-states",
         "lon": [
          -97.0372,
          -110.9410278
         ],
         "mode": "lines",
         "opacity": 0.45842450765864334,
         "type": "scattergeo"
        }
       ],
       "layout": {
        "geo": {
         "countrycolor": "rgb(204, 204, 204)",
         "landcolor": "rgb(243, 243, 243)",
         "projection": {
          "type": "azimuthal equal area"
         },
         "scope": "north america",
         "showland": true
        },
        "showlegend": false,
        "template": {
         "data": {
          "bar": [
           {
            "error_x": {
             "color": "#2a3f5f"
            },
            "error_y": {
             "color": "#2a3f5f"
            },
            "marker": {
             "line": {
              "color": "#E5ECF6",
              "width": 0.5
             },
             "pattern": {
              "fillmode": "overlay",
              "size": 10,
              "solidity": 0.2
             }
            },
            "type": "bar"
           }
          ],
          "barpolar": [
           {
            "marker": {
             "line": {
              "color": "#E5ECF6",
              "width": 0.5
             },
             "pattern": {
              "fillmode": "overlay",
              "size": 10,
              "solidity": 0.2
             }
            },
            "type": "barpolar"
           }
          ],
          "carpet": [
           {
            "aaxis": {
             "endlinecolor": "#2a3f5f",
             "gridcolor": "white",
             "linecolor": "white",
             "minorgridcolor": "white",
             "startlinecolor": "#2a3f5f"
            },
            "baxis": {
             "endlinecolor": "#2a3f5f",
             "gridcolor": "white",
             "linecolor": "white",
             "minorgridcolor": "white",
             "startlinecolor": "#2a3f5f"
            },
            "type": "carpet"
           }
          ],
          "choropleth": [
           {
            "colorbar": {
             "outlinewidth": 0,
             "ticks": ""
            },
            "type": "choropleth"
           }
          ],
          "contour": [
           {
            "colorbar": {
             "outlinewidth": 0,
             "ticks": ""
            },
            "colorscale": [
             [
              0,
              "#0d0887"
             ],
             [
              0.1111111111111111,
              "#46039f"
             ],
             [
              0.2222222222222222,
              "#7201a8"
             ],
             [
              0.3333333333333333,
              "#9c179e"
             ],
             [
              0.4444444444444444,
              "#bd3786"
             ],
             [
              0.5555555555555556,
              "#d8576b"
             ],
             [
              0.6666666666666666,
              "#ed7953"
             ],
             [
              0.7777777777777778,
              "#fb9f3a"
             ],
             [
              0.8888888888888888,
              "#fdca26"
             ],
             [
              1,
              "#f0f921"
             ]
            ],
            "type": "contour"
           }
          ],
          "contourcarpet": [
           {
            "colorbar": {
             "outlinewidth": 0,
             "ticks": ""
            },
            "type": "contourcarpet"
           }
          ],
          "heatmap": [
           {
            "colorbar": {
             "outlinewidth": 0,
             "ticks": ""
            },
            "colorscale": [
             [
              0,
              "#0d0887"
             ],
             [
              0.1111111111111111,
              "#46039f"
             ],
             [
              0.2222222222222222,
              "#7201a8"
             ],
             [
              0.3333333333333333,
              "#9c179e"
             ],
             [
              0.4444444444444444,
              "#bd3786"
             ],
             [
              0.5555555555555556,
              "#d8576b"
             ],
             [
              0.6666666666666666,
              "#ed7953"
             ],
             [
              0.7777777777777778,
              "#fb9f3a"
             ],
             [
              0.8888888888888888,
              "#fdca26"
             ],
             [
              1,
              "#f0f921"
             ]
            ],
            "type": "heatmap"
           }
          ],
          "heatmapgl": [
           {
            "colorbar": {
             "outlinewidth": 0,
             "ticks": ""
            },
            "colorscale": [
             [
              0,
              "#0d0887"
             ],
             [
              0.1111111111111111,
              "#46039f"
             ],
             [
              0.2222222222222222,
              "#7201a8"
             ],
             [
              0.3333333333333333,
              "#9c179e"
             ],
             [
              0.4444444444444444,
              "#bd3786"
             ],
             [
              0.5555555555555556,
              "#d8576b"
             ],
             [
              0.6666666666666666,
              "#ed7953"
             ],
             [
              0.7777777777777778,
              "#fb9f3a"
             ],
             [
              0.8888888888888888,
              "#fdca26"
             ],
             [
              1,
              "#f0f921"
             ]
            ],
            "type": "heatmapgl"
           }
          ],
          "histogram": [
           {
            "marker": {
             "pattern": {
              "fillmode": "overlay",
              "size": 10,
              "solidity": 0.2
             }
            },
            "type": "histogram"
           }
          ],
          "histogram2d": [
           {
            "colorbar": {
             "outlinewidth": 0,
             "ticks": ""
            },
            "colorscale": [
             [
              0,
              "#0d0887"
             ],
             [
              0.1111111111111111,
              "#46039f"
             ],
             [
              0.2222222222222222,
              "#7201a8"
             ],
             [
              0.3333333333333333,
              "#9c179e"
             ],
             [
              0.4444444444444444,
              "#bd3786"
             ],
             [
              0.5555555555555556,
              "#d8576b"
             ],
             [
              0.6666666666666666,
              "#ed7953"
             ],
             [
              0.7777777777777778,
              "#fb9f3a"
             ],
             [
              0.8888888888888888,
              "#fdca26"
             ],
             [
              1,
              "#f0f921"
             ]
            ],
            "type": "histogram2d"
           }
          ],
          "histogram2dcontour": [
           {
            "colorbar": {
             "outlinewidth": 0,
             "ticks": ""
            },
            "colorscale": [
             [
              0,
              "#0d0887"
             ],
             [
              0.1111111111111111,
              "#46039f"
             ],
             [
              0.2222222222222222,
              "#7201a8"
             ],
             [
              0.3333333333333333,
              "#9c179e"
             ],
             [
              0.4444444444444444,
              "#bd3786"
             ],
             [
              0.5555555555555556,
              "#d8576b"
             ],
             [
              0.6666666666666666,
              "#ed7953"
             ],
             [
              0.7777777777777778,
              "#fb9f3a"
             ],
             [
              0.8888888888888888,
              "#fdca26"
             ],
             [
              1,
              "#f0f921"
             ]
            ],
            "type": "histogram2dcontour"
           }
          ],
          "mesh3d": [
           {
            "colorbar": {
             "outlinewidth": 0,
             "ticks": ""
            },
            "type": "mesh3d"
           }
          ],
          "parcoords": [
           {
            "line": {
             "colorbar": {
              "outlinewidth": 0,
              "ticks": ""
             }
            },
            "type": "parcoords"
           }
          ],
          "pie": [
           {
            "automargin": true,
            "type": "pie"
           }
          ],
          "scatter": [
           {
            "marker": {
             "colorbar": {
              "outlinewidth": 0,
              "ticks": ""
             }
            },
            "type": "scatter"
           }
          ],
          "scatter3d": [
           {
            "line": {
             "colorbar": {
              "outlinewidth": 0,
              "ticks": ""
             }
            },
            "marker": {
             "colorbar": {
              "outlinewidth": 0,
              "ticks": ""
             }
            },
            "type": "scatter3d"
           }
          ],
          "scattercarpet": [
           {
            "marker": {
             "colorbar": {
              "outlinewidth": 0,
              "ticks": ""
             }
            },
            "type": "scattercarpet"
           }
          ],
          "scattergeo": [
           {
            "marker": {
             "colorbar": {
              "outlinewidth": 0,
              "ticks": ""
             }
            },
            "type": "scattergeo"
           }
          ],
          "scattergl": [
           {
            "marker": {
             "colorbar": {
              "outlinewidth": 0,
              "ticks": ""
             }
            },
            "type": "scattergl"
           }
          ],
          "scattermapbox": [
           {
            "marker": {
             "colorbar": {
              "outlinewidth": 0,
              "ticks": ""
             }
            },
            "type": "scattermapbox"
           }
          ],
          "scatterpolar": [
           {
            "marker": {
             "colorbar": {
              "outlinewidth": 0,
              "ticks": ""
             }
            },
            "type": "scatterpolar"
           }
          ],
          "scatterpolargl": [
           {
            "marker": {
             "colorbar": {
              "outlinewidth": 0,
              "ticks": ""
             }
            },
            "type": "scatterpolargl"
           }
          ],
          "scatterternary": [
           {
            "marker": {
             "colorbar": {
              "outlinewidth": 0,
              "ticks": ""
             }
            },
            "type": "scatterternary"
           }
          ],
          "surface": [
           {
            "colorbar": {
             "outlinewidth": 0,
             "ticks": ""
            },
            "colorscale": [
             [
              0,
              "#0d0887"
             ],
             [
              0.1111111111111111,
              "#46039f"
             ],
             [
              0.2222222222222222,
              "#7201a8"
             ],
             [
              0.3333333333333333,
              "#9c179e"
             ],
             [
              0.4444444444444444,
              "#bd3786"
             ],
             [
              0.5555555555555556,
              "#d8576b"
             ],
             [
              0.6666666666666666,
              "#ed7953"
             ],
             [
              0.7777777777777778,
              "#fb9f3a"
             ],
             [
              0.8888888888888888,
              "#fdca26"
             ],
             [
              1,
              "#f0f921"
             ]
            ],
            "type": "surface"
           }
          ],
          "table": [
           {
            "cells": {
             "fill": {
              "color": "#EBF0F8"
             },
             "line": {
              "color": "white"
             }
            },
            "header": {
             "fill": {
              "color": "#C8D4E3"
             },
             "line": {
              "color": "white"
             }
            },
            "type": "table"
           }
          ]
         },
         "layout": {
          "annotationdefaults": {
           "arrowcolor": "#2a3f5f",
           "arrowhead": 0,
           "arrowwidth": 1
          },
          "autotypenumbers": "strict",
          "coloraxis": {
           "colorbar": {
            "outlinewidth": 0,
            "ticks": ""
           }
          },
          "colorscale": {
           "diverging": [
            [
             0,
             "#8e0152"
            ],
            [
             0.1,
             "#c51b7d"
            ],
            [
             0.2,
             "#de77ae"
            ],
            [
             0.3,
             "#f1b6da"
            ],
            [
             0.4,
             "#fde0ef"
            ],
            [
             0.5,
             "#f7f7f7"
            ],
            [
             0.6,
             "#e6f5d0"
            ],
            [
             0.7,
             "#b8e186"
            ],
            [
             0.8,
             "#7fbc41"
            ],
            [
             0.9,
             "#4d9221"
            ],
            [
             1,
             "#276419"
            ]
           ],
           "sequential": [
            [
             0,
             "#0d0887"
            ],
            [
             0.1111111111111111,
             "#46039f"
            ],
            [
             0.2222222222222222,
             "#7201a8"
            ],
            [
             0.3333333333333333,
             "#9c179e"
            ],
            [
             0.4444444444444444,
             "#bd3786"
            ],
            [
             0.5555555555555556,
             "#d8576b"
            ],
            [
             0.6666666666666666,
             "#ed7953"
            ],
            [
             0.7777777777777778,
             "#fb9f3a"
            ],
            [
             0.8888888888888888,
             "#fdca26"
            ],
            [
             1,
             "#f0f921"
            ]
           ],
           "sequentialminus": [
            [
             0,
             "#0d0887"
            ],
            [
             0.1111111111111111,
             "#46039f"
            ],
            [
             0.2222222222222222,
             "#7201a8"
            ],
            [
             0.3333333333333333,
             "#9c179e"
            ],
            [
             0.4444444444444444,
             "#bd3786"
            ],
            [
             0.5555555555555556,
             "#d8576b"
            ],
            [
             0.6666666666666666,
             "#ed7953"
            ],
            [
             0.7777777777777778,
             "#fb9f3a"
            ],
            [
             0.8888888888888888,
             "#fdca26"
            ],
            [
             1,
             "#f0f921"
            ]
           ]
          },
          "colorway": [
           "#636efa",
           "#EF553B",
           "#00cc96",
           "#ab63fa",
           "#FFA15A",
           "#19d3f3",
           "#FF6692",
           "#B6E880",
           "#FF97FF",
           "#FECB52"
          ],
          "font": {
           "color": "#2a3f5f"
          },
          "geo": {
           "bgcolor": "white",
           "lakecolor": "white",
           "landcolor": "#E5ECF6",
           "showlakes": true,
           "showland": true,
           "subunitcolor": "white"
          },
          "hoverlabel": {
           "align": "left"
          },
          "hovermode": "closest",
          "mapbox": {
           "style": "light"
          },
          "paper_bgcolor": "white",
          "plot_bgcolor": "#E5ECF6",
          "polar": {
           "angularaxis": {
            "gridcolor": "white",
            "linecolor": "white",
            "ticks": ""
           },
           "bgcolor": "#E5ECF6",
           "radialaxis": {
            "gridcolor": "white",
            "linecolor": "white",
            "ticks": ""
           }
          },
          "scene": {
           "xaxis": {
            "backgroundcolor": "#E5ECF6",
            "gridcolor": "white",
            "gridwidth": 2,
            "linecolor": "white",
            "showbackground": true,
            "ticks": "",
            "zerolinecolor": "white"
           },
           "yaxis": {
            "backgroundcolor": "#E5ECF6",
            "gridcolor": "white",
            "gridwidth": 2,
            "linecolor": "white",
            "showbackground": true,
            "ticks": "",
            "zerolinecolor": "white"
           },
           "zaxis": {
            "backgroundcolor": "#E5ECF6",
            "gridcolor": "white",
            "gridwidth": 2,
            "linecolor": "white",
            "showbackground": true,
            "ticks": "",
            "zerolinecolor": "white"
           }
          },
          "shapedefaults": {
           "line": {
            "color": "#2a3f5f"
           }
          },
          "ternary": {
           "aaxis": {
            "gridcolor": "white",
            "linecolor": "white",
            "ticks": ""
           },
           "baxis": {
            "gridcolor": "white",
            "linecolor": "white",
            "ticks": ""
           },
           "bgcolor": "#E5ECF6",
           "caxis": {
            "gridcolor": "white",
            "linecolor": "white",
            "ticks": ""
           }
          },
          "title": {
           "x": 0.05
          },
          "xaxis": {
           "automargin": true,
           "gridcolor": "white",
           "linecolor": "white",
           "ticks": "",
           "title": {
            "standoff": 15
           },
           "zerolinecolor": "white",
           "zerolinewidth": 2
          },
          "yaxis": {
           "automargin": true,
           "gridcolor": "white",
           "linecolor": "white",
           "ticks": "",
           "title": {
            "standoff": 15
           },
           "zerolinecolor": "white",
           "zerolinewidth": 2
          }
         }
        },
        "title": {
         "text": "Feb. 2011 American Airline flight paths<br>(Hover for airport names)"
        }
       }
      },
      "text/html": [
       "<div>                            <div id=\"6f4e7191-622c-4067-aac1-852de8297eab\" class=\"plotly-graph-div\" style=\"height:525px; width:100%;\"></div>            <script type=\"text/javascript\">                require([\"plotly\"], function(Plotly) {                    window.PLOTLYENV=window.PLOTLYENV || {};                                    if (document.getElementById(\"6f4e7191-622c-4067-aac1-852de8297eab\")) {                    Plotly.newPlot(                        \"6f4e7191-622c-4067-aac1-852de8297eab\",                        [{\"hoverinfo\":\"text\",\"lat\":[41.979595,33.64044444,32.89595056,33.43416667,39.85840806,29.98047222,37.61900194,33.94253611,28.42888889,35.21401111,40.78838778,27.97547222,40.69249722,36.08036111,39.87195278,44.88054694,47.44898194,40.77724306,41.7859825,38.94453194,32.73355611,38.74768694,42.21205889,40.63975111,25.79325,42.3643475,38.69542167,39.17540167,33.67565861,29.99338889,37.36186194,38.85208333,45.58872222,26.53616667,26.68316194,35.87763889,29.64541861,29.53369444,26.07258333,39.29760528,37.72129083,40.49146583,35.04241667,42.94722222,41.41089417,30.49405556,32.11608333,39.71732917,39.49857611,35.39308833,41.72399917,36.19837222,39.04614278,39.99798528,38.17438889,34.056,34.72939611,32.84711389,41.30251861,36.89461111,39.90237583,43.11886611,36.28186944,36.12447667,35.04022222,32.31116667,31.80666667,37.50516667,41.93887417,31.94252778,30.53316083,35.81248722,38.80580556,30.47330556,43.11118694,33.56294306,42.93451639,33.82921556,27.39533333,27.77036083,34.6404475,33.93884,30.20527972,34.42621194,47.61985556,30.69141667,37.64995889,42.94052472,41.53493306,40.19349528,43.64616667,32.30064417,37.13189556,41.06695778,36.5869825,42.88081972,30.448674,32.65658333,39.22316,30.39652778,30.40728028,44.04532139,33.81772222,34.27061111,38.03697222,43.13985778,44.12326,32.12758333,33.66363889,41.88458833,34.89566722,36.09774694,40.7952425,41.44852639,35.43619444,40.91631194,40.47798556,26.22850611,30.48325,32.4466275,46.91934889,40.48118028,42.37422778,40.66424333,27.54373861,30.19453278,32.41132,37.24432611,42.96550333,36.47521417,31.06489778,32.89864639,44.48507333,44.25406722,32.51633333,41.70895361,43.56444444,33.67975,48.25937778,40.03925,37.32546833,39.64256778,43.60732417,45.77690139,39.1224125,34.20061917,38.03799139,38.53396333,43.51455556,36.77619444,39.84395194,26.17583333,40.50898361,47.949255,43.58135111,42.48180389,34.89924833,42.91130556,31.32133917,34.82916444,38.50886722,46.77411111,42.90835556,44.74144472,32.51086556,46.26468028,39.14096722,31.32737167,43.41713889,35.61677778,42.15614361,41.50409361,38.13863889,30.7825,44.77761917,35.65884306,40.97811528,31.25902778,40.85097222,40.97846583,44.52019417,37.06083333,35.23705806,41.33814944,33.45033444,44.34889806,35.07297222,33.369955,35.33659028,32.35413889,46.60681806,47.48200194,32.33313333,46.353639,37.95375861,35.03526833,46.37449806,37.70097028,42.74811944,44.47300361,48.31140472,28.10275,29.17991667,40.65236278,46.84209028,41.1557225,41.5942175,37.85830556,38.37315083,48.79275,37.62404861,44.25740806,36.385913,27.91076333,33.98879611,34.99147222,44.86525722,42.40295944,43.90882639,34.681499,45.8076625],\"locationmode\":\"USA-states\",\"lon\":[-87.90446417,-84.42694444,-97.0372,-112.0080556,-104.6670019,-95.33972222,-122.3748433,-118.4080744,-81.31602778,-80.94312583,-111.9777731,-82.53325,-74.16866056,-115.1523333,-75.24114083,-93.2169225,-122.3093131,-73.87260917,-87.75242444,-77.45580972,-117.1896567,-90.35998972,-83.34883583,-73.77892556,-80.29055556,-71.00517917,-121.5907669,-76.66819833,-117.8682225,-90.25802778,-121.9290089,-77.03772222,-122.5975,-81.75516667,-80.09559417,-78.78747222,-95.27888889,-98.46977778,-80.15275,-94.71390556,-122.2207167,-80.23287083,-89.97666667,-87.89658333,-81.84939667,-81.68786111,-110.9410278,-86.29438417,-119.7680647,-97.60073389,-71.42822111,-95.88824167,-84.6621725,-82.89188278,-85.736,-117.6011944,-92.22424556,-96.85177222,-95.89417306,-76.20122222,-84.219375,-77.67238389,-94.30681111,-86.67818222,-106.6091944,-90.07588889,-106.3778056,-77.31966667,-72.68322833,-102.2019139,-91.14963444,-83.99285583,-104.70025,-87.18744444,-76.10631056,-86.75354972,-71.43705583,-116.5062531,-82.55411111,-97.50121528,-86.77310944,-81.11953944,-91.987655,-119.8403733,-117.5338425,-88.24283333,-97.43304583,-78.73216667,-93.66068222,-76.76340361,-70.30875,-86.39397611,-76.4929875,-73.70757444,-121.8429478,-85.52276778,-84.550781,-114.6059722,-106.868845,-84.35033333,-89.07009278,-103.0573708,-118.1516111,-77.90255556,-84.60538889,-89.33751361,-123.2186856,-81.20213889,-101.8227778,-91.71087222,-82.21885833,-79.9372975,-73.10021194,-90.50753917,-82.54180556,-81.44246556,-88.91595278,-97.65439389,-86.5254,-93.82559833,-96.81498889,-107.2176597,-122.8734978,-89.69330556,-99.46154361,-97.66987194,-99.68189722,-93.38685806,-83.74345639,-82.40742056,-97.82779778,-80.04050583,-88.12959,-121.1499633,-84.93886111,-86.31847417,-116.2227778,-78.92833333,-101.2803339,-88.27805556,-79.97542833,-106.9176953,-110.7377389,-111.1530072,-108.5267347,-118.3584969,-87.53062667,-106.9331817,-112.0701667,-119.7181389,-89.67761861,-98.23861111,-122.2934019,-97.17611111,-96.74170028,-114.4877356,-120.4575825,-112.5958611,-85.44962889,-77.61213778,-107.8938333,-100.7467222,-106.4644661,-85.582235,-92.03768778,-119.1190292,-96.67083278,-92.54855611,-124.2460278,-106.0881389,-121.7332081,-74.10483833,-78.45286111,-83.27672222,-89.66677944,-117.8295122,-124.1086189,-81.46630556,-96.75925,-85.19514639,-109.0237961,-88.77375,-120.6423931,-75.7242675,-88.59136861,-105.5393614,-77.04294444,-81.96449611,-94.36744111,-95.40238611,-111.9827503,-111.3706853,-88.75120556,-87.395361,-107.90848,-85.20378778,-117.0153944,-113.098575,-73.80297861,-73.1503125,-114.2550694,-80.64580556,-81.05805556,-75.44040167,-92.19364861,-104.8118381,-109.0651928,-80.39947222,-81.59318972,-122.5375278,-118.8377722,-88.51947556,-92.548828,-82.68743944,-98.49189333,-78.88,-91.48507194,-90.70916722,-92.49798722,-90.348816,-108.5428611],\"marker\":{\"color\":\"rgb(255, 0, 0)\",\"line\":{\"color\":\"rgba(68, 68, 68, 0)\",\"width\":3},\"size\":2},\"mode\":\"markers\",\"text\":[\"Chicago O'Hare International\",\"William B Hartsfield-Atlanta Intl\",\"Dallas-Fort Worth International\",\"Phoenix Sky Harbor International\",\"Denver Intl\",\"George Bush Intercontinental\",\"San Francisco International\",\"Los Angeles International\",\"Orlando International\",\"Charlotte/Douglas International\",\"Salt Lake City Intl\",\"Tampa International \",\"Newark Intl\",\"McCarran International\",\"Philadelphia Intl\",\"Minneapolis-St Paul Intl\",\"Seattle-Tacoma Intl\",\"LaGuardia\",\"Chicago Midway\",\"Washington Dulles International\",\"San Diego International-Lindbergh \",\"Lambert-St Louis International\",\"Detroit Metropolitan-Wayne County\",\"John F Kennedy Intl\",\"Miami International\",\"Gen Edw L Logan Intl\",\"Sacramento International\",\"Baltimore-Washington International\",\"John Wayne /Orange Co\",\"New Orleans International \",\"San Jose International\",\"Ronald Reagan Washington National\",\"Portland Intl\",\"Southwest Florida International\",\"Palm Beach International\",\"Raleigh-Durham International\",\"William P Hobby\",\"San Antonio International\",\"Fort Lauderdale-Hollywood Int'l\",\"Kansas City International\",\"Metropolitan Oakland International\",\"Pittsburgh International\",\"Memphis International\",\"General Mitchell International\",\"Cleveland-Hopkins Intl\",\"Jacksonville International\",\"Tucson International\",\"Indianapolis International\",\"Reno/Tahoe International\",\"Will Rogers World\",\"Theodore F Green State\",\"Tulsa International\",\"Cincinnati Northern Kentucky Intl\",\"Port Columbus Intl\",\"Louisville International-Standiford \",\"Ontario International\",\"Adams \",\"Dallas Love \",\"Eppley Airfield\",\"Norfolk International\",\"James M Cox Dayton Intl\",\"Greater Rochester Int'l\",\"Northwest Arkansas Regional\",\"Nashville International\",\"Albuquerque International\",\"Jackson International\",\"El Paso International\",\"Richmond International\",\"Bradley International\",\"Midland International\",\"Baton Rouge Metropolitan, Ryan \",\"McGhee-Tyson\",\"City of Colorado Springs Muni\",\"Pensacola Regional\",\"Syracuse-Hancock Intl\",\"Birmingham International\",\"Manchester\",\"Palm Springs International\",\"Sarasota Bradenton International\",\"Corpus Christi International\",\"Huntsville International \",\"Columbia Metropolitan\",\"Lafayette Regional\",\"Santa Barbara Municipal\",\"Spokane Intl\",\"Mobile Regional\",\"Wichita Mid-Continent\",\"Buffalo Niagara Intl\",\"Des Moines International\",\"Harrisburg Intl\",\"Portland International Jetport\",\"Montgomery Regional Apt\",\"Newport News/Williamsburg International\",\"Westchester Cty\",\"Monterey Peninsula\",\"Kent County International\",\"Florida Beach\",\"Yuma MCAS-Yuma International\",\"Aspen-Pitkin Co/Sardy \",\"Tallahassee Regional\",\"Gulfport-Biloxi Regional\",\"Rapid City Regional\",\"Long Beach (Daugherty )\",\"Wilmington International\",\"Blue Grass \",\"Dane County Regional\",\"Mahlon Sweet \",\"Savannah International\",\"Lubbock International\",\"Eastern Iowa \",\"Greenville-Spartanburg\",\"Piedmont Triad International\",\"Long Island - MacArthur\",\"Quad City\",\"Asheville Regional\",\"Akron-Canton Regional\",\"Central Illinois Regional\",\"Valley International\",\"Eglin Air Force Base\",\"Shreveport Regional\",\"Hector International\",\"Yampa Valley\",\"Rogue Valley International\",\"Greater Peoria Regional\",\"Laredo International\",\"Austin-Bergstrom International\",\"Abilene Regional\",\"Springfield-Branson Regional\",\"Bishop\",\"Tri-Cities Regional\",\"Robert Gray AAF\",\"Charleston AFB/International\",\"Austin Straubel International\",\"Roberts \",\"Columbus Metropolitan\",\"South Bend Regional\",\"Boise Air Terminal\",\"Myrtle Beach International\",\"Minot International\",\"University of Illinois-Willard\",\"Roanoke Regional/ Woodrum \",\"Eagle County Regional\",\"Jackson Hole\",\"Gallatin \",\"Walker \",\"Burbank-Glendale-Pasadena\",\"Evansville Regional\",\"Gunnison County\",\"Idaho Falls Regional\",\"Fresno Yosemite International\",\"Capital\",\"McAllen Miller International\",\"Redding Municipal\",\"Grand Forks International\",\"Joe Foss \",\"Joslin Field - Magic Valley\",\"Santa Maria Pub/Capt G Allan Hancock \",\"Pocatello Regional\",\"Dothan \",\"Albert J Ellis\",\"Montrose Regional\",\"Bismarck Municipal\",\"Natrona County Intl\",\"Cherry Capital\",\"Monroe Regional\",\"Tri-Cities\",\"Manhattan Regional\",\"Alexandria International\",\"North Bend Muni\",\"Santa Fe Municipal\",\"Klamath Falls International\",\"Stewart\",\"Charlottesville-Albermarle\",\"Valdosta Regional\",\"Central Wisconsin\",\"Inyokern\",\"Arcata\",\"Glynco Jetport\",\"Lincoln Municipal\",\"Fort Wayne International\",\"Yellowstone Regional\",\"Barkley Regional\",\"San Luis Obispo Co-McChesney \",\"Wilkes-Barre/Scranton Intl\",\"Golden Triangle Regional\",\"Gillette-Campbell County\",\"Craven County Regional\",\"Bush \",\"Fort Smith Regional\",\"Tyler Pounds \",\"Helena Regional\",\"Great Falls Intl\",\"Key \",\"Marquette County Airport\",\"Telluride Regional\",\"Lovell \",\"Lewiston-Nez Perce County\",\"Cedar City Muni\",\"Albany Cty\",\"Burlington International\",\"Glacier Park Intl\",\"Melbourne International \",\"Daytona Beach International\",\"Lehigh Valley International\",\"Duluth International\",\"Cheyenne\",\"Rock Springs-Sweetwater County\",\"Greenbrier Valley\",\"Yeager\",\"Bellingham Intl\",\"Mammoth Yosemite\",\"Outagamie County Regional\",\"Branson Airport\",\"St. Petersburg-Clearwater International\",\"Sheppard AFB/Wichita Falls Municipal\",\"Fayetteville Municipal\",\"Chippewa Valley Regional\",\"Dubuque Municipal\",\"Rochester International\",\"Tunica Municipal Airport\",\"Billings Logan Intl\"],\"type\":\"scattergeo\"},{\"lat\":[32.89595056,35.04022222],\"line\":{\"color\":\"red\",\"width\":1},\"locationmode\":\"USA-states\",\"lon\":[-97.0372,-106.6091944],\"mode\":\"lines\",\"opacity\":0.48577680525164113,\"type\":\"scattergeo\"},{\"lat\":[41.979595,30.19453278],\"line\":{\"color\":\"red\",\"width\":1},\"locationmode\":\"USA-states\",\"lon\":[-87.90446417,-97.66987194],\"mode\":\"lines\",\"opacity\":0.18161925601750548,\"type\":\"scattergeo\"},{\"lat\":[32.89595056,41.93887417],\"line\":{\"color\":\"red\",\"width\":1},\"locationmode\":\"USA-states\",\"lon\":[-97.0372,-72.68322833],\"mode\":\"lines\",\"opacity\":0.1772428884026258,\"type\":\"scattergeo\"},{\"lat\":[18.43941667,41.93887417],\"line\":{\"color\":\"red\",\"width\":1},\"locationmode\":\"USA-states\",\"lon\":[-66.00183333,-72.68322833],\"mode\":\"lines\",\"opacity\":0.061269146608315096,\"type\":\"scattergeo\"},{\"lat\":[32.89595056,33.56294306],\"line\":{\"color\":\"red\",\"width\":1},\"locationmode\":\"USA-states\",\"lon\":[-97.0372,-86.75354972],\"mode\":\"lines\",\"opacity\":0.1838074398249453,\"type\":\"scattergeo\"},{\"lat\":[25.79325,36.12447667],\"line\":{\"color\":\"red\",\"width\":1},\"locationmode\":\"USA-states\",\"lon\":[-80.29055556,-86.67818222],\"mode\":\"lines\",\"opacity\":0.061269146608315096,\"type\":\"scattergeo\"},{\"lat\":[32.89595056,42.3643475],\"line\":{\"color\":\"red\",\"width\":1},\"locationmode\":\"USA-states\",\"lon\":[-97.0372,-71.00517917],\"mode\":\"lines\",\"opacity\":0.4617067833698031,\"type\":\"scattergeo\"},{\"lat\":[25.79325,42.3643475],\"line\":{\"color\":\"red\",\"width\":1},\"locationmode\":\"USA-states\",\"lon\":[-80.29055556,-71.00517917],\"mode\":\"lines\",\"opacity\":0.4288840262582057,\"type\":\"scattergeo\"},{\"lat\":[41.979595,42.3643475],\"line\":{\"color\":\"red\",\"width\":1},\"locationmode\":\"USA-states\",\"lon\":[-87.90446417,-71.00517917],\"mode\":\"lines\",\"opacity\":0.47045951859956237,\"type\":\"scattergeo\"},{\"lat\":[18.43941667,42.3643475],\"line\":{\"color\":\"red\",\"width\":1},\"locationmode\":\"USA-states\",\"lon\":[-66.00183333,-71.00517917],\"mode\":\"lines\",\"opacity\":0.061269146608315096,\"type\":\"scattergeo\"},{\"lat\":[18.33730556,42.3643475],\"line\":{\"color\":\"red\",\"width\":1},\"locationmode\":\"USA-states\",\"lon\":[-64.97336111,-71.00517917],\"mode\":\"lines\",\"opacity\":0.04814004376367615,\"type\":\"scattergeo\"},{\"lat\":[25.79325,39.17540167],\"line\":{\"color\":\"red\",\"width\":1},\"locationmode\":\"USA-states\",\"lon\":[-80.29055556,-76.66819833],\"mode\":\"lines\",\"opacity\":0.12253829321663019,\"type\":\"scattergeo\"},{\"lat\":[18.43941667,39.17540167],\"line\":{\"color\":\"red\",\"width\":1},\"locationmode\":\"USA-states\",\"lon\":[-66.00183333,-76.66819833],\"mode\":\"lines\",\"opacity\":0.061269146608315096,\"type\":\"scattergeo\"},{\"lat\":[32.89595056,35.21401111],\"line\":{\"color\":\"red\",\"width\":1},\"locationmode\":\"USA-states\",\"lon\":[-97.0372,-80.94312583],\"mode\":\"lines\",\"opacity\":0.3938730853391685,\"type\":\"scattergeo\"},{\"lat\":[32.89595056,38.80580556],\"line\":{\"color\":\"red\",\"width\":1},\"locationmode\":\"USA-states\",\"lon\":[-97.0372,-104.70025],\"mode\":\"lines\",\"opacity\":0.3041575492341357,\"type\":\"scattergeo\"},{\"lat\":[32.89595056,39.90237583],\"line\":{\"color\":\"red\",\"width\":1},\"locationmode\":\"USA-states\",\"lon\":[-97.0372,-84.219375],\"mode\":\"lines\",\"opacity\":0.1137855579868709,\"type\":\"scattergeo\"},{\"lat\":[32.89595056,38.85208333],\"line\":{\"color\":\"red\",\"width\":1},\"locationmode\":\"USA-states\",\"lon\":[-97.0372,-77.03772222],\"mode\":\"lines\",\"opacity\":0.6433260393873085,\"type\":\"scattergeo\"},{\"lat\":[25.79325,39.85840806],\"line\":{\"color\":\"red\",\"width\":1},\"locationmode\":\"USA-states\",\"lon\":[-80.29055556,-104.6670019],\"mode\":\"lines\",\"opacity\":0.12253829321663019,\"type\":\"scattergeo\"},{\"lat\":[41.979595,39.85840806],\"line\":{\"color\":\"red\",\"width\":1},\"locationmode\":\"USA-states\",\"lon\":[-87.90446417,-104.6670019],\"mode\":\"lines\",\"opacity\":0.12253829321663019,\"type\":\"scattergeo\"},{\"lat\":[33.64044444,32.89595056],\"line\":{\"color\":\"red\",\"width\":1},\"locationmode\":\"USA-states\",\"lon\":[-84.42694444,-97.0372],\"mode\":\"lines\",\"opacity\":0.6345733041575492,\"type\":\"scattergeo\"},{\"lat\":[30.19453278,32.89595056],\"line\":{\"color\":\"red\",\"width\":1},\"locationmode\":\"USA-states\",\"lon\":[-97.66987194,-97.0372],\"mode\":\"lines\",\"opacity\":0.8971553610503282,\"type\":\"scattergeo\"},{\"lat\":[36.12447667,32.89595056],\"line\":{\"color\":\"red\",\"width\":1},\"locationmode\":\"USA-states\",\"lon\":[-86.67818222,-97.0372],\"mode\":\"lines\",\"opacity\":0.47702407002188185,\"type\":\"scattergeo\"},{\"lat\":[34.20061917,32.89595056],\"line\":{\"color\":\"red\",\"width\":1},\"locationmode\":\"USA-states\",\"lon\":[-118.3584969,-97.0372],\"mode\":\"lines\",\"opacity\":0.2275711159737418,\"type\":\"scattergeo\"},{\"lat\":[39.17540167,32.89595056],\"line\":{\"color\":\"red\",\"width\":1},\"locationmode\":\"USA-states\",\"lon\":[-76.66819833,-97.0372],\"mode\":\"lines\",\"opacity\":0.35667396061269147,\"type\":\"scattergeo\"},{\"lat\":[39.99798528,32.89595056],\"line\":{\"color\":\"red\",\"width\":1},\"locationmode\":\"USA-states\",\"lon\":[-82.89188278,-97.0372],\"mode\":\"lines\",\"opacity\":0.1137855579868709,\"type\":\"scattergeo\"},{\"lat\":[39.85840806,32.89595056],\"line\":{\"color\":\"red\",\"width\":1},\"locationmode\":\"USA-states\",\"lon\":[-104.6670019,-97.0372],\"mode\":\"lines\",\"opacity\":0.6105032822757112,\"type\":\"scattergeo\"},{\"lat\":[42.21205889,32.89595056],\"line\":{\"color\":\"red\",\"width\":1},\"locationmode\":\"USA-states\",\"lon\":[-83.34883583,-97.0372],\"mode\":\"lines\",\"opacity\":0.2844638949671772,\"type\":\"scattergeo\"},{\"lat\":[39.64256778,32.89595056],\"line\":{\"color\":\"red\",\"width\":1},\"locationmode\":\"USA-states\",\"lon\":[-106.9176953,-97.0372],\"mode\":\"lines\",\"opacity\":0.1487964989059081,\"type\":\"scattergeo\"},{\"lat\":[40.69249722,32.89595056],\"line\":{\"color\":\"red\",\"width\":1},\"locationmode\":\"USA-states\",\"lon\":[-74.16866056,-97.0372],\"mode\":\"lines\",\"opacity\":0.33916849015317285,\"type\":\"scattergeo\"},{\"lat\":[36.77619444,32.89595056],\"line\":{\"color\":\"red\",\"width\":1},\"locationmode\":\"USA-states\",\"lon\":[-119.7181389,-97.0372],\"mode\":\"lines\",\"opacity\":0.12253829321663019,\"type\":\"scattergeo\"},{\"lat\":[26.07258333,32.89595056],\"line\":{\"color\":\"red\",\"width\":1},\"locationmode\":\"USA-states\",\"lon\":[-80.15275,-97.0372],\"mode\":\"lines\",\"opacity\":0.3676148796498906,\"type\":\"scattergeo\"},{\"lat\":[34.6404475,32.89595056],\"line\":{\"color\":\"red\",\"width\":1},\"locationmode\":\"USA-states\",\"lon\":[-86.77310944,-97.0372],\"mode\":\"lines\",\"opacity\":0.17286652078774617,\"type\":\"scattergeo\"},{\"lat\":[29.98047222,32.89595056],\"line\":{\"color\":\"red\",\"width\":1},\"locationmode\":\"USA-states\",\"lon\":[-95.33972222,-97.0372],\"mode\":\"lines\",\"opacity\":0.3544857768052516,\"type\":\"scattergeo\"},{\"lat\":[33.94253611,32.89595056],\"line\":{\"color\":\"red\",\"width\":1},\"locationmode\":\"USA-states\",\"lon\":[-118.4080744,-97.0372],\"mode\":\"lines\",\"opacity\":1.0,\"type\":\"scattergeo\"},{\"lat\":[39.29760528,32.89595056],\"line\":{\"color\":\"red\",\"width\":1},\"locationmode\":\"USA-states\",\"lon\":[-94.71390556,-97.0372],\"mode\":\"lines\",\"opacity\":0.47702407002188185,\"type\":\"scattergeo\"},{\"lat\":[28.42888889,32.89595056],\"line\":{\"color\":\"red\",\"width\":1},\"locationmode\":\"USA-states\",\"lon\":[-81.31602778,-97.0372],\"mode\":\"lines\",\"opacity\":0.5470459518599562,\"type\":\"scattergeo\"},{\"lat\":[35.04241667,32.89595056],\"line\":{\"color\":\"red\",\"width\":1},\"locationmode\":\"USA-states\",\"lon\":[-89.97666667,-97.0372],\"mode\":\"lines\",\"opacity\":0.23413566739606126,\"type\":\"scattergeo\"},{\"lat\":[26.17583333,32.89595056],\"line\":{\"color\":\"red\",\"width\":1},\"locationmode\":\"USA-states\",\"lon\":[-98.23861111,-97.0372],\"mode\":\"lines\",\"opacity\":0.23413566739606126,\"type\":\"scattergeo\"},{\"lat\":[25.79325,32.89595056],\"line\":{\"color\":\"red\",\"width\":1},\"locationmode\":\"USA-states\",\"lon\":[-80.29055556,-97.0372],\"mode\":\"lines\",\"opacity\":0.612691466083151,\"type\":\"scattergeo\"},{\"lat\":[44.88054694,32.89595056],\"line\":{\"color\":\"red\",\"width\":1},\"locationmode\":\"USA-states\",\"lon\":[-93.2169225,-97.0372],\"mode\":\"lines\",\"opacity\":0.35667396061269147,\"type\":\"scattergeo\"},{\"lat\":[38.50886722,32.89595056],\"line\":{\"color\":\"red\",\"width\":1},\"locationmode\":\"USA-states\",\"lon\":[-107.8938333,-97.0372],\"mode\":\"lines\",\"opacity\":0.0175054704595186,\"type\":\"scattergeo\"},{\"lat\":[20.89864972,32.89595056],\"line\":{\"color\":\"red\",\"width\":1},\"locationmode\":\"USA-states\",\"lon\":[-156.4304578,-97.0372],\"mode\":\"lines\",\"opacity\":0.061269146608315096,\"type\":\"scattergeo\"},{\"lat\":[35.39308833,32.89595056],\"line\":{\"color\":\"red\",\"width\":1},\"locationmode\":\"USA-states\",\"lon\":[-97.60073389,-97.0372],\"mode\":\"lines\",\"opacity\":0.42669584245076586,\"type\":\"scattergeo\"},{\"lat\":[41.30251861,32.89595056],\"line\":{\"color\":\"red\",\"width\":1},\"locationmode\":\"USA-states\",\"lon\":[-95.89417306,-97.0372],\"mode\":\"lines\",\"opacity\":0.2975929978118162,\"type\":\"scattergeo\"},{\"lat\":[41.979595,32.89595056],\"line\":{\"color\":\"red\",\"width\":1},\"locationmode\":\"USA-states\",\"lon\":[-87.90446417,-97.0372],\"mode\":\"lines\",\"opacity\":0.9026258205689278,\"type\":\"scattergeo\"},{\"lat\":[39.87195278,32.89595056],\"line\":{\"color\":\"red\",\"width\":1},\"locationmode\":\"USA-states\",\"lon\":[-75.24114083,-97.0372],\"mode\":\"lines\",\"opacity\":0.3522975929978118,\"type\":\"scattergeo\"},{\"lat\":[33.43416667,32.89595056],\"line\":{\"color\":\"red\",\"width\":1},\"locationmode\":\"USA-states\",\"lon\":[-112.0080556,-97.0372],\"mode\":\"lines\",\"opacity\":0.6017505470459519,\"type\":\"scattergeo\"},{\"lat\":[37.50516667,32.89595056],\"line\":{\"color\":\"red\",\"width\":1},\"locationmode\":\"USA-states\",\"lon\":[-77.31966667,-97.0372],\"mode\":\"lines\",\"opacity\":0.18161925601750548,\"type\":\"scattergeo\"},{\"lat\":[39.49857611,32.89595056],\"line\":{\"color\":\"red\",\"width\":1},\"locationmode\":\"USA-states\",\"lon\":[-119.7680647,-97.0372],\"mode\":\"lines\",\"opacity\":0.16411378555798686,\"type\":\"scattergeo\"},{\"lat\":[32.73355611,32.89595056],\"line\":{\"color\":\"red\",\"width\":1},\"locationmode\":\"USA-states\",\"lon\":[-117.1896567,-97.0372],\"mode\":\"lines\",\"opacity\":0.5470459518599562,\"type\":\"scattergeo\"},{\"lat\":[29.53369444,32.89595056],\"line\":{\"color\":\"red\",\"width\":1},\"locationmode\":\"USA-states\",\"lon\":[-98.46977778,-97.0372],\"mode\":\"lines\",\"opacity\":0.9037199124726477,\"type\":\"scattergeo\"},{\"lat\":[38.17438889,32.89595056],\"line\":{\"color\":\"red\",\"width\":1},\"locationmode\":\"USA-states\",\"lon\":[-85.736,-97.0372],\"mode\":\"lines\",\"opacity\":0.17943107221006566,\"type\":\"scattergeo\"},{\"lat\":[37.61900194,32.89595056],\"line\":{\"color\":\"red\",\"width\":1},\"locationmode\":\"USA-states\",\"lon\":[-122.3748433,-97.0372],\"mode\":\"lines\",\"opacity\":0.5754923413566739,\"type\":\"scattergeo\"},{\"lat\":[37.36186194,32.89595056],\"line\":{\"color\":\"red\",\"width\":1},\"locationmode\":\"USA-states\",\"lon\":[-121.9290089,-97.0372],\"mode\":\"lines\",\"opacity\":0.3479212253829322,\"type\":\"scattergeo\"},{\"lat\":[40.78838778,32.89595056],\"line\":{\"color\":\"red\",\"width\":1},\"locationmode\":\"USA-states\",\"lon\":[-111.9777731,-97.0372],\"mode\":\"lines\",\"opacity\":0.3063457330415755,\"type\":\"scattergeo\"},{\"lat\":[38.74768694,32.89595056],\"line\":{\"color\":\"red\",\"width\":1},\"locationmode\":\"USA-states\",\"lon\":[-90.35998972,-97.0372],\"mode\":\"lines\",\"opacity\":0.5317286652078774,\"type\":\"scattergeo\"},{\"lat\":[36.28186944,32.89595056],\"line\":{\"color\":\"red\",\"width\":1},\"locationmode\":\"USA-states\",\"lon\":[-94.30681111,-97.0372],\"mode\":\"lines\",\"opacity\":0.05470459518599562,\"type\":\"scattergeo\"},{\"lat\":[25.79325,42.21205889],\"line\":{\"color\":\"red\",\"width\":1},\"locationmode\":\"USA-states\",\"lon\":[-80.29055556,-83.34883583],\"mode\":\"lines\",\"opacity\":0.12253829321663019,\"type\":\"scattergeo\"},{\"lat\":[40.77724306,39.64256778],\"line\":{\"color\":\"red\",\"width\":1},\"locationmode\":\"USA-states\",\"lon\":[-73.87260917,-106.9176953],\"mode\":\"lines\",\"opacity\":0.0087527352297593,\"type\":\"scattergeo\"},{\"lat\":[41.979595,39.64256778],\"line\":{\"color\":\"red\",\"width\":1},\"locationmode\":\"USA-states\",\"lon\":[-87.90446417,-106.9176953],\"mode\":\"lines\",\"opacity\":0.0700218818380744,\"type\":\"scattergeo\"},{\"lat\":[32.89595056,31.80666667],\"line\":{\"color\":\"red\",\"width\":1},\"locationmode\":\"USA-states\",\"lon\":[-97.0372,-106.3778056],\"mode\":\"lines\",\"opacity\":0.474835886214442,\"type\":\"scattergeo\"},{\"lat\":[33.94253611,40.69249722],\"line\":{\"color\":\"red\",\"width\":1},\"locationmode\":\"USA-states\",\"lon\":[-118.4080744,-74.16866056],\"mode\":\"lines\",\"opacity\":0.05908096280087528,\"type\":\"scattergeo\"},{\"lat\":[25.79325,40.69249722],\"line\":{\"color\":\"red\",\"width\":1},\"locationmode\":\"USA-states\",\"lon\":[-80.29055556,-74.16866056],\"mode\":\"lines\",\"opacity\":0.1838074398249453,\"type\":\"scattergeo\"},{\"lat\":[40.63975111,26.07258333],\"line\":{\"color\":\"red\",\"width\":1},\"locationmode\":\"USA-states\",\"lon\":[-73.77892556,-80.15275],\"mode\":\"lines\",\"opacity\":0.12253829321663019,\"type\":\"scattergeo\"},{\"lat\":[32.89595056,40.48118028],\"line\":{\"color\":\"red\",\"width\":1},\"locationmode\":\"USA-states\",\"lon\":[-97.0372,-107.2176597],\"mode\":\"lines\",\"opacity\":0.0700218818380744,\"type\":\"scattergeo\"},{\"lat\":[32.89595056,21.31869111],\"line\":{\"color\":\"red\",\"width\":1},\"locationmode\":\"USA-states\",\"lon\":[-97.0372,-157.9224072],\"mode\":\"lines\",\"opacity\":0.12253829321663019,\"type\":\"scattergeo\"},{\"lat\":[33.94253611,21.31869111],\"line\":{\"color\":\"red\",\"width\":1},\"locationmode\":\"USA-states\",\"lon\":[-118.4080744,-157.9224072],\"mode\":\"lines\",\"opacity\":0.2363238512035011,\"type\":\"scattergeo\"},{\"lat\":[32.89595056,38.94453194],\"line\":{\"color\":\"red\",\"width\":1},\"locationmode\":\"USA-states\",\"lon\":[-97.0372,-77.45580972],\"mode\":\"lines\",\"opacity\":0.33698030634573306,\"type\":\"scattergeo\"},{\"lat\":[33.94253611,38.94453194],\"line\":{\"color\":\"red\",\"width\":1},\"locationmode\":\"USA-states\",\"lon\":[-118.4080744,-77.45580972],\"mode\":\"lines\",\"opacity\":0.18161925601750548,\"type\":\"scattergeo\"},{\"lat\":[25.79325,38.94453194],\"line\":{\"color\":\"red\",\"width\":1},\"locationmode\":\"USA-states\",\"lon\":[-80.29055556,-77.45580972],\"mode\":\"lines\",\"opacity\":0.12253829321663019,\"type\":\"scattergeo\"},{\"lat\":[25.79325,29.98047222],\"line\":{\"color\":\"red\",\"width\":1},\"locationmode\":\"USA-states\",\"lon\":[-80.29055556,-95.33972222],\"mode\":\"lines\",\"opacity\":0.1838074398249453,\"type\":\"scattergeo\"},{\"lat\":[32.89595056,37.64995889],\"line\":{\"color\":\"red\",\"width\":1},\"locationmode\":\"USA-states\",\"lon\":[-97.0372,-97.43304583],\"mode\":\"lines\",\"opacity\":0.23413566739606126,\"type\":\"scattergeo\"},{\"lat\":[32.89595056,39.71732917],\"line\":{\"color\":\"red\",\"width\":1},\"locationmode\":\"USA-states\",\"lon\":[-97.0372,-86.29438417],\"mode\":\"lines\",\"opacity\":0.3041575492341357,\"type\":\"scattergeo\"},{\"lat\":[32.89595056,43.60732417],\"line\":{\"color\":\"red\",\"width\":1},\"locationmode\":\"USA-states\",\"lon\":[-97.0372,-110.7377389],\"mode\":\"lines\",\"opacity\":0.0262582056892779,\"type\":\"scattergeo\"},{\"lat\":[32.89595056,30.49405556],\"line\":{\"color\":\"red\",\"width\":1},\"locationmode\":\"USA-states\",\"lon\":[-97.0372,-81.68786111],\"mode\":\"lines\",\"opacity\":0.2363238512035011,\"type\":\"scattergeo\"},{\"lat\":[30.19453278,40.63975111],\"line\":{\"color\":\"red\",\"width\":1},\"locationmode\":\"USA-states\",\"lon\":[-97.66987194,-73.77892556],\"mode\":\"lines\",\"opacity\":0.061269146608315096,\"type\":\"scattergeo\"},{\"lat\":[32.89595056,40.63975111],\"line\":{\"color\":\"red\",\"width\":1},\"locationmode\":\"USA-states\",\"lon\":[-97.0372,-73.77892556],\"mode\":\"lines\",\"opacity\":0.061269146608315096,\"type\":\"scattergeo\"},{\"lat\":[39.64256778,40.63975111],\"line\":{\"color\":\"red\",\"width\":1},\"locationmode\":\"USA-states\",\"lon\":[-106.9176953,-73.77892556],\"mode\":\"lines\",\"opacity\":0.061269146608315096,\"type\":\"scattergeo\"},{\"lat\":[28.42888889,40.63975111],\"line\":{\"color\":\"red\",\"width\":1},\"locationmode\":\"USA-states\",\"lon\":[-81.31602778,-73.77892556],\"mode\":\"lines\",\"opacity\":0.24507658643326038,\"type\":\"scattergeo\"},{\"lat\":[25.79325,40.63975111],\"line\":{\"color\":\"red\",\"width\":1},\"locationmode\":\"USA-states\",\"lon\":[-80.29055556,-73.77892556],\"mode\":\"lines\",\"opacity\":0.4288840262582057,\"type\":\"scattergeo\"},{\"lat\":[47.44898194,40.63975111],\"line\":{\"color\":\"red\",\"width\":1},\"locationmode\":\"USA-states\",\"lon\":[-122.3093131,-73.77892556],\"mode\":\"lines\",\"opacity\":0.061269146608315096,\"type\":\"scattergeo\"},{\"lat\":[37.61900194,40.63975111],\"line\":{\"color\":\"red\",\"width\":1},\"locationmode\":\"USA-states\",\"lon\":[-122.3748433,-73.77892556],\"mode\":\"lines\",\"opacity\":0.3041575492341357,\"type\":\"scattergeo\"},{\"lat\":[18.33730556,40.63975111],\"line\":{\"color\":\"red\",\"width\":1},\"locationmode\":\"USA-states\",\"lon\":[-64.97336111,-73.77892556],\"mode\":\"lines\",\"opacity\":0.061269146608315096,\"type\":\"scattergeo\"},{\"lat\":[27.97547222,40.63975111],\"line\":{\"color\":\"red\",\"width\":1},\"locationmode\":\"USA-states\",\"lon\":[-82.53325,-73.77892556],\"mode\":\"lines\",\"opacity\":0.061269146608315096,\"type\":\"scattergeo\"},{\"lat\":[32.89595056,36.08036111],\"line\":{\"color\":\"red\",\"width\":1},\"locationmode\":\"USA-states\",\"lon\":[-97.0372,-115.1523333],\"mode\":\"lines\",\"opacity\":0.6225382932166302,\"type\":\"scattergeo\"},{\"lat\":[40.63975111,36.08036111],\"line\":{\"color\":\"red\",\"width\":1},\"locationmode\":\"USA-states\",\"lon\":[-73.77892556,-115.1523333],\"mode\":\"lines\",\"opacity\":0.12253829321663019,\"type\":\"scattergeo\"},{\"lat\":[33.94253611,36.08036111],\"line\":{\"color\":\"red\",\"width\":1},\"locationmode\":\"USA-states\",\"lon\":[-118.4080744,-115.1523333],\"mode\":\"lines\",\"opacity\":0.24288840262582057,\"type\":\"scattergeo\"},{\"lat\":[41.979595,36.08036111],\"line\":{\"color\":\"red\",\"width\":1},\"locationmode\":\"USA-states\",\"lon\":[-87.90446417,-115.1523333],\"mode\":\"lines\",\"opacity\":0.3063457330415755,\"type\":\"scattergeo\"},{\"lat\":[30.19453278,33.94253611],\"line\":{\"color\":\"red\",\"width\":1},\"locationmode\":\"USA-states\",\"lon\":[-97.66987194,-118.4080744],\"mode\":\"lines\",\"opacity\":0.1772428884026258,\"type\":\"scattergeo\"},{\"lat\":[36.12447667,33.94253611],\"line\":{\"color\":\"red\",\"width\":1},\"locationmode\":\"USA-states\",\"lon\":[-86.67818222,-118.4080744],\"mode\":\"lines\",\"opacity\":0.061269146608315096,\"type\":\"scattergeo\"},{\"lat\":[42.3643475,33.94253611],\"line\":{\"color\":\"red\",\"width\":1},\"locationmode\":\"USA-states\",\"lon\":[-71.00517917,-118.4080744],\"mode\":\"lines\",\"opacity\":0.1838074398249453,\"type\":\"scattergeo\"},{\"lat\":[39.64256778,33.94253611],\"line\":{\"color\":\"red\",\"width\":1},\"locationmode\":\"USA-states\",\"lon\":[-106.9176953,-118.4080744],\"mode\":\"lines\",\"opacity\":0.061269146608315096,\"type\":\"scattergeo\"},{\"lat\":[40.63975111,33.94253611],\"line\":{\"color\":\"red\",\"width\":1},\"locationmode\":\"USA-states\",\"lon\":[-73.77892556,-118.4080744],\"mode\":\"lines\",\"opacity\":0.5995623632385121,\"type\":\"scattergeo\"},{\"lat\":[19.73876583,33.94253611],\"line\":{\"color\":\"red\",\"width\":1},\"locationmode\":\"USA-states\",\"lon\":[-156.0456314,-118.4080744],\"mode\":\"lines\",\"opacity\":0.061269146608315096,\"type\":\"scattergeo\"},{\"lat\":[20.89864972,33.94253611],\"line\":{\"color\":\"red\",\"width\":1},\"locationmode\":\"USA-states\",\"lon\":[-156.4304578,-118.4080744],\"mode\":\"lines\",\"opacity\":0.12253829321663019,\"type\":\"scattergeo\"},{\"lat\":[41.979595,33.94253611],\"line\":{\"color\":\"red\",\"width\":1},\"locationmode\":\"USA-states\",\"lon\":[-87.90446417,-118.4080744],\"mode\":\"lines\",\"opacity\":0.5426695842450766,\"type\":\"scattergeo\"},{\"lat\":[38.74768694,33.94253611],\"line\":{\"color\":\"red\",\"width\":1},\"locationmode\":\"USA-states\",\"lon\":[-90.35998972,-118.4080744],\"mode\":\"lines\",\"opacity\":0.18161925601750548,\"type\":\"scattergeo\"},{\"lat\":[36.12447667,40.77724306],\"line\":{\"color\":\"red\",\"width\":1},\"locationmode\":\"USA-states\",\"lon\":[-86.67818222,-73.87260917],\"mode\":\"lines\",\"opacity\":0.11159737417943107,\"type\":\"scattergeo\"},{\"lat\":[32.89595056,40.77724306],\"line\":{\"color\":\"red\",\"width\":1},\"locationmode\":\"USA-states\",\"lon\":[-97.0372,-73.87260917],\"mode\":\"lines\",\"opacity\":0.849015317286652,\"type\":\"scattergeo\"},{\"lat\":[38.74768694,40.77724306],\"line\":{\"color\":\"red\",\"width\":1},\"locationmode\":\"USA-states\",\"lon\":[-90.35998972,-73.87260917],\"mode\":\"lines\",\"opacity\":0.22538293216630198,\"type\":\"scattergeo\"},{\"lat\":[33.94253611,21.97598306],\"line\":{\"color\":\"red\",\"width\":1},\"locationmode\":\"USA-states\",\"lon\":[-118.4080744,-159.3389581],\"mode\":\"lines\",\"opacity\":0.061269146608315096,\"type\":\"scattergeo\"},{\"lat\":[33.94253611,28.42888889],\"line\":{\"color\":\"red\",\"width\":1},\"locationmode\":\"USA-states\",\"lon\":[-118.4080744,-81.31602778],\"mode\":\"lines\",\"opacity\":0.061269146608315096,\"type\":\"scattergeo\"},{\"lat\":[25.79325,28.42888889],\"line\":{\"color\":\"red\",\"width\":1},\"locationmode\":\"USA-states\",\"lon\":[-80.29055556,-81.31602778],\"mode\":\"lines\",\"opacity\":0.49015317286652077,\"type\":\"scattergeo\"},{\"lat\":[33.64044444,25.79325],\"line\":{\"color\":\"red\",\"width\":1},\"locationmode\":\"USA-states\",\"lon\":[-84.42694444,-80.29055556],\"mode\":\"lines\",\"opacity\":0.24507658643326038,\"type\":\"scattergeo\"},{\"lat\":[41.93887417,25.79325],\"line\":{\"color\":\"red\",\"width\":1},\"locationmode\":\"USA-states\",\"lon\":[-72.68322833,-80.29055556],\"mode\":\"lines\",\"opacity\":0.12253829321663019,\"type\":\"scattergeo\"},{\"lat\":[38.85208333,25.79325],\"line\":{\"color\":\"red\",\"width\":1},\"locationmode\":\"USA-states\",\"lon\":[-77.03772222,-80.29055556],\"mode\":\"lines\",\"opacity\":0.5514223194748359,\"type\":\"scattergeo\"},{\"lat\":[39.64256778,25.79325],\"line\":{\"color\":\"red\",\"width\":1},\"locationmode\":\"USA-states\",\"lon\":[-106.9176953,-80.29055556],\"mode\":\"lines\",\"opacity\":0.0525164113785558,\"type\":\"scattergeo\"},{\"lat\":[36.08036111,25.79325],\"line\":{\"color\":\"red\",\"width\":1},\"locationmode\":\"USA-states\",\"lon\":[-115.1523333,-80.29055556],\"mode\":\"lines\",\"opacity\":0.1838074398249453,\"type\":\"scattergeo\"},{\"lat\":[33.94253611,25.79325],\"line\":{\"color\":\"red\",\"width\":1},\"locationmode\":\"USA-states\",\"lon\":[-118.4080744,-80.29055556],\"mode\":\"lines\",\"opacity\":0.4288840262582057,\"type\":\"scattergeo\"},{\"lat\":[40.77724306,25.79325],\"line\":{\"color\":\"red\",\"width\":1},\"locationmode\":\"USA-states\",\"lon\":[-73.87260917,-80.29055556],\"mode\":\"lines\",\"opacity\":0.6728665207877462,\"type\":\"scattergeo\"},{\"lat\":[44.88054694,25.79325],\"line\":{\"color\":\"red\",\"width\":1},\"locationmode\":\"USA-states\",\"lon\":[-93.2169225,-80.29055556],\"mode\":\"lines\",\"opacity\":0.061269146608315096,\"type\":\"scattergeo\"},{\"lat\":[41.979595,25.79325],\"line\":{\"color\":\"red\",\"width\":1},\"locationmode\":\"USA-states\",\"lon\":[-87.90446417,-80.29055556],\"mode\":\"lines\",\"opacity\":0.5525164113785558,\"type\":\"scattergeo\"},{\"lat\":[39.87195278,25.79325],\"line\":{\"color\":\"red\",\"width\":1},\"locationmode\":\"USA-states\",\"lon\":[-75.24114083,-80.29055556],\"mode\":\"lines\",\"opacity\":0.1838074398249453,\"type\":\"scattergeo\"},{\"lat\":[33.43416667,25.79325],\"line\":{\"color\":\"red\",\"width\":1},\"locationmode\":\"USA-states\",\"lon\":[-112.0080556,-80.29055556],\"mode\":\"lines\",\"opacity\":0.061269146608315096,\"type\":\"scattergeo\"},{\"lat\":[37.61900194,25.79325],\"line\":{\"color\":\"red\",\"width\":1},\"locationmode\":\"USA-states\",\"lon\":[-122.3748433,-80.29055556],\"mode\":\"lines\",\"opacity\":0.1838074398249453,\"type\":\"scattergeo\"},{\"lat\":[18.43941667,25.79325],\"line\":{\"color\":\"red\",\"width\":1},\"locationmode\":\"USA-states\",\"lon\":[-66.00183333,-80.29055556],\"mode\":\"lines\",\"opacity\":0.49015317286652077,\"type\":\"scattergeo\"},{\"lat\":[36.19837222,25.79325],\"line\":{\"color\":\"red\",\"width\":1},\"locationmode\":\"USA-states\",\"lon\":[-95.88824167,-80.29055556],\"mode\":\"lines\",\"opacity\":0.00437636761487965,\"type\":\"scattergeo\"},{\"lat\":[41.979595,44.88054694],\"line\":{\"color\":\"red\",\"width\":1},\"locationmode\":\"USA-states\",\"lon\":[-87.90446417,-93.2169225],\"mode\":\"lines\",\"opacity\":0.175054704595186,\"type\":\"scattergeo\"},{\"lat\":[32.89595056,29.99338889],\"line\":{\"color\":\"red\",\"width\":1},\"locationmode\":\"USA-states\",\"lon\":[-97.0372,-90.25802778],\"mode\":\"lines\",\"opacity\":0.3676148796498906,\"type\":\"scattergeo\"},{\"lat\":[25.79325,29.99338889],\"line\":{\"color\":\"red\",\"width\":1},\"locationmode\":\"USA-states\",\"lon\":[-80.29055556,-90.25802778],\"mode\":\"lines\",\"opacity\":0.1838074398249453,\"type\":\"scattergeo\"},{\"lat\":[41.979595,29.99338889],\"line\":{\"color\":\"red\",\"width\":1},\"locationmode\":\"USA-states\",\"lon\":[-87.90446417,-90.25802778],\"mode\":\"lines\",\"opacity\":0.16301969365426697,\"type\":\"scattergeo\"},{\"lat\":[32.89595056,34.056],\"line\":{\"color\":\"red\",\"width\":1},\"locationmode\":\"USA-states\",\"lon\":[-97.0372,-117.6011944],\"mode\":\"lines\",\"opacity\":0.24288840262582057,\"type\":\"scattergeo\"},{\"lat\":[38.85208333,41.979595],\"line\":{\"color\":\"red\",\"width\":1},\"locationmode\":\"USA-states\",\"lon\":[-77.03772222,-87.90446417],\"mode\":\"lines\",\"opacity\":0.3544857768052516,\"type\":\"scattergeo\"},{\"lat\":[40.69249722,41.979595],\"line\":{\"color\":\"red\",\"width\":1},\"locationmode\":\"USA-states\",\"lon\":[-74.16866056,-87.90446417],\"mode\":\"lines\",\"opacity\":0.1838074398249453,\"type\":\"scattergeo\"},{\"lat\":[26.07258333,41.979595],\"line\":{\"color\":\"red\",\"width\":1},\"locationmode\":\"USA-states\",\"lon\":[-80.15275,-87.90446417],\"mode\":\"lines\",\"opacity\":0.1838074398249453,\"type\":\"scattergeo\"},{\"lat\":[40.48118028,41.979595],\"line\":{\"color\":\"red\",\"width\":1},\"locationmode\":\"USA-states\",\"lon\":[-107.2176597,-87.90446417],\"mode\":\"lines\",\"opacity\":0.0525164113785558,\"type\":\"scattergeo\"},{\"lat\":[21.31869111,41.979595],\"line\":{\"color\":\"red\",\"width\":1},\"locationmode\":\"USA-states\",\"lon\":[-157.9224072,-87.90446417],\"mode\":\"lines\",\"opacity\":0.05032822757111598,\"type\":\"scattergeo\"},{\"lat\":[43.60732417,41.979595],\"line\":{\"color\":\"red\",\"width\":1},\"locationmode\":\"USA-states\",\"lon\":[-110.7377389,-87.90446417],\"mode\":\"lines\",\"opacity\":0.061269146608315096,\"type\":\"scattergeo\"},{\"lat\":[40.63975111,41.979595],\"line\":{\"color\":\"red\",\"width\":1},\"locationmode\":\"USA-states\",\"lon\":[-73.77892556,-87.90446417],\"mode\":\"lines\",\"opacity\":0.061269146608315096,\"type\":\"scattergeo\"},{\"lat\":[40.77724306,41.979595],\"line\":{\"color\":\"red\",\"width\":1},\"locationmode\":\"USA-states\",\"lon\":[-73.87260917,-87.90446417],\"mode\":\"lines\",\"opacity\":0.9409190371991247,\"type\":\"scattergeo\"},{\"lat\":[39.29760528,41.979595],\"line\":{\"color\":\"red\",\"width\":1},\"locationmode\":\"USA-states\",\"lon\":[-94.71390556,-87.90446417],\"mode\":\"lines\",\"opacity\":0.23413566739606126,\"type\":\"scattergeo\"},{\"lat\":[28.42888889,41.979595],\"line\":{\"color\":\"red\",\"width\":1},\"locationmode\":\"USA-states\",\"lon\":[-81.31602778,-87.90446417],\"mode\":\"lines\",\"opacity\":0.24507658643326038,\"type\":\"scattergeo\"},{\"lat\":[35.87763889,41.979595],\"line\":{\"color\":\"red\",\"width\":1},\"locationmode\":\"USA-states\",\"lon\":[-78.78747222,-87.90446417],\"mode\":\"lines\",\"opacity\":0.17067833698030635,\"type\":\"scattergeo\"},{\"lat\":[39.49857611,41.979595],\"line\":{\"color\":\"red\",\"width\":1},\"locationmode\":\"USA-states\",\"lon\":[-119.7680647,-87.90446417],\"mode\":\"lines\",\"opacity\":0.061269146608315096,\"type\":\"scattergeo\"},{\"lat\":[32.73355611,41.979595],\"line\":{\"color\":\"red\",\"width\":1},\"locationmode\":\"USA-states\",\"lon\":[-117.1896567,-87.90446417],\"mode\":\"lines\",\"opacity\":0.24507658643326038,\"type\":\"scattergeo\"},{\"lat\":[29.53369444,41.979595],\"line\":{\"color\":\"red\",\"width\":1},\"locationmode\":\"USA-states\",\"lon\":[-98.46977778,-87.90446417],\"mode\":\"lines\",\"opacity\":0.12253829321663019,\"type\":\"scattergeo\"},{\"lat\":[37.36186194,41.979595],\"line\":{\"color\":\"red\",\"width\":1},\"locationmode\":\"USA-states\",\"lon\":[-121.9290089,-87.90446417],\"mode\":\"lines\",\"opacity\":0.12253829321663019,\"type\":\"scattergeo\"},{\"lat\":[18.43941667,41.979595],\"line\":{\"color\":\"red\",\"width\":1},\"locationmode\":\"USA-states\",\"lon\":[-66.00183333,-87.90446417],\"mode\":\"lines\",\"opacity\":0.12253829321663019,\"type\":\"scattergeo\"},{\"lat\":[38.74768694,41.979595],\"line\":{\"color\":\"red\",\"width\":1},\"locationmode\":\"USA-states\",\"lon\":[-90.35998972,-87.90446417],\"mode\":\"lines\",\"opacity\":0.5284463894967177,\"type\":\"scattergeo\"},{\"lat\":[36.19837222,41.979595],\"line\":{\"color\":\"red\",\"width\":1},\"locationmode\":\"USA-states\",\"lon\":[-95.88824167,-87.90446417],\"mode\":\"lines\",\"opacity\":0.061269146608315096,\"type\":\"scattergeo\"},{\"lat\":[32.11608333,41.979595],\"line\":{\"color\":\"red\",\"width\":1},\"locationmode\":\"USA-states\",\"lon\":[-110.9410278,-87.90446417],\"mode\":\"lines\",\"opacity\":0.12253829321663019,\"type\":\"scattergeo\"},{\"lat\":[32.89595056,36.89461111],\"line\":{\"color\":\"red\",\"width\":1},\"locationmode\":\"USA-states\",\"lon\":[-97.0372,-76.20122222],\"mode\":\"lines\",\"opacity\":0.12253829321663019,\"type\":\"scattergeo\"},{\"lat\":[32.89595056,26.68316194],\"line\":{\"color\":\"red\",\"width\":1},\"locationmode\":\"USA-states\",\"lon\":[-97.0372,-80.09559417],\"mode\":\"lines\",\"opacity\":0.12253829321663019,\"type\":\"scattergeo\"},{\"lat\":[41.979595,26.68316194],\"line\":{\"color\":\"red\",\"width\":1},\"locationmode\":\"USA-states\",\"lon\":[-87.90446417,-80.09559417],\"mode\":\"lines\",\"opacity\":0.16411378555798686,\"type\":\"scattergeo\"},{\"lat\":[32.89595056,45.58872222],\"line\":{\"color\":\"red\",\"width\":1},\"locationmode\":\"USA-states\",\"lon\":[-97.0372,-122.5975],\"mode\":\"lines\",\"opacity\":0.24507658643326038,\"type\":\"scattergeo\"},{\"lat\":[41.979595,39.87195278],\"line\":{\"color\":\"red\",\"width\":1},\"locationmode\":\"USA-states\",\"lon\":[-87.90446417,-75.24114083],\"mode\":\"lines\",\"opacity\":0.12035010940919037,\"type\":\"scattergeo\"},{\"lat\":[18.43941667,39.87195278],\"line\":{\"color\":\"red\",\"width\":1},\"locationmode\":\"USA-states\",\"lon\":[-66.00183333,-75.24114083],\"mode\":\"lines\",\"opacity\":0.061269146608315096,\"type\":\"scattergeo\"},{\"lat\":[41.979595,33.43416667],\"line\":{\"color\":\"red\",\"width\":1},\"locationmode\":\"USA-states\",\"lon\":[-87.90446417,-112.0080556],\"mode\":\"lines\",\"opacity\":0.3063457330415755,\"type\":\"scattergeo\"},{\"lat\":[32.89595056,40.49146583],\"line\":{\"color\":\"red\",\"width\":1},\"locationmode\":\"USA-states\",\"lon\":[-97.0372,-80.23287083],\"mode\":\"lines\",\"opacity\":0.18599562363238512,\"type\":\"scattergeo\"},{\"lat\":[32.89595056,33.82921556],\"line\":{\"color\":\"red\",\"width\":1},\"locationmode\":\"USA-states\",\"lon\":[-97.0372,-116.5062531],\"mode\":\"lines\",\"opacity\":0.1838074398249453,\"type\":\"scattergeo\"},{\"lat\":[41.979595,33.82921556],\"line\":{\"color\":\"red\",\"width\":1},\"locationmode\":\"USA-states\",\"lon\":[-87.90446417,-116.5062531],\"mode\":\"lines\",\"opacity\":0.0700218818380744,\"type\":\"scattergeo\"},{\"lat\":[32.89595056,35.87763889],\"line\":{\"color\":\"red\",\"width\":1},\"locationmode\":\"USA-states\",\"lon\":[-97.0372,-78.78747222],\"mode\":\"lines\",\"opacity\":0.3041575492341357,\"type\":\"scattergeo\"},{\"lat\":[25.79325,35.87763889],\"line\":{\"color\":\"red\",\"width\":1},\"locationmode\":\"USA-states\",\"lon\":[-80.29055556,-78.78747222],\"mode\":\"lines\",\"opacity\":0.1838074398249453,\"type\":\"scattergeo\"},{\"lat\":[32.89595056,26.53616667],\"line\":{\"color\":\"red\",\"width\":1},\"locationmode\":\"USA-states\",\"lon\":[-97.0372,-81.75516667],\"mode\":\"lines\",\"opacity\":0.1838074398249453,\"type\":\"scattergeo\"},{\"lat\":[41.979595,26.53616667],\"line\":{\"color\":\"red\",\"width\":1},\"locationmode\":\"USA-states\",\"lon\":[-87.90446417,-81.75516667],\"mode\":\"lines\",\"opacity\":0.1838074398249453,\"type\":\"scattergeo\"},{\"lat\":[40.63975111,32.73355611],\"line\":{\"color\":\"red\",\"width\":1},\"locationmode\":\"USA-states\",\"lon\":[-73.77892556,-117.1896567],\"mode\":\"lines\",\"opacity\":0.061269146608315096,\"type\":\"scattergeo\"},{\"lat\":[32.89595056,47.44898194],\"line\":{\"color\":\"red\",\"width\":1},\"locationmode\":\"USA-states\",\"lon\":[-97.0372,-122.3093131],\"mode\":\"lines\",\"opacity\":0.4288840262582057,\"type\":\"scattergeo\"},{\"lat\":[41.979595,47.44898194],\"line\":{\"color\":\"red\",\"width\":1},\"locationmode\":\"USA-states\",\"lon\":[-87.90446417,-122.3093131],\"mode\":\"lines\",\"opacity\":0.23413566739606126,\"type\":\"scattergeo\"},{\"lat\":[21.31869111,37.61900194],\"line\":{\"color\":\"red\",\"width\":1},\"locationmode\":\"USA-states\",\"lon\":[-157.9224072,-122.3748433],\"mode\":\"lines\",\"opacity\":0.061269146608315096,\"type\":\"scattergeo\"},{\"lat\":[33.94253611,37.61900194],\"line\":{\"color\":\"red\",\"width\":1},\"locationmode\":\"USA-states\",\"lon\":[-118.4080744,-122.3748433],\"mode\":\"lines\",\"opacity\":0.3676148796498906,\"type\":\"scattergeo\"},{\"lat\":[41.979595,37.61900194],\"line\":{\"color\":\"red\",\"width\":1},\"locationmode\":\"USA-states\",\"lon\":[-87.90446417,-122.3748433],\"mode\":\"lines\",\"opacity\":0.35667396061269147,\"type\":\"scattergeo\"},{\"lat\":[32.89595056,18.43941667],\"line\":{\"color\":\"red\",\"width\":1},\"locationmode\":\"USA-states\",\"lon\":[-97.0372,-66.00183333],\"mode\":\"lines\",\"opacity\":0.13129102844638948,\"type\":\"scattergeo\"},{\"lat\":[38.94453194,18.43941667],\"line\":{\"color\":\"red\",\"width\":1},\"locationmode\":\"USA-states\",\"lon\":[-77.45580972,-66.00183333],\"mode\":\"lines\",\"opacity\":0.061269146608315096,\"type\":\"scattergeo\"},{\"lat\":[40.63975111,18.43941667],\"line\":{\"color\":\"red\",\"width\":1},\"locationmode\":\"USA-states\",\"lon\":[-73.77892556,-66.00183333],\"mode\":\"lines\",\"opacity\":0.1838074398249453,\"type\":\"scattergeo\"},{\"lat\":[33.94253611,18.43941667],\"line\":{\"color\":\"red\",\"width\":1},\"locationmode\":\"USA-states\",\"lon\":[-118.4080744,-66.00183333],\"mode\":\"lines\",\"opacity\":0.0175054704595186,\"type\":\"scattergeo\"},{\"lat\":[32.89595056,38.69542167],\"line\":{\"color\":\"red\",\"width\":1},\"locationmode\":\"USA-states\",\"lon\":[-97.0372,-121.5907669],\"mode\":\"lines\",\"opacity\":0.24507658643326038,\"type\":\"scattergeo\"},{\"lat\":[32.89595056,33.67565861],\"line\":{\"color\":\"red\",\"width\":1},\"locationmode\":\"USA-states\",\"lon\":[-97.0372,-117.8682225],\"mode\":\"lines\",\"opacity\":0.6323851203501094,\"type\":\"scattergeo\"},{\"lat\":[41.979595,33.67565861],\"line\":{\"color\":\"red\",\"width\":1},\"locationmode\":\"USA-states\",\"lon\":[-87.90446417,-117.8682225],\"mode\":\"lines\",\"opacity\":0.16630196936542668,\"type\":\"scattergeo\"},{\"lat\":[38.85208333,38.74768694],\"line\":{\"color\":\"red\",\"width\":1},\"locationmode\":\"USA-states\",\"lon\":[-77.03772222,-90.35998972],\"mode\":\"lines\",\"opacity\":0.2188183807439825,\"type\":\"scattergeo\"},{\"lat\":[25.79325,38.74768694],\"line\":{\"color\":\"red\",\"width\":1},\"locationmode\":\"USA-states\",\"lon\":[-80.29055556,-90.35998972],\"mode\":\"lines\",\"opacity\":0.1838074398249453,\"type\":\"scattergeo\"},{\"lat\":[25.79325,18.33730556],\"line\":{\"color\":\"red\",\"width\":1},\"locationmode\":\"USA-states\",\"lon\":[-80.29055556,-64.97336111],\"mode\":\"lines\",\"opacity\":0.12253829321663019,\"type\":\"scattergeo\"},{\"lat\":[25.79325,17.70188889],\"line\":{\"color\":\"red\",\"width\":1},\"locationmode\":\"USA-states\",\"lon\":[-80.29055556,-64.79855556],\"mode\":\"lines\",\"opacity\":0.06783369803063458,\"type\":\"scattergeo\"},{\"lat\":[32.89595056,27.97547222],\"line\":{\"color\":\"red\",\"width\":1},\"locationmode\":\"USA-states\",\"lon\":[-97.0372,-82.53325],\"mode\":\"lines\",\"opacity\":0.4288840262582057,\"type\":\"scattergeo\"},{\"lat\":[25.79325,27.97547222],\"line\":{\"color\":\"red\",\"width\":1},\"locationmode\":\"USA-states\",\"lon\":[-80.29055556,-82.53325],\"mode\":\"lines\",\"opacity\":0.32603938730853393,\"type\":\"scattergeo\"},{\"lat\":[41.979595,27.97547222],\"line\":{\"color\":\"red\",\"width\":1},\"locationmode\":\"USA-states\",\"lon\":[-87.90446417,-82.53325],\"mode\":\"lines\",\"opacity\":0.16411378555798686,\"type\":\"scattergeo\"},{\"lat\":[18.43941667,27.97547222],\"line\":{\"color\":\"red\",\"width\":1},\"locationmode\":\"USA-states\",\"lon\":[-66.00183333,-82.53325],\"mode\":\"lines\",\"opacity\":0.061269146608315096,\"type\":\"scattergeo\"},{\"lat\":[32.89595056,36.19837222],\"line\":{\"color\":\"red\",\"width\":1},\"locationmode\":\"USA-states\",\"lon\":[-97.0372,-95.88824167],\"mode\":\"lines\",\"opacity\":0.42669584245076586,\"type\":\"scattergeo\"},{\"lat\":[32.89595056,32.11608333],\"line\":{\"color\":\"red\",\"width\":1},\"locationmode\":\"USA-states\",\"lon\":[-97.0372,-110.9410278],\"mode\":\"lines\",\"opacity\":0.45842450765864334,\"type\":\"scattergeo\"}],                        {\"geo\":{\"countrycolor\":\"rgb(204, 204, 204)\",\"landcolor\":\"rgb(243, 243, 243)\",\"projection\":{\"type\":\"azimuthal equal area\"},\"scope\":\"north america\",\"showland\":true},\"showlegend\":false,\"template\":{\"data\":{\"bar\":[{\"error_x\":{\"color\":\"#2a3f5f\"},\"error_y\":{\"color\":\"#2a3f5f\"},\"marker\":{\"line\":{\"color\":\"#E5ECF6\",\"width\":0.5},\"pattern\":{\"fillmode\":\"overlay\",\"size\":10,\"solidity\":0.2}},\"type\":\"bar\"}],\"barpolar\":[{\"marker\":{\"line\":{\"color\":\"#E5ECF6\",\"width\":0.5},\"pattern\":{\"fillmode\":\"overlay\",\"size\":10,\"solidity\":0.2}},\"type\":\"barpolar\"}],\"carpet\":[{\"aaxis\":{\"endlinecolor\":\"#2a3f5f\",\"gridcolor\":\"white\",\"linecolor\":\"white\",\"minorgridcolor\":\"white\",\"startlinecolor\":\"#2a3f5f\"},\"baxis\":{\"endlinecolor\":\"#2a3f5f\",\"gridcolor\":\"white\",\"linecolor\":\"white\",\"minorgridcolor\":\"white\",\"startlinecolor\":\"#2a3f5f\"},\"type\":\"carpet\"}],\"choropleth\":[{\"colorbar\":{\"outlinewidth\":0,\"ticks\":\"\"},\"type\":\"choropleth\"}],\"contour\":[{\"colorbar\":{\"outlinewidth\":0,\"ticks\":\"\"},\"colorscale\":[[0.0,\"#0d0887\"],[0.1111111111111111,\"#46039f\"],[0.2222222222222222,\"#7201a8\"],[0.3333333333333333,\"#9c179e\"],[0.4444444444444444,\"#bd3786\"],[0.5555555555555556,\"#d8576b\"],[0.6666666666666666,\"#ed7953\"],[0.7777777777777778,\"#fb9f3a\"],[0.8888888888888888,\"#fdca26\"],[1.0,\"#f0f921\"]],\"type\":\"contour\"}],\"contourcarpet\":[{\"colorbar\":{\"outlinewidth\":0,\"ticks\":\"\"},\"type\":\"contourcarpet\"}],\"heatmap\":[{\"colorbar\":{\"outlinewidth\":0,\"ticks\":\"\"},\"colorscale\":[[0.0,\"#0d0887\"],[0.1111111111111111,\"#46039f\"],[0.2222222222222222,\"#7201a8\"],[0.3333333333333333,\"#9c179e\"],[0.4444444444444444,\"#bd3786\"],[0.5555555555555556,\"#d8576b\"],[0.6666666666666666,\"#ed7953\"],[0.7777777777777778,\"#fb9f3a\"],[0.8888888888888888,\"#fdca26\"],[1.0,\"#f0f921\"]],\"type\":\"heatmap\"}],\"heatmapgl\":[{\"colorbar\":{\"outlinewidth\":0,\"ticks\":\"\"},\"colorscale\":[[0.0,\"#0d0887\"],[0.1111111111111111,\"#46039f\"],[0.2222222222222222,\"#7201a8\"],[0.3333333333333333,\"#9c179e\"],[0.4444444444444444,\"#bd3786\"],[0.5555555555555556,\"#d8576b\"],[0.6666666666666666,\"#ed7953\"],[0.7777777777777778,\"#fb9f3a\"],[0.8888888888888888,\"#fdca26\"],[1.0,\"#f0f921\"]],\"type\":\"heatmapgl\"}],\"histogram\":[{\"marker\":{\"pattern\":{\"fillmode\":\"overlay\",\"size\":10,\"solidity\":0.2}},\"type\":\"histogram\"}],\"histogram2d\":[{\"colorbar\":{\"outlinewidth\":0,\"ticks\":\"\"},\"colorscale\":[[0.0,\"#0d0887\"],[0.1111111111111111,\"#46039f\"],[0.2222222222222222,\"#7201a8\"],[0.3333333333333333,\"#9c179e\"],[0.4444444444444444,\"#bd3786\"],[0.5555555555555556,\"#d8576b\"],[0.6666666666666666,\"#ed7953\"],[0.7777777777777778,\"#fb9f3a\"],[0.8888888888888888,\"#fdca26\"],[1.0,\"#f0f921\"]],\"type\":\"histogram2d\"}],\"histogram2dcontour\":[{\"colorbar\":{\"outlinewidth\":0,\"ticks\":\"\"},\"colorscale\":[[0.0,\"#0d0887\"],[0.1111111111111111,\"#46039f\"],[0.2222222222222222,\"#7201a8\"],[0.3333333333333333,\"#9c179e\"],[0.4444444444444444,\"#bd3786\"],[0.5555555555555556,\"#d8576b\"],[0.6666666666666666,\"#ed7953\"],[0.7777777777777778,\"#fb9f3a\"],[0.8888888888888888,\"#fdca26\"],[1.0,\"#f0f921\"]],\"type\":\"histogram2dcontour\"}],\"mesh3d\":[{\"colorbar\":{\"outlinewidth\":0,\"ticks\":\"\"},\"type\":\"mesh3d\"}],\"parcoords\":[{\"line\":{\"colorbar\":{\"outlinewidth\":0,\"ticks\":\"\"}},\"type\":\"parcoords\"}],\"pie\":[{\"automargin\":true,\"type\":\"pie\"}],\"scatter\":[{\"marker\":{\"colorbar\":{\"outlinewidth\":0,\"ticks\":\"\"}},\"type\":\"scatter\"}],\"scatter3d\":[{\"line\":{\"colorbar\":{\"outlinewidth\":0,\"ticks\":\"\"}},\"marker\":{\"colorbar\":{\"outlinewidth\":0,\"ticks\":\"\"}},\"type\":\"scatter3d\"}],\"scattercarpet\":[{\"marker\":{\"colorbar\":{\"outlinewidth\":0,\"ticks\":\"\"}},\"type\":\"scattercarpet\"}],\"scattergeo\":[{\"marker\":{\"colorbar\":{\"outlinewidth\":0,\"ticks\":\"\"}},\"type\":\"scattergeo\"}],\"scattergl\":[{\"marker\":{\"colorbar\":{\"outlinewidth\":0,\"ticks\":\"\"}},\"type\":\"scattergl\"}],\"scattermapbox\":[{\"marker\":{\"colorbar\":{\"outlinewidth\":0,\"ticks\":\"\"}},\"type\":\"scattermapbox\"}],\"scatterpolar\":[{\"marker\":{\"colorbar\":{\"outlinewidth\":0,\"ticks\":\"\"}},\"type\":\"scatterpolar\"}],\"scatterpolargl\":[{\"marker\":{\"colorbar\":{\"outlinewidth\":0,\"ticks\":\"\"}},\"type\":\"scatterpolargl\"}],\"scatterternary\":[{\"marker\":{\"colorbar\":{\"outlinewidth\":0,\"ticks\":\"\"}},\"type\":\"scatterternary\"}],\"surface\":[{\"colorbar\":{\"outlinewidth\":0,\"ticks\":\"\"},\"colorscale\":[[0.0,\"#0d0887\"],[0.1111111111111111,\"#46039f\"],[0.2222222222222222,\"#7201a8\"],[0.3333333333333333,\"#9c179e\"],[0.4444444444444444,\"#bd3786\"],[0.5555555555555556,\"#d8576b\"],[0.6666666666666666,\"#ed7953\"],[0.7777777777777778,\"#fb9f3a\"],[0.8888888888888888,\"#fdca26\"],[1.0,\"#f0f921\"]],\"type\":\"surface\"}],\"table\":[{\"cells\":{\"fill\":{\"color\":\"#EBF0F8\"},\"line\":{\"color\":\"white\"}},\"header\":{\"fill\":{\"color\":\"#C8D4E3\"},\"line\":{\"color\":\"white\"}},\"type\":\"table\"}]},\"layout\":{\"annotationdefaults\":{\"arrowcolor\":\"#2a3f5f\",\"arrowhead\":0,\"arrowwidth\":1},\"autotypenumbers\":\"strict\",\"coloraxis\":{\"colorbar\":{\"outlinewidth\":0,\"ticks\":\"\"}},\"colorscale\":{\"diverging\":[[0,\"#8e0152\"],[0.1,\"#c51b7d\"],[0.2,\"#de77ae\"],[0.3,\"#f1b6da\"],[0.4,\"#fde0ef\"],[0.5,\"#f7f7f7\"],[0.6,\"#e6f5d0\"],[0.7,\"#b8e186\"],[0.8,\"#7fbc41\"],[0.9,\"#4d9221\"],[1,\"#276419\"]],\"sequential\":[[0.0,\"#0d0887\"],[0.1111111111111111,\"#46039f\"],[0.2222222222222222,\"#7201a8\"],[0.3333333333333333,\"#9c179e\"],[0.4444444444444444,\"#bd3786\"],[0.5555555555555556,\"#d8576b\"],[0.6666666666666666,\"#ed7953\"],[0.7777777777777778,\"#fb9f3a\"],[0.8888888888888888,\"#fdca26\"],[1.0,\"#f0f921\"]],\"sequentialminus\":[[0.0,\"#0d0887\"],[0.1111111111111111,\"#46039f\"],[0.2222222222222222,\"#7201a8\"],[0.3333333333333333,\"#9c179e\"],[0.4444444444444444,\"#bd3786\"],[0.5555555555555556,\"#d8576b\"],[0.6666666666666666,\"#ed7953\"],[0.7777777777777778,\"#fb9f3a\"],[0.8888888888888888,\"#fdca26\"],[1.0,\"#f0f921\"]]},\"colorway\":[\"#636efa\",\"#EF553B\",\"#00cc96\",\"#ab63fa\",\"#FFA15A\",\"#19d3f3\",\"#FF6692\",\"#B6E880\",\"#FF97FF\",\"#FECB52\"],\"font\":{\"color\":\"#2a3f5f\"},\"geo\":{\"bgcolor\":\"white\",\"lakecolor\":\"white\",\"landcolor\":\"#E5ECF6\",\"showlakes\":true,\"showland\":true,\"subunitcolor\":\"white\"},\"hoverlabel\":{\"align\":\"left\"},\"hovermode\":\"closest\",\"mapbox\":{\"style\":\"light\"},\"paper_bgcolor\":\"white\",\"plot_bgcolor\":\"#E5ECF6\",\"polar\":{\"angularaxis\":{\"gridcolor\":\"white\",\"linecolor\":\"white\",\"ticks\":\"\"},\"bgcolor\":\"#E5ECF6\",\"radialaxis\":{\"gridcolor\":\"white\",\"linecolor\":\"white\",\"ticks\":\"\"}},\"scene\":{\"xaxis\":{\"backgroundcolor\":\"#E5ECF6\",\"gridcolor\":\"white\",\"gridwidth\":2,\"linecolor\":\"white\",\"showbackground\":true,\"ticks\":\"\",\"zerolinecolor\":\"white\"},\"yaxis\":{\"backgroundcolor\":\"#E5ECF6\",\"gridcolor\":\"white\",\"gridwidth\":2,\"linecolor\":\"white\",\"showbackground\":true,\"ticks\":\"\",\"zerolinecolor\":\"white\"},\"zaxis\":{\"backgroundcolor\":\"#E5ECF6\",\"gridcolor\":\"white\",\"gridwidth\":2,\"linecolor\":\"white\",\"showbackground\":true,\"ticks\":\"\",\"zerolinecolor\":\"white\"}},\"shapedefaults\":{\"line\":{\"color\":\"#2a3f5f\"}},\"ternary\":{\"aaxis\":{\"gridcolor\":\"white\",\"linecolor\":\"white\",\"ticks\":\"\"},\"baxis\":{\"gridcolor\":\"white\",\"linecolor\":\"white\",\"ticks\":\"\"},\"bgcolor\":\"#E5ECF6\",\"caxis\":{\"gridcolor\":\"white\",\"linecolor\":\"white\",\"ticks\":\"\"}},\"title\":{\"x\":0.05},\"xaxis\":{\"automargin\":true,\"gridcolor\":\"white\",\"linecolor\":\"white\",\"ticks\":\"\",\"title\":{\"standoff\":15},\"zerolinecolor\":\"white\",\"zerolinewidth\":2},\"yaxis\":{\"automargin\":true,\"gridcolor\":\"white\",\"linecolor\":\"white\",\"ticks\":\"\",\"title\":{\"standoff\":15},\"zerolinecolor\":\"white\",\"zerolinewidth\":2}}},\"title\":{\"text\":\"Feb. 2011 American Airline flight paths<br>(Hover for airport names)\"}},                        {\"responsive\": true}                    ).then(function(){\n",
       "                            \n",
       "var gd = document.getElementById('6f4e7191-622c-4067-aac1-852de8297eab');\n",
       "var x = new MutationObserver(function (mutations, observer) {{\n",
       "        var display = window.getComputedStyle(gd).display;\n",
       "        if (!display || display === 'none') {{\n",
       "            console.log([gd, 'removed!']);\n",
       "            Plotly.purge(gd);\n",
       "            observer.disconnect();\n",
       "        }}\n",
       "}});\n",
       "\n",
       "// Listen for the removal of the full notebook cells\n",
       "var notebookContainer = gd.closest('#notebook-container');\n",
       "if (notebookContainer) {{\n",
       "    x.observe(notebookContainer, {childList: true});\n",
       "}}\n",
       "\n",
       "// Listen for the clearing of the current output cell\n",
       "var outputEl = gd.closest('.output');\n",
       "if (outputEl) {{\n",
       "    x.observe(outputEl, {childList: true});\n",
       "}}\n",
       "\n",
       "                        })                };                });            </script>        </div>"
      ]
     },
     "metadata": {},
     "output_type": "display_data"
    }
   ],
   "source": [
    "import plotly.graph_objects as go\n",
    "import pandas as pd\n",
    "\n",
    "df_airports = pd.read_csv('https://raw.githubusercontent.com/plotly/datasets/master/2011_february_us_airport_traffic.csv')\n",
    "df_airports.head()\n",
    "\n",
    "df_flight_paths = pd.read_csv('https://raw.githubusercontent.com/plotly/datasets/master/2011_february_aa_flight_paths.csv')\n",
    "df_flight_paths.head()\n",
    "\n",
    "fig = go.Figure()\n",
    "\n",
    "fig.add_trace(go.Scattergeo(\n",
    "    locationmode = 'USA-states',\n",
    "    lon = df_airports['long'],\n",
    "    lat = df_airports['lat'],\n",
    "    hoverinfo = 'text',\n",
    "    text = df_airports['airport'],\n",
    "    mode = 'markers',\n",
    "    marker = dict(\n",
    "        size = 2,\n",
    "        color = 'rgb(255, 0, 0)',\n",
    "        line = dict(\n",
    "            width = 3,\n",
    "            color = 'rgba(68, 68, 68, 0)'\n",
    "        )\n",
    "    )))\n",
    "\n",
    "flight_paths = []\n",
    "for i in range(len(df_flight_paths)):\n",
    "    fig.add_trace(\n",
    "        go.Scattergeo(\n",
    "            locationmode = 'USA-states',\n",
    "            lon = [df_flight_paths['start_lon'][i], df_flight_paths['end_lon'][i]],\n",
    "            lat = [df_flight_paths['start_lat'][i], df_flight_paths['end_lat'][i]],\n",
    "            mode = 'lines',\n",
    "            line = dict(width = 1,color = 'red'),\n",
    "            opacity = float(df_flight_paths['cnt'][i]) / float(df_flight_paths['cnt'].max()),\n",
    "        )\n",
    "    )\n",
    "\n",
    "fig.update_layout(\n",
    "    title_text = 'Feb. 2011 American Airline flight paths<br>(Hover for airport names)',\n",
    "    showlegend = False,\n",
    "    geo = dict(\n",
    "        scope = 'north america',\n",
    "        projection_type = 'azimuthal equal area',\n",
    "        showland = True,\n",
    "        landcolor = 'rgb(243, 243, 243)',\n",
    "        countrycolor = 'rgb(204, 204, 204)',\n",
    "    ),\n",
    ")\n",
    "\n",
    "fig.show()"
   ]
  },
  {
   "cell_type": "code",
   "execution_count": null,
   "metadata": {},
   "outputs": [],
   "source": []
  }
 ],
 "metadata": {
  "kernelspec": {
   "display_name": "Python 3 (ipykernel)",
   "language": "python",
   "name": "python3"
  },
  "language_info": {
   "codemirror_mode": {
    "name": "ipython",
    "version": 3
   },
   "file_extension": ".py",
   "mimetype": "text/x-python",
   "name": "python",
   "nbconvert_exporter": "python",
   "pygments_lexer": "ipython3",
   "version": "3.8.12"
  }
 },
 "nbformat": 4,
 "nbformat_minor": 4
}
